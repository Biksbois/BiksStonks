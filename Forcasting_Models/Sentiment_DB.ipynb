{
 "cells": [
  {
   "cell_type": "code",
   "execution_count": 6,
   "metadata": {},
   "outputs": [],
   "source": [
    "import utils.DatasetAccess as db_access\n",
    "import utils.arguments as arg\n",
    "import pandas as pd\n",
    "import utils.Pruning as pruning\n",
    "\n"
   ]
  },
  {
   "cell_type": "code",
   "execution_count": 7,
   "metadata": {},
   "outputs": [],
   "source": [
    "def get_data(arguments, connection, from_date, to_date):\n",
    "    attribute_name = \"\"\n",
    "    attribute_value = \"\"\n",
    "\n",
    "    primary_category = db_access.get_primay_category(connection)\n",
    "    secondary_category = db_access.get_secondary_category(connection)\n",
    "    company_id = db_access.get_companyid(connection)\n",
    "\n",
    "    if False:\n",
    "        if ensure_valid_values(\n",
    "            arguments.primarycategory, primary_category, \"primary category\"\n",
    "        ):\n",
    "            print(\n",
    "                f\"Models will be trained on companies with primary category in {arguments.primarycategory}\"\n",
    "            )\n",
    "            attribute_name = \"primarycategory\"\n",
    "            attribute_value = [f\"'{x}'\" for x in arguments.primarycategory]\n",
    "\n",
    "    elif False:\n",
    "        if ensure_valid_values(\n",
    "            arguments.secondarycategory, secondary_category, \"secondary category\"\n",
    "        ):\n",
    "            print(\n",
    "                f\"Models will be trained on companies with secondary category in {arguments.secondarycategory}\"\n",
    "            )\n",
    "            attribute_name = \"secondarycategory\"\n",
    "            attribute_value = [f\"'{x}'\" for x in arguments.secondarycategory]\n",
    "\n",
    "    elif True:\n",
    "        if ensure_valid_values(\n",
    "            [int(x) for x in [15515]], company_id, \"companyid\"\n",
    "        ):\n",
    "            print(\n",
    "                f\"Models will be trained on companies with company id in {[15515]}\"\n",
    "            )\n",
    "            attribute_name = \"identifier\"\n",
    "            attribute_value = [15515]\n",
    "\n",
    "    else:\n",
    "        print(\"No information was provided. No models will be trained.\")\n",
    "        return pd.DataFrame()\n",
    "\n",
    "    data = db_access.get_data_for_attribute(\n",
    "        attribute_name,\n",
    "        attribute_value,\n",
    "        connection,\n",
    "        \"T\",\n",
    "        from_time=from_date,\n",
    "        to_time=to_date,\n",
    "    )\n",
    "\n",
    "    data = [\n",
    "        d\n",
    "        for d in data\n",
    "        if pruning.is_there_enough_points(\n",
    "            from_date, to_date, d.data.shape[0], 0.7, arguments.timeunit\n",
    "        )\n",
    "    ]\n",
    "\n",
    "    # data = [d for d in data if len(d.data) > 1000]\n",
    "\n",
    "    if arguments.limit and len(data) > arguments.limit:\n",
    "        print(\n",
    "            \"Data is too large. Only the first {} rows will be used.\".format(\n",
    "                arguments.limit\n",
    "            )\n",
    "        )\n",
    "        data = data[: arguments.limit]\n",
    "    else:\n",
    "        print(f\"Data is {len(data)} rows long.\")\n",
    "\n",
    "    print(f\"-----------------------------------------------\")\n",
    "    print(f\"------ Introducint {len(data)} companies ------\")\n",
    "    print(f\"-----------------------------------------------\")\n",
    "\n",
    "    for company in data:\n",
    "        print(f\"  - {company.name}, ({company.id}, {company.data.shape})\")\n",
    "\n",
    "    return data\n",
    "def ensure_valid_values(input_values, actual_values, value_type):\n",
    "    for value in input_values:\n",
    "        if not value in actual_values:\n",
    "            raise Exception(f\"Value '{value}' is not a valid {value_type}\")\n",
    "    return True"
   ]
  },
  {
   "cell_type": "code",
   "execution_count": 28,
   "metadata": {},
   "outputs": [
    {
     "name": "stderr",
     "output_type": "stream",
     "text": [
      "usage: ipykernel_launcher.py [-h] [--model {all,fb,informer,lstm,arima}]\n",
      "                             [--primarycategory PRIMARYCATEGORY [PRIMARYCATEGORY ...]]\n",
      "                             [--secondarycategory SECONDARYCATEGORY [SECONDARYCATEGORY ...]]\n",
      "                             [--limit LIMIT] [--use_args USE_ARGS]\n",
      "                             [--save_data SAVE_DATA]\n",
      "                             [--companyid COMPANYID [COMPANYID ...]]\n",
      "                             [--timeunit TIMEUNIT] [--time TIME]\n",
      "                             [--seasonality_mode SEASONALITY_MODE]\n",
      "                             [--yearly_seasonality YEARLY_SEASONALITY]\n",
      "                             [--weekly_seasonality WEEKLY_SEASONALITY]\n",
      "                             [--daily_seasonality DAILY_SEASONALITY]\n",
      "                             [--include_history INCLUDE_HISTORY]\n",
      "                             [--horizon HORIZON] [--period PERIOD]\n",
      "                             [--initial INITIAL]\n",
      "                             [--use_sentiment USE_SENTIMENT]\n",
      "                             [--columns COLUMNS [COLUMNS ...]]\n",
      "ipykernel_launcher.py: error: unrecognized arguments: --ip=127.0.0.1 --stdin=9008 --control=9006 --hb=9005 --Session.signature_scheme=\"hmac-sha256\" --Session.key=b\"9a42f044-36b6-49af-b1e2-687e5165b054\" --shell=9007 --transport=\"tcp\" --iopub=9009 --f=C:\\Users\\Jeppe\\AppData\\Local\\Temp\\tmp-5996957jEEUicJU4.json\n"
     ]
    },
    {
     "ename": "SystemExit",
     "evalue": "2",
     "output_type": "error",
     "traceback": [
      "An exception has occurred, use %tb to see the full traceback.\n",
      "\u001b[1;31mSystemExit\u001b[0m\u001b[1;31m:\u001b[0m 2\n"
     ]
    }
   ],
   "source": [
    "from_date = \"2021-11-20 00:00:00\"\n",
    "to_date = \"2021-12-31 23:59:59\"\n",
    "connection = db_access.get_connection()\n",
    "\n",
    "data = get_data(arguments, connection, from_date, to_date)"
   ]
  }
 ],
 "metadata": {
  "interpreter": {
   "hash": "d5f817f64297d6161d9a4f0c22466f8c335e5fbf069e9016e16f0d0b5102288b"
  },
  "kernelspec": {
   "display_name": "Python 3.10.3 ('Stonk')",
   "language": "python",
   "name": "python3"
  },
  "language_info": {
   "codemirror_mode": {
    "name": "ipython",
    "version": 3
   },
   "file_extension": ".py",
   "mimetype": "text/x-python",
   "name": "python",
   "nbconvert_exporter": "python",
   "pygments_lexer": "ipython3",
   "version": "3.10.3"
  },
  "orig_nbformat": 4
 },
 "nbformat": 4,
 "nbformat_minor": 2
}
