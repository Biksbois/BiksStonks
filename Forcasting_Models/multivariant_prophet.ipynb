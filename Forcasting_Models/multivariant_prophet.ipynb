{
 "cells": [
  {
   "cell_type": "code",
   "execution_count": null,
   "metadata": {},
   "outputs": [],
   "source": [
    "import pandas as pd\n",
    "import numpy as np\n",
    "import matplotlib.pyplot as plt\n",
    "import seaborn as sns\n",
    "import psycopg2 as pg\n",
    "import datetime\n",
    "from fbprophet import Prophet\n",
    "from fbprophet.diagnostics import cross_validation, performance_metrics\n",
    "from fbprophet.plot import plot_cross_validation_metric\n",
    "import time\n",
    "from sklearn.metrics import mean_squared_error\n",
    "from matplotlib import dates as mdates\n",
    "import warnings\n",
    "warnings.simplefilter(action='ignore', category=FutureWarning)\n",
    "\n",
    "import statsmodels.api as sm\n",
    "from statsmodels.tsa.seasonal import seasonal_decompose\n",
    "from pandas.plotting import register_matplotlib_converters\n",
    "register_matplotlib_converters()\n",
    "plt.style.use(\"ggplot\")\n",
    "\n",
    "import utils.settings_utils as settings\n",
    "import utils.DatasetAccess as db_access\n",
    "import utils.preprocess as preprocess\n",
    "import utils.prophet_experiment as exp"
   ]
  },
  {
   "cell_type": "code",
   "execution_count": null,
   "metadata": {},
   "outputs": [],
   "source": [
    "conn = pg.connect(database=settings.get_database(), user=settings.get_user(), password=settings.get_pasword())"
   ]
  },
  {
   "cell_type": "code",
   "execution_count": null,
   "metadata": {},
   "outputs": [],
   "source": [
    "time_limit='2000-01-01 00:00:00'\n",
    "company_id = 15611\n",
    "time_unit = 'H'"
   ]
  },
  {
   "cell_type": "code",
   "execution_count": null,
   "metadata": {},
   "outputs": [],
   "source": [
    "ds = db_access.get_data_for_datasetid(company_id, conn, time_unit, time=time_limit)\n",
    "ds = preprocess.rename_dataset_columns(ds)\n",
    "ds =ds.rename(columns={\"close\":\"y\"})\n",
    "ds.head()"
   ]
  }
 ],
 "metadata": {
  "interpreter": {
   "hash": "f2e63f80172e54c7b57e5264f14d8a10edb20a8c85a4f62fdc045e21ec6668fc"
  },
  "kernelspec": {
   "display_name": "Python 3.8.10 ('stonkenv': venv)",
   "language": "python",
   "name": "python3"
  },
  "language_info": {
   "name": "python",
   "version": "3.8.10"
  },
  "orig_nbformat": 4
 },
 "nbformat": 4,
 "nbformat_minor": 2
}
