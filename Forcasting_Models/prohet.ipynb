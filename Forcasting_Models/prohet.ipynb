{
 "cells": [
  {
   "cell_type": "markdown",
   "metadata": {},
   "source": [
    "# Time series forecasting with Prophet"
   ]
  },
  {
   "cell_type": "markdown",
   "metadata": {},
   "source": [
    "## Motivation\n",
    "\n",
    "Prophet is a Python library for time series forecasting. It is a predictive model that can be used to predict future values of time series data. It is a general purpose forecasting library that can be used for many different types of time series data. It can be used to predict the future values of time series data, such as stock prices, sales, or any other time series data.\n",
    "\n",
    "Not all for"
   ]
  },
  {
   "cell_type": "markdown",
   "metadata": {},
   "source": [
    "## Basics\n",
    "\n",
    "In prophet, there are three main components:\n",
    "$$y_t = g(t) + s(t) + h(t) + \\epsilon _t$$\n",
    "\n",
    "where: \n",
    "1. $g(t)$ is the trend component, which is a linear function of the past $t$ time points.\n",
    "2. $s(t)$ is the seasonal component, which is a sinusoidal function of the past $t$ time points.\n",
    "3. $h(t)$ is the holiday component, which is a linear function of the past $t$ time points.\n",
    "\n",
    "$\\epsilon _t$ is the noise component, which is a random variable with a normal distribution."
   ]
  },
  {
   "cell_type": "markdown",
   "metadata": {},
   "source": [
    "### Trend $g(t)$\n",
    "\n",
    "Two types of trend components are available in prophet: \n",
    "1. Linear trend, which is a linear function of the past $t$ time points.\n",
    "2. A simpler version of the linear trend, which is a linear function of the past $t$ time points, with a constant offset.\n",
    "\n",
    "### Seasonal $s(t)$\n",
    "\n",
    "The seasonal component is modeled using a Fourier series. The Fourier series is a polynomial function of the past $t$ time points.\n",
    "\n",
    "$$s(t) = \\sum_{n=1}^N \\left(a_n cos \\frac{(2 \\pi n t)}{P} + b_n sin \\frac{(2 \\pi n t)}{P} \\right)$$\n",
    "\n",
    "where, \n",
    "1. $N$ is the number of terms in the Fourier series. (N can be thought of as a way of increasing the sensitivity of our seasonality model. As we increase N, we allow for the model to capture more seasonal changes)\n",
    "2. $P$ is the period of the seasonal component. (for yearly P = 365)\n",
    "3. $a_n$ and $b_n$ are the coefficients of the Fourier series.\n",
    "\n",
    "### Holiday $h(t)$\n",
    "\n",
    "The last component is the holiday component. If we pass a list of holidays to the model, for each holiday i we let Di be the set of past and future dates for those holidays. Those holidays are incorporated as vectors of indicator functions (ie. for each time t in our data set, it has a 1 for each holiday occurring on that day, and a bunch of zeroes). These vectors should be very sparse.\n",
    "\n",
    "$$h(t) = [1(t \\in D_1), \\dots , 1 (t \\in D_L)$$\n",
    "\n"
   ]
  },
  {
   "cell_type": "code",
   "execution_count": 1,
   "metadata": {},
   "outputs": [
    {
     "name": "stderr",
     "output_type": "stream",
     "text": [
      "Importing plotly failed. Interactive plots will not work.\n"
     ]
    }
   ],
   "source": [
    "import pandas as pd\n",
    "import numpy as np\n",
    "import matplotlib.pyplot as plt\n",
    "import seaborn as sns\n",
    "import psycopg2 as pg\n",
    "import datetime\n",
    "from fbprophet import Prophet\n",
    "from fbprophet.diagnostics import cross_validation, performance_metrics\n",
    "from fbprophet.plot import plot_cross_validation_metric\n",
    "\n",
    "import warnings\n",
    "warnings.simplefilter(action='ignore', category=FutureWarning)\n",
    "\n",
    "from statsmodels.tsa.seasonal import seasonal_decompose\n",
    "from pandas.plotting import register_matplotlib_converters\n",
    "register_matplotlib_converters()\n",
    "plt.style.use(\"ggplot\")\n",
    "\n",
    "import utils.settings_utils as settings\n",
    "import utils.DatasetAccess as db_access\n",
    "import utils.preprocess as preprocess\n",
    "import utils.prophet_experiment as exp"
   ]
  },
  {
   "cell_type": "code",
   "execution_count": 2,
   "metadata": {},
   "outputs": [
    {
     "name": "stderr",
     "output_type": "stream",
     "text": [
      "c:\\Users\\Stonker69\\Documents\\GitHub\\BiksStonks\\Forcasting_Models\\stonkenv\\lib\\site-packages\\pandas\\io\\sql.py:761: UserWarning: pandas only support SQLAlchemy connectable(engine/connection) ordatabase string URI or sqlite3 DBAPI2 connectionother DBAPI2 objects are not tested, please consider using SQLAlchemy\n",
      "  warnings.warn(\n"
     ]
    },
    {
     "data": {
      "text/html": [
       "<div>\n",
       "<style scoped>\n",
       "    .dataframe tbody tr th:only-of-type {\n",
       "        vertical-align: middle;\n",
       "    }\n",
       "\n",
       "    .dataframe tbody tr th {\n",
       "        vertical-align: top;\n",
       "    }\n",
       "\n",
       "    .dataframe thead th {\n",
       "        text-align: right;\n",
       "    }\n",
       "</style>\n",
       "<table border=\"1\" class=\"dataframe\">\n",
       "  <thead>\n",
       "    <tr style=\"text-align: right;\">\n",
       "      <th></th>\n",
       "      <th>ds</th>\n",
       "      <th>open</th>\n",
       "      <th>high</th>\n",
       "      <th>low</th>\n",
       "      <th>y</th>\n",
       "      <th>volume</th>\n",
       "    </tr>\n",
       "  </thead>\n",
       "  <tbody>\n",
       "    <tr>\n",
       "      <th>0</th>\n",
       "      <td>2020-03-04 10:00:00</td>\n",
       "      <td>108.20</td>\n",
       "      <td>108.45</td>\n",
       "      <td>107.85</td>\n",
       "      <td>108.10</td>\n",
       "      <td>158609.0</td>\n",
       "    </tr>\n",
       "    <tr>\n",
       "      <th>1</th>\n",
       "      <td>2020-03-04 11:00:00</td>\n",
       "      <td>108.20</td>\n",
       "      <td>108.60</td>\n",
       "      <td>108.00</td>\n",
       "      <td>108.25</td>\n",
       "      <td>144596.0</td>\n",
       "    </tr>\n",
       "    <tr>\n",
       "      <th>2</th>\n",
       "      <td>2020-03-04 12:00:00</td>\n",
       "      <td>108.25</td>\n",
       "      <td>108.95</td>\n",
       "      <td>108.00</td>\n",
       "      <td>108.55</td>\n",
       "      <td>214087.0</td>\n",
       "    </tr>\n",
       "    <tr>\n",
       "      <th>3</th>\n",
       "      <td>2020-03-04 13:00:00</td>\n",
       "      <td>108.55</td>\n",
       "      <td>108.55</td>\n",
       "      <td>107.85</td>\n",
       "      <td>107.95</td>\n",
       "      <td>298778.0</td>\n",
       "    </tr>\n",
       "    <tr>\n",
       "      <th>4</th>\n",
       "      <td>2020-03-04 14:00:00</td>\n",
       "      <td>107.95</td>\n",
       "      <td>108.10</td>\n",
       "      <td>106.80</td>\n",
       "      <td>106.95</td>\n",
       "      <td>370810.0</td>\n",
       "    </tr>\n",
       "  </tbody>\n",
       "</table>\n",
       "</div>"
      ],
      "text/plain": [
       "                   ds    open    high     low       y    volume\n",
       "0 2020-03-04 10:00:00  108.20  108.45  107.85  108.10  158609.0\n",
       "1 2020-03-04 11:00:00  108.20  108.60  108.00  108.25  144596.0\n",
       "2 2020-03-04 12:00:00  108.25  108.95  108.00  108.55  214087.0\n",
       "3 2020-03-04 13:00:00  108.55  108.55  107.85  107.95  298778.0\n",
       "4 2020-03-04 14:00:00  107.95  108.10  106.80  106.95  370810.0"
      ]
     },
     "execution_count": 2,
     "metadata": {},
     "output_type": "execute_result"
    }
   ],
   "source": [
    "conn = pg.connect(database=settings.get_database(), user=settings.get_user(), password=settings.get_pasword())\n",
    "\n",
    "def get_preprocessed_dataset(company, interval):\n",
    "    df_d = db_access.get_data_for_datasetid(company, conn, interval)\n",
    "    df_d = preprocess.rename_dataset_columns(df_d)\n",
    "    return df_d\n",
    "\n",
    "test_dataset = get_preprocessed_dataset(15521, 'H')\n",
    "\n",
    "test_dataset.head()"
   ]
  },
  {
   "cell_type": "code",
   "execution_count": 3,
   "metadata": {},
   "outputs": [],
   "source": [
    "# plot close price as a function of time\n",
    "# df_d.plot(x=\"date\", y=\"close\", figsize=(12,6))"
   ]
  },
  {
   "cell_type": "markdown",
   "metadata": {},
   "source": [
    "The plot shows the trend, seasonal, and holiday components.\n",
    "\n",
    "### Training the model"
   ]
  },
  {
   "cell_type": "code",
   "execution_count": 4,
   "metadata": {},
   "outputs": [],
   "source": [
    "def fit_model_with_dataset(df):\n",
    "    model = Prophet()\n",
    "    # short_df = df.head(n)\n",
    "    # train_df = short_df.rename(columns={\"date\":\"ds\", \"close\":\"y\"})\n",
    "\n",
    "    model.fit(df)\n",
    "    return model"
   ]
  },
  {
   "cell_type": "code",
   "execution_count": null,
   "metadata": {},
   "outputs": [],
   "source": []
  },
  {
   "cell_type": "code",
   "execution_count": 5,
   "metadata": {},
   "outputs": [],
   "source": [
    "# cross_validation_model = Prophet()\n",
    "# train_df = df_d.rename(columns={\"date\":\"ds\", \"close\":\"y\"})\n",
    "# cross_validation_model.fit(train_df)\n",
    "\n",
    "def perform_cross_validation_on_horizon(model, horizon, period=None):\n",
    "    if period == None:\n",
    "        return cross_validation(model, horizon=horizon)\n",
    "    else:\n",
    "        return cross_validation(model, horizon=horizon, period=period)\n"
   ]
  },
  {
   "cell_type": "code",
   "execution_count": 6,
   "metadata": {},
   "outputs": [],
   "source": [
    "def get_peformance_metrics(df):\n",
    "    return performance_metrics(df)"
   ]
  },
  {
   "cell_type": "code",
   "execution_count": 7,
   "metadata": {},
   "outputs": [],
   "source": [
    "def populate_df(metric_name, df, metrics, df_columns, name):\n",
    "    std = preprocess.std_on_column(metrics, metric_name)\n",
    "    avg = preprocess.avg_on_column(metrics, metric_name)\n",
    "    min = preprocess.min_on_column(metrics, metric_name)\n",
    "    max = preprocess.max_on_column(metrics, metric_name)\n",
    "    \n",
    "    new_row = [[name, avg, std, min, max]]\n",
    "    \n",
    "    new_df = pd.DataFrame(new_row, columns=df_columns)\n",
    "    df = pd.concat([df, new_df], axis=0)\n",
    "    # df = df.append(new_df)\n",
    "    \n",
    "    return df\n",
    "    "
   ]
  },
  {
   "cell_type": "code",
   "execution_count": 8,
   "metadata": {},
   "outputs": [
    {
     "name": "stdout",
     "output_type": "stream",
     "text": [
      "About to execute for '15 minutes'\n"
     ]
    },
    {
     "name": "stderr",
     "output_type": "stream",
     "text": [
      "c:\\Users\\Stonker69\\Documents\\GitHub\\BiksStonks\\Forcasting_Models\\stonkenv\\lib\\site-packages\\pandas\\io\\sql.py:761: UserWarning: pandas only support SQLAlchemy connectable(engine/connection) ordatabase string URI or sqlite3 DBAPI2 connectionother DBAPI2 objects are not tested, please consider using SQLAlchemy\n",
      "  warnings.warn(\n"
     ]
    }
   ],
   "source": [
    "setups = exp.get_experiments()\n",
    "df_columns = ['name', 'mse_avg', 'mse_std', 'mse_min', 'mse_max']\n",
    "results = pd.DataFrame(columns=df_columns)#, 'mae_avg', 'mae_std', 'mae_min', 'mae_max'])\n",
    "\n",
    "for s in setups:\n",
    "    s.print_setup()\n",
    "    ds = get_preprocessed_dataset(15521, s.time_unit)\n",
    "    model = fit_model_with_dataset(ds)\n",
    "    cross_val = perform_cross_validation_on_horizon(model, s.horizon, s.horizon)\n",
    "    metrics = get_peformance_metrics(cross_val)\n",
    "    results = populate_df('mse', results, metrics, df_columns, s.name)\n",
    "\n",
    "results\n",
    "\n"
   ]
  },
  {
   "cell_type": "code",
   "execution_count": null,
   "metadata": {},
   "outputs": [],
   "source": [
    "\n",
    "\n",
    "# ds.columns"
   ]
  },
  {
   "cell_type": "code",
   "execution_count": null,
   "metadata": {},
   "outputs": [],
   "source": [
    "# df_cv.columns"
   ]
  },
  {
   "cell_type": "code",
   "execution_count": null,
   "metadata": {},
   "outputs": [],
   "source": [
    "# plot_cross_validation_metric(df_cv, metric='mse', rolling_window=0.2)\n"
   ]
  },
  {
   "cell_type": "code",
   "execution_count": null,
   "metadata": {},
   "outputs": [],
   "source": [
    "pd.plotting.register_matplotlib_converters()\n",
    "\n",
    "# # plot the forecast for the next 5 months\n",
    "\n",
    "# future = model.make_future_dataframe(1000, freq=\"H\", include_history=True)\n",
    "\n",
    "# # print(future)\n",
    "\n",
    "\n",
    "\n",
    "\n",
    "# forecast = model.predict(future)\n",
    "# # print(forecast.shape)\n",
    "# # print(forecast)\n",
    "# # # forcasted_values = forecast.tail(1000)\n",
    "# # forcasted_values = forecast.iloc[4009:]\n",
    "# # print(forcasted_values.shape)\n",
    "# # print(forcasted_values.columns)\n",
    "# # print(forcasted_values)\n",
    "# forecast.tail(1000).plot(x='ds', y=['trend', 'trend_lower', 'trend_upper', 'yhat'])\n",
    "# # forcasted_values.plot(x='ds', y=['trend', 'trend_lower', 'trend_upper', 'yhat'])\n",
    "# # print(forcasted_values)\n",
    "# # model.plot(forcasted_values)"
   ]
  }
 ],
 "metadata": {
  "interpreter": {
   "hash": "541490797129a7056db95f02c8affe8d3e112ab2b2a118c936fe9509ec85d0a3"
  },
  "kernelspec": {
   "display_name": "Python 3.10.2 64-bit",
   "language": "python",
   "name": "python3"
  },
  "language_info": {
   "codemirror_mode": {
    "name": "ipython",
    "version": 3
   },
   "file_extension": ".py",
   "mimetype": "text/x-python",
   "name": "python",
   "nbconvert_exporter": "python",
   "pygments_lexer": "ipython3",
   "version": "3.8.10"
  },
  "orig_nbformat": 4
 },
 "nbformat": 4,
 "nbformat_minor": 2
}
