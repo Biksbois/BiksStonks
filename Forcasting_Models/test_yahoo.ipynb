{
 "cells": [
  {
   "cell_type": "code",
   "execution_count": 36,
   "metadata": {},
   "outputs": [],
   "source": [
    "import pandas as pd\n",
    "import yfinance as yf\n",
    "\n",
    "def get_yahoo_finance_data(index_to_download=\"ALL\", start=\"2007-12-13\", end=\"2017-12-12\"):\n",
    "    indeces = [\"SPY\",\"^HSI\",\"^GDAXI\",\"000001.SS\"]\n",
    "    dfs = []\n",
    "\n",
    "    if index_to_download == \"ALL\":\n",
    "        for index in indeces:\n",
    "            dfs.append(yf.download(index, start, end))\n",
    "    else:\n",
    "        dfs.append(yf.download(index_to_download, start, end))\n",
    "\n",
    "    dfs = rename_df_columns(dfs)\n",
    "    return dfs"
   ]
  },
  {
   "cell_type": "code",
   "execution_count": 34,
   "metadata": {},
   "outputs": [
    {
     "name": "stdout",
     "output_type": "stream",
     "text": [
      "[*********************100%***********************]  1 of 1 completed\n",
      "[*********************100%***********************]  1 of 1 completed\n",
      "[*********************100%***********************]  1 of 1 completed\n",
      "        date        Open        High         Low       close   Adj Close  \\\n",
      "0 2007-12-12  151.059998  151.770004  147.199997  149.369995  112.127312   \n",
      "1 2007-12-13  148.320007  149.389999  147.300003  149.059998  111.894623   \n",
      "2 2007-12-14  147.929993  149.100006  147.100006  147.169998  110.475822   \n",
      "3 2007-12-17  146.610001  146.869995  144.860001  145.070007  108.899460   \n",
      "4 2007-12-18  146.100006  146.479996  143.960007  145.880005  109.507484   \n",
      "\n",
      "      Volume  \n",
      "0  322435600  \n",
      "1  237551300  \n",
      "2  159152900  \n",
      "3  177269400  \n",
      "4  245569300  \n",
      "        date          Open          High           Low         close  \\\n",
      "0 2007-12-13  28518.779297  28604.169922  27606.230469  27744.449219   \n",
      "1 2007-12-14  27708.310547  27813.820312  27245.169922  27563.640625   \n",
      "2 2007-12-17  27236.449219  27245.509766  26551.369141  26596.580078   \n",
      "3 2007-12-18  26515.089844  26912.289062  26093.960938  26732.869141   \n",
      "4 2007-12-19  26880.089844  27214.650391  26670.849609  27029.259766   \n",
      "\n",
      "      Adj Close      Volume  \n",
      "0  27744.449219  2962956000  \n",
      "1  27563.640625  2426898000  \n",
      "2  26596.580078  2406723800  \n",
      "3  26732.869141  2245734800  \n",
      "4  27029.259766  1637051800  \n",
      "        date         Open         High          Low        close    Adj Close  \\\n",
      "0 2007-12-13  5078.182129  5095.151855  4954.356934  4958.042969  4958.042969   \n",
      "1 2007-12-14  4899.750000  5011.201172  4860.155762  5007.911133  5007.911133   \n",
      "2 2007-12-17  5007.285156  5007.346191  4874.624023  4876.761230  4876.761230   \n",
      "3 2007-12-18  4856.471191  4905.492188  4812.155762  4836.173828  4836.173828   \n",
      "4 2007-12-19  4878.065918  4960.416992  4868.354004  4941.784180  4941.784180   \n",
      "\n",
      "   Volume  \n",
      "0   67200  \n",
      "1   53000  \n",
      "2   63600  \n",
      "3   40600  \n",
      "4   56200  \n"
     ]
    }
   ],
   "source": [
    "dfs = get_yahoo_finance_data()"
   ]
  },
  {
   "cell_type": "code",
   "execution_count": 15,
   "metadata": {},
   "outputs": [],
   "source": [
    "def rename_df_columns(dfs):\n",
    "    new_dfs = []\n",
    "    for df in dfs:\n",
    "        df = df.reset_index()\n",
    "        df = df.rename(columns={\"Close\": \"close\"})\n",
    "        df = df.rename(columns={\"Date\": \"date\"})\n",
    "        print(df.head())\n",
    "        new_dfs.append(df)\n",
    "    return new_dfs"
   ]
  },
  {
   "cell_type": "code",
   "execution_count": 9,
   "metadata": {},
   "outputs": [
    {
     "name": "stdout",
     "output_type": "stream",
     "text": [
      "        date        Open        High         Low       close   Adj Close  \\\n",
      "0 2007-12-12  151.059998  151.770004  147.199997  149.369995  112.127274   \n",
      "1 2007-12-13  148.320007  149.389999  147.300003  149.059998  111.894623   \n",
      "2 2007-12-14  147.929993  149.100006  147.100006  147.169998  110.475853   \n",
      "3 2007-12-17  146.610001  146.869995  144.860001  145.070007  108.899467   \n",
      "4 2007-12-18  146.100006  146.479996  143.960007  145.880005  109.507484   \n",
      "\n",
      "      Volume  \n",
      "0  322435600  \n",
      "1  237551300  \n",
      "2  159152900  \n",
      "3  177269400  \n",
      "4  245569300  \n"
     ]
    }
   ],
   "source": [
    "dfs[0]\n",
    "df = rename_df_columns(dfs)"
   ]
  },
  {
   "cell_type": "code",
   "execution_count": 16,
   "metadata": {},
   "outputs": [
    {
     "data": {
      "text/plain": [
       "pandas.core.frame.DataFrame"
      ]
     },
     "execution_count": 16,
     "metadata": {},
     "output_type": "execute_result"
    }
   ],
   "source": [
    "type(df[0])"
   ]
  },
  {
   "cell_type": "code",
   "execution_count": 21,
   "metadata": {},
   "outputs": [
    {
     "name": "stdout",
     "output_type": "stream",
     "text": [
      "           date         Open         High          Low        close  \\\n",
      "0    2007-12-13  5078.182129  5095.151855  4954.356934  4958.042969   \n",
      "1    2007-12-14  4899.750000  5011.201172  4860.155762  5007.911133   \n",
      "2    2007-12-17  5007.285156  5007.346191  4874.624023  4876.761230   \n",
      "3    2007-12-18  4856.471191  4905.492188  4812.155762  4836.173828   \n",
      "4    2007-12-19  4878.065918  4960.416992  4868.354004  4941.784180   \n",
      "...         ...          ...          ...          ...          ...   \n",
      "2425 2017-12-05  3301.690918  3315.737061  3300.511963  3303.675049   \n",
      "2426 2017-12-06  3291.312988  3296.200928  3254.611084  3293.965088   \n",
      "2427 2017-12-07  3283.279053  3291.281982  3259.164062  3272.053955   \n",
      "2428 2017-12-08  3264.478027  3297.129883  3258.759033  3289.991943   \n",
      "2429 2017-12-11  3290.488037  3322.674072  3288.294922  3322.196045   \n",
      "\n",
      "        Adj Close  Volume  \n",
      "0     4958.042969   67200  \n",
      "1     5007.911133   53000  \n",
      "2     4876.761230   63600  \n",
      "3     4836.173828   40600  \n",
      "4     4941.784180   56200  \n",
      "...           ...     ...  \n",
      "2425  3303.675049  208300  \n",
      "2426  3293.965088  151600  \n",
      "2427  3272.053955  132100  \n",
      "2428  3289.991943  133200  \n",
      "2429  3322.196045  132000  \n",
      "\n",
      "[2430 rows x 7 columns]\n"
     ]
    }
   ],
   "source": [
    "print(dfs[-1])"
   ]
  },
  {
   "cell_type": "code",
   "execution_count": null,
   "metadata": {},
   "outputs": [],
   "source": [
    "dfs[0]['close'].plot()"
   ]
  }
 ],
 "metadata": {
  "interpreter": {
   "hash": "b89b5cfaba6639976dc87ff2fec6d58faec662063367e2c229c520fe71072417"
  },
  "kernelspec": {
   "display_name": "Python 3.10.2 64-bit",
   "language": "python",
   "name": "python3"
  },
  "language_info": {
   "codemirror_mode": {
    "name": "ipython",
    "version": 3
   },
   "file_extension": ".py",
   "mimetype": "text/x-python",
   "name": "python",
   "nbconvert_exporter": "python",
   "pygments_lexer": "ipython3",
   "version": "3.10.2"
  },
  "orig_nbformat": 4
 },
 "nbformat": 4,
 "nbformat_minor": 2
}
