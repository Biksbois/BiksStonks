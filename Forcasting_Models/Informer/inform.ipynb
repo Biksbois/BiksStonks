{
 "cells": [
  {
   "cell_type": "markdown",
   "metadata": {},
   "source": [
    "# Exploring the Informer model\n",
    "- The components and how it is made\n",
    "<img src='data/informer_arch.png' width=300>"
   ]
  },
  {
   "cell_type": "code",
   "execution_count": 1,
   "metadata": {},
   "outputs": [],
   "source": [
    "import torch\n",
    "import torch.nn as nn \n",
    "import torch.nn.functional as F\n",
    "from torch.utils.data import DataLoader\n",
    "\n",
    "import math\n",
    "import matplotlib.pyplot as plt\n",
    "import numpy as np\n",
    "\n",
    "import pandas as pd\n",
    "from pandas.tseries.frequencies import to_offset\n",
    "\n",
    "from datetime import datetime\n",
    "from data.data_loader import Dataset_Custom"
   ]
  },
  {
   "cell_type": "markdown",
   "metadata": {},
   "source": [
    "## Encoding of the raw timeseries\n",
    "- --> into a representation with temporal encoding embedded into the representation"
   ]
  },
  {
   "cell_type": "code",
   "execution_count": 2,
   "metadata": {},
   "outputs": [],
   "source": [
    "root_path = 'data/'\n",
    "flag = 'train'  \n",
    "seq_len, lbl_len, pred_len = 72, 48, 24\n",
    "size = [seq_len, lbl_len, pred_len]\n",
    "features = 'MS' # Multivariate feautures IN, Single OUT \n",
    "data_path = 'dbank_h.csv'\n",
    "target = 'close'\n",
    "scale = True \n",
    "inverse = False\n",
    "timenc = 0 \n",
    "freq = 'h'\n",
    "train_data = Dataset_Custom(root_path, flag, size, features, data_path, \n",
    "                                          target, scale, inverse, timenc, freq)"
   ]
  },
  {
   "cell_type": "code",
   "execution_count": 3,
   "metadata": {},
   "outputs": [
    {
     "data": {
      "text/plain": [
       "((72, 5), (72, 5), (72, 4), (72, 4))"
      ]
     },
     "execution_count": 3,
     "metadata": {},
     "output_type": "execute_result"
    }
   ],
   "source": [
    "# data is processed by window sliding across it\n",
    "# x will have seq_len length sequence for each of the columns in this case ohlc + vol\n",
    "# y will have the last lbl_len of seq_len + pred_len \n",
    "x, y, x_mark, y_mark = train_data[0]\n",
    "x.shape, y.shape, x_mark.shape, y_mark.shape"
   ]
  },
  {
   "cell_type": "code",
   "execution_count": 4,
   "metadata": {},
   "outputs": [
    {
     "data": {
      "text/plain": [
       "array([[ 3,  9,  0, 15],\n",
       "       [ 3, 10,  1,  8],\n",
       "       [ 3, 10,  1,  9]])"
      ]
     },
     "execution_count": 4,
     "metadata": {},
     "output_type": "execute_result"
    }
   ],
   "source": [
    "# x_mark and y_mark are the the timestamp info\n",
    "# for timenc = 0, no encoding is done, so will have: [month, day, weekday, hour]\n",
    "x_mark[:3]"
   ]
  },
  {
   "cell_type": "code",
   "execution_count": 7,
   "metadata": {},
   "outputs": [
    {
     "data": {
      "text/plain": [
       "array([[ 0.15217391, -0.5       , -0.23333333, -0.31369863],\n",
       "       [-0.15217391, -0.33333333, -0.2       , -0.3109589 ],\n",
       "       [-0.10869565, -0.33333333, -0.2       , -0.3109589 ]])"
      ]
     },
     "execution_count": 7,
     "metadata": {},
     "output_type": "execute_result"
    }
   ],
   "source": [
    "# setting timenc = 1 --> 'timeF' will encode time between -0.5 to 0.5 \n",
    "train_data_enc = Dataset_Custom(root_path, flag, size, features, data_path, \n",
    "                                          target, scale, inverse, 1, freq)\n",
    "x, y, x_mark_e, y_mark_e = train_data_enc[0]\n",
    "x_mark_e[:3]"
   ]
  },
  {
   "cell_type": "code",
   "execution_count": 8,
   "metadata": {},
   "outputs": [
    {
     "data": {
      "text/plain": [
       "tensor([[ 0.1522, -0.5000, -0.2333, -0.4945],\n",
       "        [-0.1522, -0.3333, -0.2000, -0.4945],\n",
       "        [-0.1087, -0.3333, -0.2000, -0.4945]], dtype=torch.float64)"
      ]
     },
     "execution_count": 8,
     "metadata": {},
     "output_type": "execute_result"
    }
   ],
   "source": [
    "# again because freq = 'h' we can see in utils.features.timefeatures \n",
    "# that the time features are encoded as: [Hour of day, day of week, day of month, day of year]\n",
    "# it is encoded to be between -0.5 to 0.5 by following computations:\n",
    "hourOfDay = lambda x: (x[3]/23.0) - 0.5\n",
    "dayOfWeek = lambda x: (x[2]/6) - 0.5\n",
    "dayOfMonth = lambda x: ((x[1] - 1)/30.0) - 0.5\n",
    "DayOfYear = lambda x: ((x[0] - 1)/ 365) - 0.5 # this is not correct\n",
    "encode_time = lambda x: torch.tensor([hourOfDay(x), dayOfWeek(x), dayOfMonth(x), DayOfYear(x)])\n",
    "torch.vstack([encode_time(x_mark[i]) for i in range(3)])"
   ]
  },
  {
   "cell_type": "code",
   "execution_count": 9,
   "metadata": {},
   "outputs": [
    {
     "data": {
      "text/plain": [
       "tensor([[ 0.1522, -0.5000, -0.2333, -0.3137],\n",
       "        [-0.1522, -0.3333, -0.2000, -0.3110],\n",
       "        [-0.1087, -0.3333, -0.2000, -0.3110]])"
      ]
     },
     "execution_count": 9,
     "metadata": {},
     "output_type": "execute_result"
    }
   ],
   "source": [
    "# Correct way\n",
    "# to get features as day of year we need to use some pandas tools\n",
    "convert_to_datetime = lambda x: datetime(year=2020, month=x[0], day=x[1], hour=x[3])\n",
    "dates = pd.to_datetime([convert_to_datetime(x) for x in x_mark])\n",
    "offset = to_offset('h')\n",
    "hourOfDay_ = lambda x: (x.hour/23.0) - 0.5\n",
    "dayOfWeek_ = lambda x: (x.dayofweek/6.0) - 0.5\n",
    "dayOfMonth_ = lambda x: ((x.day - 1)/30.0) - 0.5\n",
    "DayOfYearCorrect = lambda x: ((x.dayofyear - 1)/ 365) - 0.5\n",
    "# trying again now \n",
    "encode_time_correct = lambda x: torch.tensor([hourOfDay_(x), dayOfWeek_(x), dayOfMonth_(x), DayOfYearCorrect(x)])\n",
    "torch.vstack([encode_time_correct(dates[i]) for i in range(3)])"
   ]
  },
  {
   "cell_type": "markdown",
   "metadata": {},
   "source": [
    "### DataEmbedding from models.embed\n",
    "Forward (x, x_mark)\n",
    "\n",
    "    - Return: dropout(value_embedding(x) + position_embedding(x) + temporal_embedding(x_mark))\n",
    "\n",
    "\n",
    "- we explore each of the embeddings"
   ]
  },
  {
   "cell_type": "code",
   "execution_count": 14,
   "metadata": {},
   "outputs": [
    {
     "data": {
      "text/plain": [
       "(torch.Size([1, 72, 5]),\n",
       " torch.Size([1, 72, 5]),\n",
       " torch.Size([1, 72, 4]),\n",
       " torch.Size([1, 72, 4]))"
      ]
     },
     "execution_count": 14,
     "metadata": {},
     "output_type": "execute_result"
    }
   ],
   "source": [
    "# Reading first sample and wrapping in batch\n",
    "x, y, x_mark, y_mark = train_data.__getitem__(0)\n",
    "x = torch.tensor(x, dtype=torch.float32).unsqueeze(0)\n",
    "y = torch.tensor(y, dtype=torch.float32).unsqueeze(0)\n",
    "x_mark = torch.tensor(x_mark, dtype=torch.float32).unsqueeze(0)\n",
    "y_mark = torch.tensor(y_mark, dtype=torch.float32).unsqueeze(0)\n",
    "x.shape, y.shape, x_mark.shape, y_mark.shape"
   ]
  },
  {
   "cell_type": "code",
   "execution_count": 15,
   "metadata": {},
   "outputs": [],
   "source": [
    "c_in = x.shape[-1] # number of features in input\n",
    "d_model = 512 # dimension of the model, matches with n_heads = 8"
   ]
  },
  {
   "cell_type": "markdown",
   "metadata": {},
   "source": [
    "#### value_embedding = models.embed.TokenEmbedding\n",
    "- encoding the values of the timeseries (features)"
   ]
  },
  {
   "cell_type": "code",
   "execution_count": 16,
   "metadata": {},
   "outputs": [
    {
     "data": {
      "text/plain": [
       "torch.Size([1, 72, 512])"
      ]
     },
     "execution_count": 16,
     "metadata": {},
     "output_type": "execute_result"
    }
   ],
   "source": [
    "# default it has groups=1, so it is equivalent to Conv1d \n",
    "# it will convolve first out_kernel across all in_channels, \n",
    "# so all feature map will consider all in_channel\n",
    "tokenConv = nn.Conv1d(in_channels=c_in, out_channels=d_model, \n",
    "                                    kernel_size=3, padding=1, padding_mode='circular')\n",
    "nn.init.kaiming_normal_(tokenConv.weight,mode='fan_in',nonlinearity='leaky_relu')\n",
    "# Conv1d input: (batch_size, in_channels, in_length)\n",
    "x_conv = tokenConv(x.permute(0, 2, 1)).transpose(1, 2)\n",
    "x_conv.shape"
   ]
  },
  {
   "cell_type": "code",
   "execution_count": 18,
   "metadata": {},
   "outputs": [
    {
     "data": {
      "text/plain": [
       "(tensor(0.8365, grad_fn=<SelectBackward0>),\n",
       " tensor(0.8365, grad_fn=<AddBackward0>))"
      ]
     },
     "execution_count": 18,
     "metadata": {},
     "output_type": "execute_result"
    }
   ],
   "source": [
    "# Checking that the convolution follows the intuition and convolves correctly\n",
    "x_conv[0,1,0], (x.transpose(1,2)[0, :, :3] * tokenConv.weight[0, :, :]).sum() + tokenConv.bias[0]"
   ]
  },
  {
   "cell_type": "code",
   "execution_count": 19,
   "metadata": {},
   "outputs": [
    {
     "data": {
      "text/plain": [
       "(tensor(5.9320, grad_fn=<SelectBackward0>),\n",
       " tensor(5.9320, grad_fn=<AddBackward0>))"
      ]
     },
     "execution_count": 19,
     "metadata": {},
     "output_type": "execute_result"
    }
   ],
   "source": [
    "# Checking the padding circularity, moving last element to the first for padding\n",
    "x_first_padded = torch.zeros(5,3)\n",
    "x_first_padded[:, 1:3] = x.transpose(1,2)[0, :, 0:2].clone()\n",
    "x_first_padded[:, 0] = x.transpose(1,2)[0, :, -1]\n",
    "x_conv[0,0,0], (x_first_padded * tokenConv.weight[0, :, :]).sum() + tokenConv.bias[0]"
   ]
  },
  {
   "cell_type": "markdown",
   "metadata": {},
   "source": [
    "#### position_embedding = models.embed.PositionEmbedding\n",
    "- encoding the position of the values on the timeseries (features)"
   ]
  },
  {
   "cell_type": "markdown",
   "metadata": {},
   "source": [
    "$\\text{PE}(pos,2j) = \\sin(pos/(2L_x)^{2j/\\text{d}_{\\text{model}}})$\n",
    "\n",
    "$\\text{PE}(pos,2j+1) = \\cos(pos/(2L_x)^{2j/\\text{d}_{\\text{model}}})$\n",
    "\n",
    "- pos is position on the timeseries \n",
    "- 2j is the dimension of the embedding\n",
    "- even dimension is sin and odd dimension is cos\n",
    "- L_x is the length of the timeseries\n",
    "- d_model is the dimension of the embedding\n",
    "\n",
    "same as from paper and from the original transformer"
   ]
  },
  {
   "cell_type": "code",
   "execution_count": 20,
   "metadata": {},
   "outputs": [],
   "source": [
    "# Compute the positional encodings in log space \n",
    "max_len = 5000 # L_x from formula\n",
    "pe = torch.zeros(max_len, d_model).float().requires_grad_(False) # to store the positional encodings\n",
    "position = torch.arange(0, max_len).unsqueeze(1) # to get the position of each element\n",
    "div_term = (torch.arange(0, d_model, 2).float() * -(math.log(10000.0) / d_model)).exp() # to get the divisor, 2j"
   ]
  },
  {
   "cell_type": "markdown",
   "metadata": {},
   "source": [
    "- how can they compute in logspace instead?\n",
    "- note that $1/2L_x^{2j/d_{\\text{model}}}$ is of the form $1/a^{b/c}$\n",
    "\n",
    "Converting from $1/a^{b/c}$ $\\longrightarrow$ $\\exp(b * (-\\log(a) / c))$\n",
    "\n",
    "$1/a^{bc}$ = $\\exp(\\log(1 / a^{b/c}))$ &emsp;&emsp;&emsp; as exp(log) cancels out\n",
    "\n",
    "= $\\exp(-log(a^{b/c}))$   &emsp;&emsp;&emsp; as 1/x = x^(-1) and log(x)^k = k*log(x)\n",
    "\n",
    "= $\\exp(b* -log(a) / c)$   &emsp;&emsp;&emsp; applying again log(x)^k = k*log(x)\n",
    "\n",
    "hence we get as wanted"
   ]
  },
  {
   "cell_type": "code",
   "execution_count": 21,
   "metadata": {},
   "outputs": [
    {
     "data": {
      "text/plain": [
       "(torch.Size([5000, 1]), torch.Size([256]))"
      ]
     },
     "execution_count": 21,
     "metadata": {},
     "output_type": "execute_result"
    }
   ],
   "source": [
    "position.shape, div_term.shape # div_term is d_model / 2 long as we only need for ever 2nd element"
   ]
  },
  {
   "cell_type": "markdown",
   "metadata": {},
   "source": [
    "- How to compute the equations?: for each pos, j in Natural numbers s.t.  0 <= pos <= max_len and 0 <= 2j <= d_model\n",
    "- use broadcasting by position * div_term, will broadcast position across the rows, and the div_term across the columns"
   ]
  },
  {
   "cell_type": "code",
   "execution_count": 22,
   "metadata": {},
   "outputs": [
    {
     "data": {
      "text/plain": [
       "tensor([[True, True, True,  ..., True, True, True],\n",
       "        [True, True, True,  ..., True, True, True],\n",
       "        [True, True, True,  ..., True, True, True],\n",
       "        ...,\n",
       "        [True, True, True,  ..., True, True, True],\n",
       "        [True, True, True,  ..., True, True, True],\n",
       "        [True, True, True,  ..., True, True, True]])"
      ]
     },
     "execution_count": 22,
     "metadata": {},
     "output_type": "execute_result"
    }
   ],
   "source": [
    "# check that computation matches the correct broadcasting intuition\n",
    "position * div_term == position.repeat(1, d_model // 2) * div_term.repeat(max_len, 1)"
   ]
  },
  {
   "cell_type": "code",
   "execution_count": 23,
   "metadata": {},
   "outputs": [
    {
     "data": {
      "text/plain": [
       "torch.Size([1, 5000, 512])"
      ]
     },
     "execution_count": 23,
     "metadata": {},
     "output_type": "execute_result"
    }
   ],
   "source": [
    "# now simply compute the sine and cos functions as from formula\n",
    "pe[:, 0::2] = torch.sin(position * div_term)\n",
    "pe[:, 1::2] = torch.cos(position * div_term)\n",
    "\n",
    "pe = pe.unsqueeze(0)\n",
    "pe.shape"
   ]
  },
  {
   "cell_type": "code",
   "execution_count": 24,
   "metadata": {},
   "outputs": [
    {
     "data": {
      "text/plain": [
       "<matplotlib.image.AxesImage at 0x7fafbc2d02b0>"
      ]
     },
     "execution_count": 24,
     "metadata": {},
     "output_type": "execute_result"
    },
    {
     "data": {
      "image/png": "[encoded data removed]",
      "text/plain": [
       "<Figure size 432x288 with 1 Axes>"
      ]
     },
     "metadata": {
      "needs_background": "light"
     },
     "output_type": "display_data"
    }
   ],
   "source": [
    "# visualizing the positional encodings\n",
    "plt.imshow(pe[0,:1000,:].detach().numpy(), cmap='viridis')"
   ]
  },
  {
   "cell_type": "code",
   "execution_count": 26,
   "metadata": {},
   "outputs": [
    {
     "data": {
      "text/plain": [
       "<matplotlib.image.AxesImage at 0x7fafb7b741f0>"
      ]
     },
     "execution_count": 26,
     "metadata": {},
     "output_type": "execute_result"
    },
    {
     "data": {
      "image/png": "[encoded data removed]",
      "text/plain": [
       "<Figure size 432x288 with 1 Axes>"
      ]
     },
     "metadata": {
      "needs_background": "light"
     },
     "output_type": "display_data"
    }
   ],
   "source": [
    "plt.imshow(pe[0,:50,:50].detach().numpy(), cmap='viridis')"
   ]
  },
  {
   "cell_type": "code",
   "execution_count": 27,
   "metadata": {},
   "outputs": [
    {
     "data": {
      "text/plain": [
       "<matplotlib.image.AxesImage at 0x7fafbb604f40>"
      ]
     },
     "execution_count": 27,
     "metadata": {},
     "output_type": "execute_result"
    },
    {
     "data": {
      "image/png": "[encoded data removed]",
      "text/plain": [
       "<Figure size 432x288 with 1 Axes>"
      ]
     },
     "metadata": {
      "needs_background": "light"
     },
     "output_type": "display_data"
    }
   ],
   "source": [
    "# forward function for pe \n",
    "pe[:, :x.size(1)].shape\n",
    "plt.imshow(pe[0, :x.size(1)], cmap='viridis')"
   ]
  },
  {
   "cell_type": "markdown",
   "metadata": {},
   "source": [
    "#### temporal_embedding = models.embed.TemporalEmbedding or TimeFeatureEmbedding\n",
    "- default is TimeFeatureEmbedding\n",
    "- encoding the temporal features of the timeseries (features)\n",
    "- we explore first TimeFeatureEmbedding"
   ]
  },
  {
   "cell_type": "code",
   "execution_count": 29,
   "metadata": {},
   "outputs": [
    {
     "data": {
      "text/plain": [
       "torch.Size([1, 72, 512])"
      ]
     },
     "execution_count": 29,
     "metadata": {},
     "output_type": "execute_result"
    }
   ],
   "source": [
    "# Time feature embedding\n",
    "# we have freq='h' so each time point has 4 values\n",
    "# simply do linear transform into d_model space\n",
    "freq_map = {'h':4, 't':5, 's':6, 'm':1, 'a':1, 'w':2, 'd':3, 'b':3}\n",
    "d_inp = freq_map[freq]\n",
    "embed = nn.Linear(d_inp, d_model)\n",
    "x_mark_emb = embed(x_mark)\n",
    "x_mark_emb.shape"
   ]
  },
  {
   "cell_type": "markdown",
   "metadata": {},
   "source": [
    "- other option is Temporal Embedding, can be either fixed or learned"
   ]
  },
  {
   "cell_type": "code",
   "execution_count": 30,
   "metadata": {},
   "outputs": [],
   "source": [
    "# Temporal embedding general parameters\n",
    "minute_size = 4; hour_size = 24\n",
    "weekday_size = 7; day_size = 32; month_size = 13"
   ]
  },
  {
   "cell_type": "code",
   "execution_count": 31,
   "metadata": {},
   "outputs": [],
   "source": [
    "# Fixed embedding\n",
    "# same idea as the positional encodings\n",
    "# make embedding for each time dimension, hourofday, dayofweek, dayofmonth, dayofyear\n",
    "class FixedEmbedding(nn.Module):\n",
    "    def __init__(self, c_in, d_model):\n",
    "        super(FixedEmbedding, self).__init__()\n",
    "\n",
    "        w = torch.zeros(c_in, d_model).float()\n",
    "        w.require_grad = False\n",
    "\n",
    "        position = torch.arange(0, c_in).float().unsqueeze(1)\n",
    "        div_term = (torch.arange(0, d_model, 2).float() * -(math.log(10000.0) / d_model)).exp()\n",
    "\n",
    "        w[:, 0::2] = torch.sin(position * div_term)\n",
    "        w[:, 1::2] = torch.cos(position * div_term)\n",
    "\n",
    "        self.emb = nn.Embedding(c_in, d_model)\n",
    "        self.emb.weight = nn.Parameter(w, requires_grad=False)\n",
    "\n",
    "    def forward(self, x):\n",
    "        return self.emb(x).detach()"
   ]
  },
  {
   "cell_type": "code",
   "execution_count": 32,
   "metadata": {},
   "outputs": [],
   "source": [
    "# how to forward the two embedding types fixed or learned\n",
    "Embed = FixedEmbedding if True else nn.Embedding\n",
    "hour_embed = Embed(hour_size, d_model)\n",
    "weekday_embed = Embed(weekday_size, d_model)\n",
    "day_embed = Embed(day_size, d_model)\n",
    "month_embed = Embed(month_size, d_model)"
   ]
  },
  {
   "cell_type": "code",
   "execution_count": 33,
   "metadata": {},
   "outputs": [
    {
     "data": {
      "text/plain": [
       "torch.Size([1, 72, 512])"
      ]
     },
     "execution_count": 33,
     "metadata": {},
     "output_type": "execute_result"
    }
   ],
   "source": [
    "x_mark = x_mark.long()\n",
    "hour_x = hour_embed(x_mark[:,:,3])\n",
    "weekday_x = weekday_embed(x_mark[:,:,2])\n",
    "day_x = day_embed(x_mark[:,:,1])\n",
    "month_x = month_embed(x_mark[:,:,0])\n",
    "encoded_time = hour_x + weekday_x + day_x + month_x # combine all the embeddings\n",
    "encoded_time.shape"
   ]
  },
  {
   "cell_type": "markdown",
   "metadata": {},
   "source": [
    "- at last, all embeddings will be summed together and then dropout will be applied\n",
    "- decoder embedding is exact same technique it will just of course have separate weights, so instantiate other class"
   ]
  },
  {
   "cell_type": "markdown",
   "metadata": {},
   "source": [
    "## Next step: is the informer encoder\n",
    "- Encoder([encoder_layers, Conv_layers, layerNorm])\n",
    "- It n encoder_layers, for example 4 \n",
    "- each encoder layer, has:\n",
    "    - x = EncoderLayer(ProbSparseAttention(x))\n",
    "    - x = ConvLayer(X) # because distil=True\n",
    "- After all encoder layers it will do \n",
    "    - x = LayerNorm(x)"
   ]
  },
  {
   "cell_type": "markdown",
   "metadata": {},
   "source": [
    "__ProbSparseAttention__:"
   ]
  },
  {
   "cell_type": "code",
   "execution_count": 34,
   "metadata": {},
   "outputs": [],
   "source": [
    "# is encapsulated in attentionLayer\n",
    "# parameters in attentionLayer\n",
    "n_heads = 8\n",
    "assert d_model % n_heads == 0\n",
    "d_keys = (d_model//n_heads)\n",
    "d_values = (d_model//n_heads)\n",
    "\n",
    "#inner_attention = attention # the ProbSparseAttention class\n",
    "query_projection = nn.Linear(d_model, d_keys * n_heads)\n",
    "key_projection = nn.Linear(d_model, d_keys * n_heads)\n",
    "value_projection = nn.Linear(d_model, d_values * n_heads)\n",
    "out_projection = nn.Linear(d_values * n_heads, d_model)\n",
    "n_heads = n_heads\n",
    "mix = False # mix attention only used for first decoder ProbsparseAttention"
   ]
  },
  {
   "cell_type": "code",
   "execution_count": 36,
   "metadata": {},
   "outputs": [],
   "source": [
    "# Forward\n",
    "# it is self attention so \n",
    "x = torch.rand(1, seq_len, d_model)\n",
    "queries = x \n",
    "keys = x\n",
    "values = x\n",
    "B, L, _ = queries.shape\n",
    "_, S, _ = keys.shape\n",
    "H = n_heads\n",
    "\n",
    "queries = query_projection(queries).view(B, L, H, -1)\n",
    "keys = key_projection(keys).view(B, S, H, -1)\n",
    "values = value_projection(values).view(B, S, H, -1)\n",
    "\n",
    "# below we should use Probsparseattention instead\n",
    "# out, attn = self.inner_attention(\n",
    "#     queries,\n",
    "#     keys,\n",
    "#     values,\n",
    "#     attn_mask\n",
    "# )\n",
    "\n",
    "# if mix:\n",
    "#     out = out.transpose(2,1).contiguous()\n",
    "# out = out.view(B, L, -1)\n",
    "\n",
    "# return self.out_projection(out), attn"
   ]
  },
  {
   "cell_type": "code",
   "execution_count": 37,
   "metadata": {},
   "outputs": [],
   "source": [
    "# the ProbSparseAttention \n",
    "# parameters\n",
    "factor = 5 # the C factor from the paper, number of queris = factor*log(L) \n",
    "scale = scale\n",
    "mask_flag = False\n",
    "output_attention = False\n",
    "dropout = nn.Dropout(0)"
   ]
  },
  {
   "cell_type": "code",
   "execution_count": 64,
   "metadata": {},
   "outputs": [],
   "source": [
    "# the ProbSparseForward function for the encoder\n",
    "# input: queries = keys = values = x, attn_mask = None\n",
    "B, L_Q, H, D = queries.shape\n",
    "_, L_K, _, _ = keys.shape # L_K can be different from L_Q in decoder \n",
    "\n",
    "queries = queries.transpose(2,1) # B, L_Q, H, D -> B, H, L_Q, D because we want to do dot products across the time steps\n",
    "keys = keys.transpose(2,1)\n",
    "values = values.transpose(2,1)\n",
    "\n",
    "# sampling factors as from the paper\n",
    "U_part = factor * np.ceil(np.log(L_K)).astype('int').item() # c*ln(L_k)\n",
    "u = factor * np.ceil(np.log(L_Q)).astype('int').item() # c*ln(L_q) \n",
    "\n",
    "# sanity check \n",
    "U_part = U_part if U_part<L_K else L_K\n",
    "u = u if u<L_Q else L_Q\n",
    "\n",
    "# Use helper function _prob_QK to sample top queries as from the paper\n",
    "# defined below\n",
    "scores_top, index = _prob_QK(queries, keys, sample_k=U_part, n_top=u) \n",
    "\n",
    "# add scale factor\n",
    "scale = None\n",
    "scale = scale or 1./math.sqrt(D)\n",
    "if scale is not None:\n",
    "    scores_top = scores_top * scale\n",
    "\n",
    "#Use helper function _get_initial_context, explained below and also defined below\n",
    "# get the context\n",
    "# context = _get_initial_context(values, L_Q)\n",
    "# # update the context with selected top_k queries\n",
    "# context, attn = _update_context(context, values, scores_top, index, L_Q, attn_mask=None)\n",
    "\n",
    "# context.transpose(2,1).contiguous(), attn # return"
   ]
  },
  {
   "cell_type": "code",
   "execution_count": 39,
   "metadata": {},
   "outputs": [],
   "source": [
    "Q = queries; K = keys; sample_k = U_part; n_top=u; \n",
    "\n",
    "B, H, L_K, E = K.shape\n",
    "_, _, L_Q, _ = Q.shape"
   ]
  },
  {
   "cell_type": "code",
   "execution_count": 40,
   "metadata": {},
   "outputs": [
    {
     "data": {
      "text/plain": [
       "(torch.Size([72, 25]),\n",
       " torch.Size([1, 8, 72, 72, 64]),\n",
       " torch.Size([1, 8, 72, 25, 64]))"
      ]
     },
     "execution_count": 40,
     "metadata": {},
     "output_type": "execute_result"
    }
   ],
   "source": [
    "# calculate the sampled Q_K\n",
    "K_expand = K.unsqueeze(-3).expand(B, H, L_Q, L_K, E)\n",
    "\n",
    "index_sample = torch.randint(L_K, (L_Q, sample_k)) # real U = U_part(factor*ln(L_k))*L_q\n",
    "\n",
    "K_sample = K_expand[:, :, torch.arange(L_Q).unsqueeze(1), index_sample, :]\n",
    "\n",
    "index_sample.shape, K_expand.shape, K_sample.shape"
   ]
  },
  {
   "cell_type": "code",
   "execution_count": null,
   "metadata": {},
   "outputs": [],
   "source": [
    "# sample sample_k number of keys to dot product with all query as from paper\n",
    "# note for each query it will sample sample_k number of different keys\n",
    "K[:,:,index_sample[0]] == K_sample[:,:,0,:,:]"
   ]
  },
  {
   "cell_type": "code",
   "execution_count": 45,
   "metadata": {},
   "outputs": [
    {
     "data": {
      "text/plain": [
       "torch.Size([1, 8, 72, 25])"
      ]
     },
     "execution_count": 45,
     "metadata": {},
     "output_type": "execute_result"
    }
   ],
   "source": [
    "# compute the dot products for each query on to all the sampled keys\n",
    "Q_K_sample = torch.matmul(Q.unsqueeze(-2), K_sample.transpose(-2, -1)).squeeze(-2)\n",
    "Q_K_sample.shape"
   ]
  },
  {
   "cell_type": "code",
   "execution_count": 55,
   "metadata": {},
   "outputs": [],
   "source": [
    "# find the Top_k query with sparisty measurement\n",
    "M =  Q_K_sample.max(-1)[0] - torch.div(Q_K_sample.sum(-1), L_K)"
   ]
  },
  {
   "cell_type": "code",
   "execution_count": 56,
   "metadata": {},
   "outputs": [
    {
     "data": {
      "text/plain": [
       "torch.Size([1, 8, 25, 72])"
      ]
     },
     "execution_count": 56,
     "metadata": {},
     "output_type": "execute_result"
    }
   ],
   "source": [
    "M_top = M.topk(n_top, sorted=False)[1]\n",
    "\n",
    "# use the reduced Q to calculate Q_K\n",
    "Q_reduce = Q[torch.arange(B)[:, None, None],\n",
    "                torch.arange(H)[None, :, None],\n",
    "                M_top, :] # factor*ln(L_q)\n",
    "Q_K = torch.matmul(Q_reduce, K.transpose(-2, -1)) # factor*ln(L_q)*L_k\n",
    "Q_K.shape"
   ]
  },
  {
   "cell_type": "code",
   "execution_count": 62,
   "metadata": {},
   "outputs": [],
   "source": [
    "# wrapping up the _prob_QK function\n",
    "# apply function above in the attention cell and then continue with next part in next cell\n",
    "# Q [B, H, L, D]\n",
    "def _prob_QK(Q, K, sample_k=None, n_top=None):\n",
    "    B, H, L_K, E = K.shape\n",
    "    _, _, L_Q, _ = Q.shape\n",
    "\n",
    "    # calculate the sampled Q_K\n",
    "    K_expand = K.unsqueeze(-3).expand(B, H, L_Q, L_K, E)\n",
    "    index_sample = torch.randint(L_K, (L_Q, sample_k)) # real U = U_part(factor*ln(L_k))*L_q\n",
    "    K_sample = K_expand[:, :, torch.arange(L_Q).unsqueeze(1), index_sample, :]\n",
    "    Q_K_sample = torch.matmul(Q.unsqueeze(-2), K_sample.transpose(-2, -1)).squeeze(-2)\n",
    "\n",
    "    # find the Top_k query with sparisty measurement\n",
    "    M = Q_K_sample.max(-1)[0] - torch.div(Q_K_sample.sum(-1), L_K)\n",
    "    M_top = M.topk(n_top, sorted=False)[1]\n",
    "\n",
    "    # use the reduced Q to calculate Q_K\n",
    "    Q_reduce = Q[torch.arange(B)[:, None, None],\n",
    "                    torch.arange(H)[None, :, None],\n",
    "                    M_top, :] # factor*ln(L_q)\n",
    "\n",
    "    Q_K = torch.matmul(Q_reduce, K.transpose(-2, -1)) # factor*ln(L_q)*L_k\n",
    "\n",
    "    return Q_K, M_top"
   ]
  },
  {
   "cell_type": "code",
   "execution_count": 69,
   "metadata": {},
   "outputs": [],
   "source": [
    "# explaining get context + defining\n",
    "# context is as from the paper\n",
    "# it is simpler computation of all the queries which get uniform distribution over the keys\n",
    "# these will result in close to just computing the mean of the values, hence the context is proxy for that\n",
    "def _get_initial_context(values, L_Q):\n",
    "    V = values\n",
    "    mask_flag = False\n",
    "    B, H, L_V, D = V.shape\n",
    "    if not mask_flag:\n",
    "        # V_sum = V.sum(dim=-2)\n",
    "        V_sum = V.mean(dim=-2)  \n",
    "        contex = V_sum.unsqueeze(-2).expand(B, H, L_Q, V_sum.shape[-1]).clone()\n",
    "        # contex[0, :, 1, :] == V_sum[0, :, :]\n",
    "    else: # use mask\n",
    "        assert(L_Q == L_V) # requires that L_Q == L_V, i.e. for self-attention only\n",
    "        contex = V.cumsum(dim=-2)\n",
    "    return contex "
   ]
  },
  {
   "cell_type": "code",
   "execution_count": null,
   "metadata": {},
   "outputs": [],
   "source": []
  }
 ],
 "metadata": {
  "interpreter": {
   "hash": "6afd76ccbc30dc5c734efa6a93a530613259c1cf25bef3b2ca522ddf7993f504"
  },
  "kernelspec": {
   "display_name": "tbot",
   "language": "python",
   "name": "tbot"
  },
  "language_info": {
   "codemirror_mode": {
    "name": "ipython",
    "version": 3
   },
   "file_extension": ".py",
   "mimetype": "text/x-python",
   "name": "python",
   "nbconvert_exporter": "python",
   "pygments_lexer": "ipython3",
   "version": "3.9.6"
  },
  "orig_nbformat": 4
 },
 "nbformat": 4,
 "nbformat_minor": 2
}
