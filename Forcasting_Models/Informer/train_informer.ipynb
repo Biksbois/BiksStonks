{
 "cells": [
  {
   "cell_type": "code",
   "execution_count": 1,
   "metadata": {},
   "outputs": [
    {
     "ename": "ImportError",
     "evalue": "attempted relative import with no known parent package",
     "output_type": "error",
     "traceback": [
      "\u001b[1;31m---------------------------------------------------------------------------\u001b[0m",
      "\u001b[1;31mImportError\u001b[0m                               Traceback (most recent call last)",
      "\u001b[1;32mc:\\Users\\madsh\\OneDrive\\Code\\Python\\BiksStonks\\Forcasting_Models\\Informer\\train_informer.ipynb Cell 1'\u001b[0m in \u001b[0;36m<cell line: 10>\u001b[1;34m()\u001b[0m\n\u001b[0;32m      <a href='vscode-notebook-cell:/c%3A/Users/madsh/OneDrive/Code/Python/BiksStonks/Forcasting_Models/Informer/train_informer.ipynb#ch0000000?line=0'>1</a>\u001b[0m \u001b[39m# from utils.tools import dotdict\u001b[39;00m\n\u001b[0;32m      <a href='vscode-notebook-cell:/c%3A/Users/madsh/OneDrive/Code/Python/BiksStonks/Forcasting_Models/Informer/train_informer.ipynb#ch0000000?line=1'>2</a>\u001b[0m \u001b[39m# from exp.exp_informer import Exp_Informer\u001b[39;00m\n\u001b[0;32m      <a href='vscode-notebook-cell:/c%3A/Users/madsh/OneDrive/Code/Python/BiksStonks/Forcasting_Models/Informer/train_informer.ipynb#ch0000000?line=2'>3</a>\u001b[0m \u001b[39m# import torch\u001b[39;00m\n\u001b[1;32m   (...)\u001b[0m\n\u001b[0;32m      <a href='vscode-notebook-cell:/c%3A/Users/madsh/OneDrive/Code/Python/BiksStonks/Forcasting_Models/Informer/train_informer.ipynb#ch0000000?line=5'>6</a>\u001b[0m \u001b[39m# import psycopg2 as pg\u001b[39;00m\n\u001b[0;32m      <a href='vscode-notebook-cell:/c%3A/Users/madsh/OneDrive/Code/Python/BiksStonks/Forcasting_Models/Informer/train_informer.ipynb#ch0000000?line=6'>7</a>\u001b[0m \u001b[39m# import pandas as pd\u001b[39;00m\n\u001b[1;32m---> <a href='vscode-notebook-cell:/c%3A/Users/madsh/OneDrive/Code/Python/BiksStonks/Forcasting_Models/Informer/train_informer.ipynb#ch0000000?line=9'>10</a>\u001b[0m \u001b[39mfrom\u001b[39;00m \u001b[39m.\u001b[39;00m\u001b[39m.\u001b[39;00m\u001b[39m.\u001b[39;00m\u001b[39mForcasting_Models\u001b[39;00m \u001b[39mimport\u001b[39;00m utils\n\u001b[0;32m     <a href='vscode-notebook-cell:/c%3A/Users/madsh/OneDrive/Code/Python/BiksStonks/Forcasting_Models/Informer/train_informer.ipynb#ch0000000?line=10'>11</a>\u001b[0m \u001b[39mfrom\u001b[39;00m \u001b[39mutils\u001b[39;00m \u001b[39mimport\u001b[39;00m settings_utils \u001b[39mas\u001b[39;00m settings\n\u001b[0;32m     <a href='vscode-notebook-cell:/c%3A/Users/madsh/OneDrive/Code/Python/BiksStonks/Forcasting_Models/Informer/train_informer.ipynb#ch0000000?line=11'>12</a>\u001b[0m \u001b[39m# from . import utils\u001b[39;00m\n\u001b[0;32m     <a href='vscode-notebook-cell:/c%3A/Users/madsh/OneDrive/Code/Python/BiksStonks/Forcasting_Models/Informer/train_informer.ipynb#ch0000000?line=12'>13</a>\u001b[0m \u001b[39m# from utils import settings_utils as settings\u001b[39;00m\n",
      "\u001b[1;31mImportError\u001b[0m: attempted relative import with no known parent package"
     ]
    }
   ],
   "source": [
    "from utils.tools import dotdict\n",
    "from exp.exp_informer import Exp_Informer\n",
    "import torch\n",
    "import numpy as np\n",
    "import os\n",
    "import psycopg2 as pg\n",
    "import pandas as pd\n"
   ]
  },
  {
   "cell_type": "code",
   "execution_count": 3,
   "metadata": {},
   "outputs": [
    {
     "data": {
      "text/html": [
       "<div>\n",
       "<style scoped>\n",
       "    .dataframe tbody tr th:only-of-type {\n",
       "        vertical-align: middle;\n",
       "    }\n",
       "\n",
       "    .dataframe tbody tr th {\n",
       "        vertical-align: top;\n",
       "    }\n",
       "\n",
       "    .dataframe thead th {\n",
       "        text-align: right;\n",
       "    }\n",
       "</style>\n",
       "<table border=\"1\" class=\"dataframe\">\n",
       "  <thead>\n",
       "    <tr style=\"text-align: right;\">\n",
       "      <th></th>\n",
       "      <th>date</th>\n",
       "      <th>open</th>\n",
       "      <th>high</th>\n",
       "      <th>low</th>\n",
       "      <th>volume</th>\n",
       "      <th>close</th>\n",
       "    </tr>\n",
       "  </thead>\n",
       "  <tbody>\n",
       "    <tr>\n",
       "      <th>0</th>\n",
       "      <td>2020-03-09 15:00:00</td>\n",
       "      <td>90.78</td>\n",
       "      <td>91.00</td>\n",
       "      <td>90.38</td>\n",
       "      <td>743394.0</td>\n",
       "      <td>90.38</td>\n",
       "    </tr>\n",
       "    <tr>\n",
       "      <th>1</th>\n",
       "      <td>2020-03-10 08:00:00</td>\n",
       "      <td>91.08</td>\n",
       "      <td>93.02</td>\n",
       "      <td>90.82</td>\n",
       "      <td>4211042.0</td>\n",
       "      <td>92.98</td>\n",
       "    </tr>\n",
       "    <tr>\n",
       "      <th>2</th>\n",
       "      <td>2020-03-10 09:00:00</td>\n",
       "      <td>92.98</td>\n",
       "      <td>94.26</td>\n",
       "      <td>92.40</td>\n",
       "      <td>947497.0</td>\n",
       "      <td>94.12</td>\n",
       "    </tr>\n",
       "    <tr>\n",
       "      <th>3</th>\n",
       "      <td>2020-03-10 10:00:00</td>\n",
       "      <td>94.18</td>\n",
       "      <td>95.00</td>\n",
       "      <td>93.92</td>\n",
       "      <td>491486.0</td>\n",
       "      <td>94.78</td>\n",
       "    </tr>\n",
       "    <tr>\n",
       "      <th>4</th>\n",
       "      <td>2020-03-10 11:00:00</td>\n",
       "      <td>94.78</td>\n",
       "      <td>94.90</td>\n",
       "      <td>93.16</td>\n",
       "      <td>460482.0</td>\n",
       "      <td>93.24</td>\n",
       "    </tr>\n",
       "  </tbody>\n",
       "</table>\n",
       "</div>"
      ],
      "text/plain": [
       "                 date   open   high    low     volume  close\n",
       "0 2020-03-09 15:00:00  90.78  91.00  90.38   743394.0  90.38\n",
       "1 2020-03-10 08:00:00  91.08  93.02  90.82  4211042.0  92.98\n",
       "2 2020-03-10 09:00:00  92.98  94.26  92.40   947497.0  94.12\n",
       "3 2020-03-10 10:00:00  94.18  95.00  93.92   491486.0  94.78\n",
       "4 2020-03-10 11:00:00  94.78  94.90  93.16   460482.0  93.24"
      ]
     },
     "execution_count": 3,
     "metadata": {},
     "output_type": "execute_result"
    }
   ],
   "source": [
    "# use db instead of csv\n",
    "conn = pg.connect(database='stonksdb', user='postgres', password='admin')\n",
    "# df format [date, features*, *target features]\n",
    "query = 'SELECT time AS date, open, high, low, volume, close \\\n",
    "                      FROM stock WHERE identifier = 15521 \\\n",
    "                      ORDER BY time ASC;'\n",
    "df = pd.read_sql(query, conn)\n",
    "df.set_index(pd.DatetimeIndex(df['date']), inplace=True)\n",
    "# resample \n",
    "df = df.resample('1h').agg(\n",
    "        {'open': 'first',\n",
    "         'high': 'max', \n",
    "         'low': 'min', \n",
    "         'volume': 'sum',\n",
    "         'close': 'last'}).dropna()\n",
    "df.reset_index(inplace=True)\n",
    "df.head()"
   ]
  },
  {
   "cell_type": "code",
   "execution_count": 4,
   "metadata": {},
   "outputs": [],
   "source": [
    "args = dotdict()\n",
    "\n",
    "args.model = 'informer' # model of experiment, options: [informer, informerstack, informerlight(TBD)]\n",
    "\n",
    "args.data = 'custom' # data\n",
    "args.root_path = '.' # root path of data file\n",
    "args.data_path = None # 'dbank_h.csv' # data file\n",
    "\n",
    "args.use_df = True # use dataframe\n",
    "args.df = df # dataframe\n",
    "\n",
    "args.features = 'MS' # forecasting task, options:[M, S, MS]; M:multivariate predict multivariate, S:univariate predict univariate, MS:multivariate predict univariate\n",
    "args.target = 'close' # target feature in S or MS task\n",
    "args.freq = 'h' # freq for time features encoding, options:[s:secondly, t:minutely, h:hourly, d:daily, b:business days, w:weekly, m:monthly], you can also use more detailed freq like 15min or 3h\n",
    "args.checkpoints = './informer_checkpoints' # location of model checkpoints\n",
    "\n",
    "\n",
    "\n",
    "args.seq_len = 12 # input sequence length of Informer encoder\n",
    "args.label_len = 12 # start token length of Informer decoder\n",
    "args.pred_len = 4 # prediction sequence length\n",
    "# Informer decoder input: concat[start token series(label_len), zero padding series(pred_len)]\n",
    "\n",
    "args.enc_in = 5 # encoder input size # ohlc + volume\n",
    "args.dec_in = 5 # decoder input size # ohlc + volume\n",
    "args.c_out = 1 # output size # 1 univariate prediction for close price\n",
    "args.factor = 5 # probsparse attn factor\n",
    "args.d_model = 512 # dimension of model\n",
    "args.n_heads = 8 # num of heads\n",
    "args.e_layers = 2 # num of encoder layers\n",
    "args.d_layers = 1 # num of decoder layers\n",
    "args.d_ff = 2048 # dimension of fcn in model\n",
    "args.dropout = 0.05 # dropout\n",
    "args.attn = 'prob' # attention used in encoder, options:[prob, full]\n",
    "args.embed = 'timeF' # time features encoding, options:[timeF, fixed, learned]\n",
    "args.activation = 'gelu' # activation\n",
    "args.distil = True # whether to use distilling in encoder\n",
    "args.output_attention = False # whether to output attention in ecoder\n",
    "args.mix = True\n",
    "args.padding = 0\n",
    "args.freq = 'h'\n",
    "args.detail_freq = args.freq\n",
    "args.inverse = True\n",
    "\n",
    "args.batch_size = 32 \n",
    "args.learning_rate = 0.0001\n",
    "args.loss = 'mse'\n",
    "args.lradj = 'type1'\n",
    "args.use_amp = False # whether to use automatic mixed precision training\n",
    "\n",
    "args.num_workers = 0\n",
    "args.itr = 1\n",
    "args.train_epochs = 6\n",
    "args.patience = 3\n",
    "args.des = 'exp'\n",
    "\n",
    "args.use_gpu = True if torch.cuda.is_available() else False\n",
    "args.gpu = 0\n",
    "\n",
    "args.use_multi_gpu = False\n",
    "args.devices = '0,1,2,3'"
   ]
  },
  {
   "cell_type": "code",
   "execution_count": 5,
   "metadata": {},
   "outputs": [],
   "source": [
    "Exp = Exp_Informer"
   ]
  },
  {
   "cell_type": "code",
   "execution_count": 6,
   "metadata": {},
   "outputs": [
    {
     "name": "stdout",
     "output_type": "stream",
     "text": [
      "Use CPU\n",
      ">>>>>>>start training : informer_custom_ftMS_sl12_ll12_pl4_dm512_nh8_el2_dl1_df2048_atprob_fc5_ebtimeF_dtTrue_mxTrue_exp_0>>>>>>>>>>>>>>>>>>>>>>>>>>\n",
      "train 2791\n",
      "val 399\n",
      "test 798\n"
     ]
    },
    {
     "ename": "KeyboardInterrupt",
     "evalue": "",
     "output_type": "error",
     "traceback": [
      "\u001b[1;31m---------------------------------------------------------------------------\u001b[0m",
      "\u001b[1;31mKeyboardInterrupt\u001b[0m                         Traceback (most recent call last)",
      "Input \u001b[1;32mIn [6]\u001b[0m, in \u001b[0;36m<cell line: 1>\u001b[1;34m()\u001b[0m\n\u001b[0;32m     10\u001b[0m \u001b[39m# train\u001b[39;00m\n\u001b[0;32m     11\u001b[0m \u001b[39mprint\u001b[39m(\u001b[39m'\u001b[39m\u001b[39m>>>>>>>start training : \u001b[39m\u001b[39m{}\u001b[39;00m\u001b[39m>>>>>>>>>>>>>>>>>>>>>>>>>>\u001b[39m\u001b[39m'\u001b[39m\u001b[39m.\u001b[39mformat(setting))\n\u001b[1;32m---> 12\u001b[0m exp\u001b[39m.\u001b[39;49mtrain(setting)\n\u001b[0;32m     14\u001b[0m \u001b[39m# test\u001b[39;00m\n\u001b[0;32m     15\u001b[0m \u001b[39mprint\u001b[39m(\u001b[39m'\u001b[39m\u001b[39m>>>>>>>testing : \u001b[39m\u001b[39m{}\u001b[39;00m\u001b[39m<<<<<<<<<<<<<<<<<<<<<<<<<<<<<<<<<\u001b[39m\u001b[39m'\u001b[39m\u001b[39m.\u001b[39mformat(setting))\n",
      "File \u001b[1;32mc:\\Users\\msmic\\Documents\\code\\schl\\BiksStonks\\Forcasting_Models\\Informer\\exp\\exp_informer.py:175\u001b[0m, in \u001b[0;36mExp_Informer.train\u001b[1;34m(self, setting)\u001b[0m\n\u001b[0;32m    <a href='file:///c%3A/Users/msmic/Documents/code/schl/BiksStonks/Forcasting_Models/Informer/exp/exp_informer.py?line=172'>173</a>\u001b[0m         scaler\u001b[39m.\u001b[39mupdate()\n\u001b[0;32m    <a href='file:///c%3A/Users/msmic/Documents/code/schl/BiksStonks/Forcasting_Models/Informer/exp/exp_informer.py?line=173'>174</a>\u001b[0m     \u001b[39melse\u001b[39;00m:\n\u001b[1;32m--> <a href='file:///c%3A/Users/msmic/Documents/code/schl/BiksStonks/Forcasting_Models/Informer/exp/exp_informer.py?line=174'>175</a>\u001b[0m         loss\u001b[39m.\u001b[39;49mbackward()\n\u001b[0;32m    <a href='file:///c%3A/Users/msmic/Documents/code/schl/BiksStonks/Forcasting_Models/Informer/exp/exp_informer.py?line=175'>176</a>\u001b[0m         model_optim\u001b[39m.\u001b[39mstep()\n\u001b[0;32m    <a href='file:///c%3A/Users/msmic/Documents/code/schl/BiksStonks/Forcasting_Models/Informer/exp/exp_informer.py?line=177'>178</a>\u001b[0m \u001b[39mprint\u001b[39m(\u001b[39m\"\u001b[39m\u001b[39mEpoch: \u001b[39m\u001b[39m{}\u001b[39;00m\u001b[39m cost time: \u001b[39m\u001b[39m{}\u001b[39;00m\u001b[39m\"\u001b[39m\u001b[39m.\u001b[39mformat(epoch\u001b[39m+\u001b[39m\u001b[39m1\u001b[39m, time\u001b[39m.\u001b[39mtime()\u001b[39m-\u001b[39mepoch_time))\n",
      "File \u001b[1;32m~\\Documents\\code\\schl\\Informer2020\\env\\lib\\site-packages\\torch\\tensor.py:245\u001b[0m, in \u001b[0;36mTensor.backward\u001b[1;34m(self, gradient, retain_graph, create_graph, inputs)\u001b[0m\n\u001b[0;32m    <a href='file:///c%3A/Users/msmic/Documents/code/schl/Informer2020/env/lib/site-packages/torch/tensor.py?line=235'>236</a>\u001b[0m \u001b[39mif\u001b[39;00m has_torch_function_unary(\u001b[39mself\u001b[39m):\n\u001b[0;32m    <a href='file:///c%3A/Users/msmic/Documents/code/schl/Informer2020/env/lib/site-packages/torch/tensor.py?line=236'>237</a>\u001b[0m     \u001b[39mreturn\u001b[39;00m handle_torch_function(\n\u001b[0;32m    <a href='file:///c%3A/Users/msmic/Documents/code/schl/Informer2020/env/lib/site-packages/torch/tensor.py?line=237'>238</a>\u001b[0m         Tensor\u001b[39m.\u001b[39mbackward,\n\u001b[0;32m    <a href='file:///c%3A/Users/msmic/Documents/code/schl/Informer2020/env/lib/site-packages/torch/tensor.py?line=238'>239</a>\u001b[0m         (\u001b[39mself\u001b[39m,),\n\u001b[1;32m   (...)\u001b[0m\n\u001b[0;32m    <a href='file:///c%3A/Users/msmic/Documents/code/schl/Informer2020/env/lib/site-packages/torch/tensor.py?line=242'>243</a>\u001b[0m         create_graph\u001b[39m=\u001b[39mcreate_graph,\n\u001b[0;32m    <a href='file:///c%3A/Users/msmic/Documents/code/schl/Informer2020/env/lib/site-packages/torch/tensor.py?line=243'>244</a>\u001b[0m         inputs\u001b[39m=\u001b[39minputs)\n\u001b[1;32m--> <a href='file:///c%3A/Users/msmic/Documents/code/schl/Informer2020/env/lib/site-packages/torch/tensor.py?line=244'>245</a>\u001b[0m torch\u001b[39m.\u001b[39;49mautograd\u001b[39m.\u001b[39;49mbackward(\u001b[39mself\u001b[39;49m, gradient, retain_graph, create_graph, inputs\u001b[39m=\u001b[39;49minputs)\n",
      "File \u001b[1;32m~\\Documents\\code\\schl\\Informer2020\\env\\lib\\site-packages\\torch\\autograd\\__init__.py:145\u001b[0m, in \u001b[0;36mbackward\u001b[1;34m(tensors, grad_tensors, retain_graph, create_graph, grad_variables, inputs)\u001b[0m\n\u001b[0;32m    <a href='file:///c%3A/Users/msmic/Documents/code/schl/Informer2020/env/lib/site-packages/torch/autograd/__init__.py?line=141'>142</a>\u001b[0m \u001b[39mif\u001b[39;00m retain_graph \u001b[39mis\u001b[39;00m \u001b[39mNone\u001b[39;00m:\n\u001b[0;32m    <a href='file:///c%3A/Users/msmic/Documents/code/schl/Informer2020/env/lib/site-packages/torch/autograd/__init__.py?line=142'>143</a>\u001b[0m     retain_graph \u001b[39m=\u001b[39m create_graph\n\u001b[1;32m--> <a href='file:///c%3A/Users/msmic/Documents/code/schl/Informer2020/env/lib/site-packages/torch/autograd/__init__.py?line=144'>145</a>\u001b[0m Variable\u001b[39m.\u001b[39;49m_execution_engine\u001b[39m.\u001b[39;49mrun_backward(\n\u001b[0;32m    <a href='file:///c%3A/Users/msmic/Documents/code/schl/Informer2020/env/lib/site-packages/torch/autograd/__init__.py?line=145'>146</a>\u001b[0m     tensors, grad_tensors_, retain_graph, create_graph, inputs,\n\u001b[0;32m    <a href='file:///c%3A/Users/msmic/Documents/code/schl/Informer2020/env/lib/site-packages/torch/autograd/__init__.py?line=146'>147</a>\u001b[0m     allow_unreachable\u001b[39m=\u001b[39;49m\u001b[39mTrue\u001b[39;49;00m, accumulate_grad\u001b[39m=\u001b[39;49m\u001b[39mTrue\u001b[39;49;00m)\n",
      "\u001b[1;31mKeyboardInterrupt\u001b[0m: "
     ]
    }
   ],
   "source": [
    "for ii in range(args.itr):\n",
    "    # setting record of experiments\n",
    "    setting = '{}_{}_ft{}_sl{}_ll{}_pl{}_dm{}_nh{}_el{}_dl{}_df{}_at{}_fc{}_eb{}_dt{}_mx{}_{}_{}'.format(args.model, args.data, args.features, \n",
    "                args.seq_len, args.label_len, args.pred_len,\n",
    "                args.d_model, args.n_heads, args.e_layers, args.d_layers, args.d_ff, args.attn, args.factor, args.embed, args.distil, args.mix, args.des, ii)\n",
    "\n",
    "    # set experiments\n",
    "    exp = Exp(args)\n",
    "    \n",
    "    # train\n",
    "    print('>>>>>>>start training : {}>>>>>>>>>>>>>>>>>>>>>>>>>>'.format(setting))\n",
    "    exp.train(setting)\n",
    "    \n",
    "    # test\n",
    "    print('>>>>>>>testing : {}<<<<<<<<<<<<<<<<<<<<<<<<<<<<<<<<<'.format(setting))\n",
    "    exp.test(setting)\n",
    "\n",
    "    torch.cuda.empty_cache()"
   ]
  },
  {
   "cell_type": "code",
   "execution_count": 171,
   "metadata": {},
   "outputs": [
    {
     "data": {
      "text/plain": [
       "((768, 4, 1), (768, 4, 1))"
      ]
     },
     "execution_count": 171,
     "metadata": {},
     "output_type": "execute_result"
    }
   ],
   "source": [
    "preds = np.load(os.path.join('results', setting, 'pred.npy'))\n",
    "trues = np.load(os.path.join('results', setting, 'true.npy'))\n",
    "preds.shape, trues.shape"
   ]
  },
  {
   "cell_type": "code",
   "execution_count": 155,
   "metadata": {},
   "outputs": [
    {
     "name": "stdout",
     "output_type": "stream",
     "text": [
      "test 798\n"
     ]
    }
   ],
   "source": [
    "test_data, _ = exp._get_data(flag='test')"
   ]
  },
  {
   "cell_type": "code",
   "execution_count": 181,
   "metadata": {},
   "outputs": [
    {
     "data": {
      "image/png": "[encoded data removed]",
      "text/plain": [
       "<Figure size 432x288 with 1 Axes>"
      ]
     },
     "metadata": {
      "needs_background": "light"
     },
     "output_type": "display_data"
    }
   ],
   "source": [
    "import mplfinance as mpf\n",
    "import matplotlib.pyplot as plt\n",
    "idx = 10\n",
    "plt.figure()\n",
    "plt.plot(trues[idx,:,0], label='GroundTruth')\n",
    "plt.plot(preds[idx,:,0], label='Prediction')\n",
    "plt.legend()\n",
    "plt.show()"
   ]
  },
  {
   "cell_type": "code",
   "execution_count": null,
   "metadata": {},
   "outputs": [],
   "source": []
  }
 ],
 "metadata": {
  "interpreter": {
   "hash": "559d4190745a361518ad4d4fb866dbc68a1fa7e52f9c7f667db13a1490771d76"
  },
  "kernelspec": {
   "display_name": "Python 3.8.10 ('env': venv)",
   "language": "python",
   "name": "python3"
  },
  "language_info": {
   "codemirror_mode": {
    "name": "ipython",
    "version": 3
   },
   "file_extension": ".py",
   "mimetype": "text/x-python",
   "name": "python",
   "nbconvert_exporter": "python",
   "pygments_lexer": "ipython3",
   "version": "3.8.10"
  },
  "orig_nbformat": 4
 },
 "nbformat": 4,
 "nbformat_minor": 2
}
