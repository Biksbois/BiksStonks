{
 "cells": [
  {
   "cell_type": "code",
   "execution_count": 1,
   "metadata": {},
   "outputs": [
    {
     "name": "stdout",
     "output_type": "stream",
     "text": [
      "Mon Mar 21 21:32:33 2022       \n",
      "+-----------------------------------------------------------------------------+\n",
      "| NVIDIA-SMI 510.54       Driver Version: 460.32.03    CUDA Version: 11.2     |\n",
      "|-------------------------------+----------------------+----------------------+\n",
      "| GPU  Name        Persistence-M| Bus-Id        Disp.A | Volatile Uncorr. ECC |\n",
      "| Fan  Temp  Perf  Pwr:Usage/Cap|         Memory-Usage | GPU-Util  Compute M. |\n",
      "|                               |                      |               MIG M. |\n",
      "|===============================+======================+======================|\n",
      "|   0  Tesla P100-PCIE...  Off  | 00000000:00:04.0 Off |                    0 |\n",
      "| N/A   39C    P0    26W / 250W | Function Not Found   |      0%      Default |\n",
      "|                               |                      |                  N/A |\n",
      "+-------------------------------+----------------------+----------------------+\n",
      "                                                                               \n",
      "+-----------------------------------------------------------------------------+\n",
      "| Processes:                                                                  |\n",
      "|  GPU   GI   CI        PID   Type   Process name                  GPU Memory |\n",
      "|        ID   ID                                                   Usage      |\n",
      "|=============================================================================|\n",
      "|  No running processes found                                                 |\n",
      "+-----------------------------------------------------------------------------+\n"
     ]
    }
   ],
   "source": [
    "!nvidia-smi"
   ]
  },
  {
   "cell_type": "code",
   "execution_count": 2,
   "metadata": {},
   "outputs": [],
   "source": [
    "from utils.tools import dotdict\n",
    "from exp.exp_informer import Exp_Informer\n",
    "import torch\n",
    "import numpy as np\n",
    "import os\n",
    "import psycopg2 as pg\n",
    "import pandas as pd"
   ]
  },
  {
   "cell_type": "code",
   "execution_count": 52,
   "metadata": {},
   "outputs": [
    {
     "data": {
      "text/html": [
       "<div>\n",
       "<style scoped>\n",
       "    .dataframe tbody tr th:only-of-type {\n",
       "        vertical-align: middle;\n",
       "    }\n",
       "\n",
       "    .dataframe tbody tr th {\n",
       "        vertical-align: top;\n",
       "    }\n",
       "\n",
       "    .dataframe thead th {\n",
       "        text-align: right;\n",
       "    }\n",
       "</style>\n",
       "<table border=\"1\" class=\"dataframe\">\n",
       "  <thead>\n",
       "    <tr style=\"text-align: right;\">\n",
       "      <th></th>\n",
       "      <th>open</th>\n",
       "      <th>high</th>\n",
       "      <th>low</th>\n",
       "      <th>close</th>\n",
       "      <th>volume</th>\n",
       "      <th>trade_count</th>\n",
       "      <th>vwap</th>\n",
       "    </tr>\n",
       "    <tr>\n",
       "      <th>date</th>\n",
       "      <th></th>\n",
       "      <th></th>\n",
       "      <th></th>\n",
       "      <th></th>\n",
       "      <th></th>\n",
       "      <th></th>\n",
       "      <th></th>\n",
       "    </tr>\n",
       "  </thead>\n",
       "  <tbody>\n",
       "    <tr>\n",
       "      <th>2020-01-02 09:00:00+00:00</th>\n",
       "      <td>295.0500</td>\n",
       "      <td>295.75</td>\n",
       "      <td>295.050</td>\n",
       "      <td>295.7300</td>\n",
       "      <td>26138</td>\n",
       "      <td>191</td>\n",
       "      <td>295.615609</td>\n",
       "    </tr>\n",
       "    <tr>\n",
       "      <th>2020-01-02 10:00:00+00:00</th>\n",
       "      <td>295.7500</td>\n",
       "      <td>296.05</td>\n",
       "      <td>295.750</td>\n",
       "      <td>296.0000</td>\n",
       "      <td>15543</td>\n",
       "      <td>146</td>\n",
       "      <td>295.939110</td>\n",
       "    </tr>\n",
       "    <tr>\n",
       "      <th>2020-01-02 11:00:00+00:00</th>\n",
       "      <td>295.7500</td>\n",
       "      <td>295.85</td>\n",
       "      <td>295.300</td>\n",
       "      <td>295.5100</td>\n",
       "      <td>14890</td>\n",
       "      <td>163</td>\n",
       "      <td>295.572008</td>\n",
       "    </tr>\n",
       "    <tr>\n",
       "      <th>2020-01-02 12:00:00+00:00</th>\n",
       "      <td>295.5000</td>\n",
       "      <td>296.18</td>\n",
       "      <td>295.130</td>\n",
       "      <td>296.1000</td>\n",
       "      <td>134301</td>\n",
       "      <td>1219</td>\n",
       "      <td>295.912133</td>\n",
       "    </tr>\n",
       "    <tr>\n",
       "      <th>2020-01-02 13:00:00+00:00</th>\n",
       "      <td>295.8898</td>\n",
       "      <td>296.75</td>\n",
       "      <td>295.435</td>\n",
       "      <td>296.6803</td>\n",
       "      <td>215866</td>\n",
       "      <td>2080</td>\n",
       "      <td>296.265945</td>\n",
       "    </tr>\n",
       "  </tbody>\n",
       "</table>\n",
       "</div>"
      ],
      "text/plain": [
       "                               open    high      low     close  volume  \\\n",
       "date                                                                     \n",
       "2020-01-02 09:00:00+00:00  295.0500  295.75  295.050  295.7300   26138   \n",
       "2020-01-02 10:00:00+00:00  295.7500  296.05  295.750  296.0000   15543   \n",
       "2020-01-02 11:00:00+00:00  295.7500  295.85  295.300  295.5100   14890   \n",
       "2020-01-02 12:00:00+00:00  295.5000  296.18  295.130  296.1000  134301   \n",
       "2020-01-02 13:00:00+00:00  295.8898  296.75  295.435  296.6803  215866   \n",
       "\n",
       "                           trade_count        vwap  \n",
       "date                                                \n",
       "2020-01-02 09:00:00+00:00          191  295.615609  \n",
       "2020-01-02 10:00:00+00:00          146  295.939110  \n",
       "2020-01-02 11:00:00+00:00          163  295.572008  \n",
       "2020-01-02 12:00:00+00:00         1219  295.912133  \n",
       "2020-01-02 13:00:00+00:00         2080  296.265945  "
      ]
     },
     "execution_count": 52,
     "metadata": {},
     "output_type": "execute_result"
    }
   ],
   "source": [
    "use_db = False\n",
    "agg = {'open': 'first',\n",
    "        'high': 'max', \n",
    "        'low': 'min', \n",
    "        'close': 'last',\n",
    "        'volume': 'sum'}\n",
    "# use db instead of csv\n",
    "if use_db:\n",
    "        conn = pg.connect(database='stonksdb', user='postgres', password='admin')\n",
    "        # df format [date, features*, *target features]\n",
    "        query = 'SELECT time AS date, open, high, low, volume, close \\\n",
    "                        FROM stock WHERE identifier = 15521 \\\n",
    "                        ORDER BY time ASC;'\n",
    "        df = pd.read_sql(query, conn)\n",
    "        df.set_index(pd.DatetimeIndex(df['date']), inplace=True)\n",
    "        # resample \n",
    "        df = df.resample('1h').agg(agg).dropna()\n",
    "        df.reset_index(inplace=True)\n",
    "else:\n",
    "        agg['trade_count'] = 'sum'\n",
    "        agg['vwap'] = 'mean'\n",
    "        df = pd.read_csv('data/AAPL.csv')\n",
    "        df.set_index(pd.DatetimeIndex(df['timestamp']), inplace=True)\n",
    "        df.drop(['timestamp'], axis=1, inplace=True)\n",
    "        df.index.set_names(['date'], inplace=True)\n",
    "        # resample\n",
    "        df = df.resample('1h').agg(agg).dropna()\n",
    "        # df.reset_index(inplace=True)  \n",
    "        df.to_csv('data/AAPL_h.csv')\n",
    "df.head()"
   ]
  },
  {
   "cell_type": "code",
   "execution_count": 59,
   "metadata": {},
   "outputs": [],
   "source": [
    "args = dotdict()\n",
    "\n",
    "args.model = 'informer' # model of experiment, options: [informer, informerstack, informerlight(TBD)]\n",
    "\n",
    "args.data = 'custom' # data\n",
    "args.root_path = 'data' # root path of data file\n",
    "args.data_path = 'AAPL_h.csv' # 'dbank_h.csv' # data file\n",
    "\n",
    "args.use_df = use_db # use dataframe\n",
    "args.df = df # dataframe\n",
    "\n",
    "args.features = 'MS' # forecasting task, options:[M, S, MS]; M:multivariate predict multivariate, S:univariate predict univariate, MS:multivariate predict univariate\n",
    "args.target = 'close' # target feature in S or MS task\n",
    "args.freq = 'h' # freq for time features encoding, options:[s:secondly, t:minutely, h:hourly, d:daily, b:business days, w:weekly, m:monthly], you can also use more detailed freq like 15min or 3h\n",
    "args.checkpoints = './informer_checkpoints' # location of model checkpoints\n",
    "\n",
    "\n",
    "\n",
    "args.seq_len = 96 # input sequence length of Informer encoder\n",
    "args.label_len = 48 # start token length of Informer decoder\n",
    "args.pred_len = 16 # prediction sequence length\n",
    "# Informer decoder input: concat[start token series(label_len), zero padding series(pred_len)]\n",
    "\n",
    "args.enc_in = 7 # encoder input size # ohlc + volume + [trade_count, vwap]\n",
    "args.dec_in = 7 # decoder input size # ohlc + volume + [trade_count, vwap]\n",
    "args.c_out = 1 # output size # 1 univariate prediction for close price\n",
    "args.factor = 5 # probsparse attn factor\n",
    "args.d_model = 512 # dimension of model\n",
    "args.n_heads = 8 # num of heads\n",
    "args.e_layers = 2 # num of encoder layers\n",
    "args.d_layers = 1 # num of decoder layers\n",
    "args.d_ff = 2048 # dimension of fcn in model\n",
    "args.dropout = 0.05 # dropout\n",
    "args.attn = 'prob' # attention used in encoder, options:[prob, full]\n",
    "args.embed = 'timeF' # time features encoding, options:[timeF, fixed, learned]\n",
    "args.activation = 'gelu' # activation\n",
    "args.distil = True # whether to use distilling in encoder\n",
    "args.output_attention = False # whether to output attention in ecoder\n",
    "args.mix = True\n",
    "args.padding = 0\n",
    "args.freq = 'h'\n",
    "args.detail_freq = args.freq\n",
    "args.inverse = False\n",
    "\n",
    "args.batch_size = 32 \n",
    "args.learning_rate = 0.0001\n",
    "args.loss = 'mse'\n",
    "args.lradj = 'type1'\n",
    "args.use_amp = False # whether to use automatic mixed precision training\n",
    "\n",
    "args.num_workers = 0\n",
    "args.itr = 1\n",
    "args.train_epochs = 10\n",
    "args.patience = 3\n",
    "args.des = 'exp'\n",
    "\n",
    "args.use_gpu = True if torch.cuda.is_available() else False\n",
    "args.gpu = 0\n",
    "\n",
    "args.use_multi_gpu = False\n",
    "args.devices = '0,1,2,3'"
   ]
  },
  {
   "cell_type": "code",
   "execution_count": 60,
   "metadata": {},
   "outputs": [],
   "source": [
    "Exp = Exp_Informer"
   ]
  },
  {
   "cell_type": "code",
   "execution_count": 61,
   "metadata": {},
   "outputs": [
    {
     "name": "stdout",
     "output_type": "stream",
     "text": [
      "Use GPU: cuda:0\n",
      ">>>>>>>start training : informer_custom_ftMS_sl96_ll48_pl16_dm512_nh8_el2_dl1_df2048_atprob_fc5_ebtimeF_dtTrue_mxTrue_exp_0>>>>>>>>>>>>>>>>>>>>>>>>>>\n",
      "train 4635\n",
      "val 664\n",
      "test 1341\n",
      "\titers: 100, epoch: 1 | loss: 0.0323519\n",
      "\tspeed: 0.0697s/iter; left time: 93.5103s\n",
      "Epoch: 1 cost time: 10.067720413208008\n",
      "Epoch: 1, Steps: 144 | Train Loss: 0.1147462 Vali Loss: 0.0026417 Test Loss: 0.0057299\n",
      "Validation loss decreased (inf --> 0.002642).  Saving model ...\n",
      "Updating learning rate to 0.0001\n",
      "\titers: 100, epoch: 2 | loss: 0.0152855\n",
      "\tspeed: 0.1161s/iter; left time: 138.9238s\n",
      "Epoch: 2 cost time: 10.084299564361572\n",
      "Epoch: 2, Steps: 144 | Train Loss: 0.0428794 Vali Loss: 0.0038415 Test Loss: 0.0095160\n",
      "EarlyStopping counter: 1 out of 3\n",
      "Updating learning rate to 5e-05\n",
      "\titers: 100, epoch: 3 | loss: 0.0594662\n",
      "\tspeed: 0.1143s/iter; left time: 120.3062s\n",
      "Epoch: 3 cost time: 10.030747175216675\n",
      "Epoch: 3, Steps: 144 | Train Loss: 0.0328791 Vali Loss: 0.0020563 Test Loss: 0.0065415\n",
      "Validation loss decreased (0.002642 --> 0.002056).  Saving model ...\n",
      "Updating learning rate to 2.5e-05\n",
      "\titers: 100, epoch: 4 | loss: 0.0091643\n",
      "\tspeed: 0.1164s/iter; left time: 105.8179s\n",
      "Epoch: 4 cost time: 10.077742338180542\n",
      "Epoch: 4, Steps: 144 | Train Loss: 0.0275051 Vali Loss: 0.0012803 Test Loss: 0.0050865\n",
      "Validation loss decreased (0.002056 --> 0.001280).  Saving model ...\n",
      "Updating learning rate to 1.25e-05\n",
      "\titers: 100, epoch: 5 | loss: 0.0144423\n",
      "\tspeed: 0.1161s/iter; left time: 88.8236s\n",
      "Epoch: 5 cost time: 10.079067945480347\n",
      "Epoch: 5, Steps: 144 | Train Loss: 0.0261700 Vali Loss: 0.0015772 Test Loss: 0.0051208\n",
      "EarlyStopping counter: 1 out of 3\n",
      "Updating learning rate to 6.25e-06\n",
      "\titers: 100, epoch: 6 | loss: 0.0071325\n",
      "\tspeed: 0.1149s/iter; left time: 71.3670s\n",
      "Epoch: 6 cost time: 10.105027914047241\n",
      "Epoch: 6, Steps: 144 | Train Loss: 0.0247782 Vali Loss: 0.0012553 Test Loss: 0.0043072\n",
      "Validation loss decreased (0.001280 --> 0.001255).  Saving model ...\n",
      "Updating learning rate to 3.125e-06\n",
      "\titers: 100, epoch: 7 | loss: 0.0099275\n",
      "\tspeed: 0.1167s/iter; left time: 55.6536s\n",
      "Epoch: 7 cost time: 10.092151880264282\n",
      "Epoch: 7, Steps: 144 | Train Loss: 0.0246102 Vali Loss: 0.0014343 Test Loss: 0.0047673\n",
      "EarlyStopping counter: 1 out of 3\n",
      "Updating learning rate to 1.5625e-06\n",
      "\titers: 100, epoch: 8 | loss: 0.0137961\n",
      "\tspeed: 0.1145s/iter; left time: 38.1177s\n",
      "Epoch: 8 cost time: 10.073655128479004\n",
      "Epoch: 8, Steps: 144 | Train Loss: 0.0250391 Vali Loss: 0.0012548 Test Loss: 0.0046185\n",
      "Validation loss decreased (0.001255 --> 0.001255).  Saving model ...\n",
      "Updating learning rate to 7.8125e-07\n",
      "\titers: 100, epoch: 9 | loss: 0.0065261\n",
      "\tspeed: 0.1170s/iter; left time: 22.1043s\n",
      "Epoch: 9 cost time: 10.061882019042969\n",
      "Epoch: 9, Steps: 144 | Train Loss: 0.0235727 Vali Loss: 0.0013118 Test Loss: 0.0046340\n",
      "EarlyStopping counter: 1 out of 3\n",
      "Updating learning rate to 3.90625e-07\n",
      "\titers: 100, epoch: 10 | loss: 0.0083831\n",
      "\tspeed: 0.1146s/iter; left time: 5.1571s\n",
      "Epoch: 10 cost time: 10.067157983779907\n",
      "Epoch: 10, Steps: 144 | Train Loss: 0.0237337 Vali Loss: 0.0014229 Test Loss: 0.0050947\n",
      "EarlyStopping counter: 2 out of 3\n",
      "Updating learning rate to 1.953125e-07\n",
      ">>>>>>>testing : informer_custom_ftMS_sl96_ll48_pl16_dm512_nh8_el2_dl1_df2048_atprob_fc5_ebtimeF_dtTrue_mxTrue_exp_0<<<<<<<<<<<<<<<<<<<<<<<<<<<<<<<<<\n",
      "test 1341\n",
      "test shape: (41, 32, 16, 1) (41, 32, 16, 1)\n",
      "test shape: (1312, 16, 1) (1312, 16, 1)\n",
      "mse:0.004653365816920996, mae:0.0548982098698616\n"
     ]
    }
   ],
   "source": [
    "for ii in range(args.itr):\n",
    "    # setting record of experiments\n",
    "    setting = '{}_{}_ft{}_sl{}_ll{}_pl{}_dm{}_nh{}_el{}_dl{}_df{}_at{}_fc{}_eb{}_dt{}_mx{}_{}_{}'.format(args.model, args.data, args.features, \n",
    "                args.seq_len, args.label_len, args.pred_len,\n",
    "                args.d_model, args.n_heads, args.e_layers, args.d_layers, args.d_ff, args.attn, args.factor, args.embed, args.distil, args.mix, args.des, ii)\n",
    "\n",
    "    # set experiments\n",
    "    exp = Exp(args)\n",
    "    \n",
    "    # train\n",
    "    print('>>>>>>>start training : {}>>>>>>>>>>>>>>>>>>>>>>>>>>'.format(setting))\n",
    "    exp.train(setting)\n",
    "    \n",
    "    # test\n",
    "    print('>>>>>>>testing : {}<<<<<<<<<<<<<<<<<<<<<<<<<<<<<<<<<'.format(setting))\n",
    "    exp.test(setting)\n",
    "\n",
    "    torch.cuda.empty_cache()"
   ]
  },
  {
   "cell_type": "code",
   "execution_count": 62,
   "metadata": {},
   "outputs": [
    {
     "data": {
      "text/plain": [
       "((1312, 16, 1), (1312, 16, 1))"
      ]
     },
     "execution_count": 62,
     "metadata": {},
     "output_type": "execute_result"
    }
   ],
   "source": [
    "preds = np.load(os.path.join('results', setting, 'pred.npy'))\n",
    "trues = np.load(os.path.join('results', setting, 'true.npy'))\n",
    "preds.shape, trues.shape"
   ]
  },
  {
   "cell_type": "code",
   "execution_count": 63,
   "metadata": {},
   "outputs": [
    {
     "name": "stdout",
     "output_type": "stream",
     "text": [
      "test 1341\n"
     ]
    }
   ],
   "source": [
    "test_data, _ = exp._get_data(flag='test')"
   ]
  },
  {
   "cell_type": "code",
   "execution_count": 67,
   "metadata": {},
   "outputs": [],
   "source": [
    "!pip install mplfinance --quiet\n",
    "import mplfinance as mpf\n",
    "import matplotlib.pyplot as plt"
   ]
  },
  {
   "cell_type": "code",
   "execution_count": 88,
   "metadata": {},
   "outputs": [
    {
     "data": {
      "image/png": "[encoded data removed]",
      "text/plain": [
       "<Figure size 432x288 with 1 Axes>"
      ]
     },
     "metadata": {
      "needs_background": "light"
     },
     "output_type": "display_data"
    }
   ],
   "source": [
    "idx = 1010\n",
    "plt.figure()\n",
    "plt.plot(trues[idx], label='GroundTruth')\n",
    "plt.plot(preds[idx], label='Prediction')\n",
    "plt.legend()\n",
    "plt.show()"
   ]
  },
  {
   "cell_type": "code",
   "execution_count": null,
   "metadata": {},
   "outputs": [],
   "source": []
  }
 ],
 "metadata": {
  "interpreter": {
   "hash": "559d4190745a361518ad4d4fb866dbc68a1fa7e52f9c7f667db13a1490771d76"
  },
  "kernelspec": {
   "display_name": "Python 3",
   "language": "python",
   "name": "python3"
  },
  "language_info": {
   "codemirror_mode": {
    "name": "ipython",
    "version": 3
   },
   "file_extension": ".py",
   "mimetype": "text/x-python",
   "name": "python",
   "nbconvert_exporter": "python",
   "pygments_lexer": "ipython3",
   "version": "3.7.12"
  },
  "orig_nbformat": 4
 },
 "nbformat": 4,
 "nbformat_minor": 2
}
