{
 "cells": [
  {
   "cell_type": "code",
   "execution_count": 2,
   "metadata": {},
   "outputs": [],
   "source": [
    "from utils.tools import dotdict\n",
    "from exp.exp_informer import Exp_Informer\n",
    "import torch\n",
    "import numpy as np\n",
    "import os"
   ]
  },
  {
   "cell_type": "code",
   "execution_count": 3,
   "metadata": {},
   "outputs": [],
   "source": [
    "args = dotdict()\n",
    "\n",
    "args.model = 'informer' # model of experiment, options: [informer, informerstack, informerlight(TBD)]\n",
    "\n",
    "args.data = 'custom' # data\n",
    "args.root_path = '.' # root path of data file\n",
    "args.data_path = 'dbank_h.csv' # data file\n",
    "args.features = 'MS' # forecasting task, options:[M, S, MS]; M:multivariate predict multivariate, S:univariate predict univariate, MS:multivariate predict univariate\n",
    "args.target = 'close' # target feature in S or MS task\n",
    "args.freq = 'h' # freq for time features encoding, options:[s:secondly, t:minutely, h:hourly, d:daily, b:business days, w:weekly, m:monthly], you can also use more detailed freq like 15min or 3h\n",
    "args.checkpoints = './informer_checkpoints' # location of model checkpoints\n",
    "\n",
    "args.seq_len = 12 # input sequence length of Informer encoder\n",
    "args.label_len = 12 # start token length of Informer decoder\n",
    "args.pred_len = 4 # prediction sequence length\n",
    "# Informer decoder input: concat[start token series(label_len), zero padding series(pred_len)]\n",
    "\n",
    "args.enc_in = 5 # encoder input size # ohlc + volume\n",
    "args.dec_in = 5 # decoder input size # ohlc + volume\n",
    "args.c_out = 1 # output size # 1 univariate prediction for close price\n",
    "args.factor = 5 # probsparse attn factor\n",
    "args.d_model = 512 # dimension of model\n",
    "args.n_heads = 8 # num of heads\n",
    "args.e_layers = 2 # num of encoder layers\n",
    "args.d_layers = 1 # num of decoder layers\n",
    "args.d_ff = 2048 # dimension of fcn in model\n",
    "args.dropout = 0.05 # dropout\n",
    "args.attn = 'prob' # attention used in encoder, options:[prob, full]\n",
    "args.embed = 'timeF' # time features encoding, options:[timeF, fixed, learned]\n",
    "args.activation = 'gelu' # activation\n",
    "args.distil = True # whether to use distilling in encoder\n",
    "args.output_attention = False # whether to output attention in ecoder\n",
    "args.mix = True\n",
    "args.padding = 0\n",
    "args.freq = 'h'\n",
    "args.detail_freq = args.freq\n",
    "args.inverse = True\n",
    "\n",
    "args.batch_size = 32 \n",
    "args.learning_rate = 0.0001\n",
    "args.loss = 'mse'\n",
    "args.lradj = 'type1'\n",
    "args.use_amp = False # whether to use automatic mixed precision training\n",
    "\n",
    "args.num_workers = 0\n",
    "args.itr = 1\n",
    "args.train_epochs = 6\n",
    "args.patience = 3\n",
    "args.des = 'exp'\n",
    "\n",
    "args.use_gpu = True if torch.cuda.is_available() else False\n",
    "args.gpu = 0\n",
    "\n",
    "args.use_multi_gpu = False\n",
    "args.devices = '0,1,2,3'"
   ]
  },
  {
   "cell_type": "code",
   "execution_count": 4,
   "metadata": {},
   "outputs": [],
   "source": [
    "Exp = Exp_Informer"
   ]
  },
  {
   "cell_type": "code",
   "execution_count": 5,
   "metadata": {},
   "outputs": [
    {
     "name": "stdout",
     "output_type": "stream",
     "text": [
      "Use CPU\n",
      ">>>>>>>start training : informer_custom_ftMS_sl12_ll12_pl4_dm512_nh8_el2_dl1_df2048_atprob_fc5_ebtimeF_dtTrue_mxTrue_exp_0>>>>>>>>>>>>>>>>>>>>>>>>>>\n",
      "train 2791\n",
      "val 399\n",
      "test 798\n"
     ]
    },
    {
     "ename": "KeyboardInterrupt",
     "evalue": "",
     "output_type": "error",
     "traceback": [
      "\u001b[1;31m---------------------------------------------------------------------------\u001b[0m",
      "\u001b[1;31mKeyboardInterrupt\u001b[0m                         Traceback (most recent call last)",
      "\u001b[1;32mc:\\Users\\msmic\\Documents\\code\\schl\\BiksStonks\\Forcasting_Models\\Informer\\train_informer.ipynb Cell 4'\u001b[0m in \u001b[0;36m<cell line: 1>\u001b[1;34m()\u001b[0m\n\u001b[0;32m     <a href='vscode-notebook-cell:/c%3A/Users/msmic/Documents/code/schl/BiksStonks/Forcasting_Models/Informer/train_informer.ipynb#ch0000003?line=9'>10</a>\u001b[0m \u001b[39m# train\u001b[39;00m\n\u001b[0;32m     <a href='vscode-notebook-cell:/c%3A/Users/msmic/Documents/code/schl/BiksStonks/Forcasting_Models/Informer/train_informer.ipynb#ch0000003?line=10'>11</a>\u001b[0m \u001b[39mprint\u001b[39m(\u001b[39m'\u001b[39m\u001b[39m>>>>>>>start training : \u001b[39m\u001b[39m{}\u001b[39;00m\u001b[39m>>>>>>>>>>>>>>>>>>>>>>>>>>\u001b[39m\u001b[39m'\u001b[39m\u001b[39m.\u001b[39mformat(setting))\n\u001b[1;32m---> <a href='vscode-notebook-cell:/c%3A/Users/msmic/Documents/code/schl/BiksStonks/Forcasting_Models/Informer/train_informer.ipynb#ch0000003?line=11'>12</a>\u001b[0m exp\u001b[39m.\u001b[39;49mtrain(setting)\n\u001b[0;32m     <a href='vscode-notebook-cell:/c%3A/Users/msmic/Documents/code/schl/BiksStonks/Forcasting_Models/Informer/train_informer.ipynb#ch0000003?line=13'>14</a>\u001b[0m \u001b[39m# test\u001b[39;00m\n\u001b[0;32m     <a href='vscode-notebook-cell:/c%3A/Users/msmic/Documents/code/schl/BiksStonks/Forcasting_Models/Informer/train_informer.ipynb#ch0000003?line=14'>15</a>\u001b[0m \u001b[39mprint\u001b[39m(\u001b[39m'\u001b[39m\u001b[39m>>>>>>>testing : \u001b[39m\u001b[39m{}\u001b[39;00m\u001b[39m<<<<<<<<<<<<<<<<<<<<<<<<<<<<<<<<<\u001b[39m\u001b[39m'\u001b[39m\u001b[39m.\u001b[39mformat(setting))\n",
      "File \u001b[1;32mc:\\Users\\msmic\\Documents\\code\\schl\\BiksStonks\\Forcasting_Models\\Informer\\exp\\exp_informer.py:155\u001b[0m, in \u001b[0;36mExp_Informer.train\u001b[1;34m(self, setting)\u001b[0m\n\u001b[0;32m    <a href='file:///c%3A/Users/msmic/Documents/code/schl/BiksStonks/Forcasting_Models/Informer/exp/exp_informer.py?line=151'>152</a>\u001b[0m iter_count \u001b[39m+\u001b[39m\u001b[39m=\u001b[39m \u001b[39m1\u001b[39m\n\u001b[0;32m    <a href='file:///c%3A/Users/msmic/Documents/code/schl/BiksStonks/Forcasting_Models/Informer/exp/exp_informer.py?line=153'>154</a>\u001b[0m model_optim\u001b[39m.\u001b[39mzero_grad()\n\u001b[1;32m--> <a href='file:///c%3A/Users/msmic/Documents/code/schl/BiksStonks/Forcasting_Models/Informer/exp/exp_informer.py?line=154'>155</a>\u001b[0m pred, true \u001b[39m=\u001b[39m \u001b[39mself\u001b[39;49m\u001b[39m.\u001b[39;49m_process_one_batch(\n\u001b[0;32m    <a href='file:///c%3A/Users/msmic/Documents/code/schl/BiksStonks/Forcasting_Models/Informer/exp/exp_informer.py?line=155'>156</a>\u001b[0m     train_data, batch_x, batch_y, batch_x_mark, batch_y_mark)\n\u001b[0;32m    <a href='file:///c%3A/Users/msmic/Documents/code/schl/BiksStonks/Forcasting_Models/Informer/exp/exp_informer.py?line=156'>157</a>\u001b[0m loss \u001b[39m=\u001b[39m criterion(pred, true)\n\u001b[0;32m    <a href='file:///c%3A/Users/msmic/Documents/code/schl/BiksStonks/Forcasting_Models/Informer/exp/exp_informer.py?line=157'>158</a>\u001b[0m train_loss\u001b[39m.\u001b[39mappend(loss\u001b[39m.\u001b[39mitem())\n",
      "File \u001b[1;32mc:\\Users\\msmic\\Documents\\code\\schl\\BiksStonks\\Forcasting_Models\\Informer\\exp\\exp_informer.py:283\u001b[0m, in \u001b[0;36mExp_Informer._process_one_batch\u001b[1;34m(self, dataset_object, batch_x, batch_y, batch_x_mark, batch_y_mark)\u001b[0m\n\u001b[0;32m    <a href='file:///c%3A/Users/msmic/Documents/code/schl/BiksStonks/Forcasting_Models/Informer/exp/exp_informer.py?line=280'>281</a>\u001b[0m         outputs \u001b[39m=\u001b[39m \u001b[39mself\u001b[39m\u001b[39m.\u001b[39mmodel(batch_x, batch_x_mark, dec_inp, batch_y_mark)[\u001b[39m0\u001b[39m]\n\u001b[0;32m    <a href='file:///c%3A/Users/msmic/Documents/code/schl/BiksStonks/Forcasting_Models/Informer/exp/exp_informer.py?line=281'>282</a>\u001b[0m     \u001b[39melse\u001b[39;00m:\n\u001b[1;32m--> <a href='file:///c%3A/Users/msmic/Documents/code/schl/BiksStonks/Forcasting_Models/Informer/exp/exp_informer.py?line=282'>283</a>\u001b[0m         outputs \u001b[39m=\u001b[39m \u001b[39mself\u001b[39;49m\u001b[39m.\u001b[39;49mmodel(batch_x, batch_x_mark, dec_inp, batch_y_mark)\n\u001b[0;32m    <a href='file:///c%3A/Users/msmic/Documents/code/schl/BiksStonks/Forcasting_Models/Informer/exp/exp_informer.py?line=283'>284</a>\u001b[0m \u001b[39mif\u001b[39;00m \u001b[39mself\u001b[39m\u001b[39m.\u001b[39margs\u001b[39m.\u001b[39minverse:\n\u001b[0;32m    <a href='file:///c%3A/Users/msmic/Documents/code/schl/BiksStonks/Forcasting_Models/Informer/exp/exp_informer.py?line=284'>285</a>\u001b[0m     outputs \u001b[39m=\u001b[39m dataset_object\u001b[39m.\u001b[39minverse_transform(outputs)\n",
      "File \u001b[1;32m~\\Documents\\code\\schl\\Informer2020\\env\\lib\\site-packages\\torch\\nn\\modules\\module.py:889\u001b[0m, in \u001b[0;36mModule._call_impl\u001b[1;34m(self, *input, **kwargs)\u001b[0m\n\u001b[0;32m    <a href='file:///c%3A/Users/msmic/Documents/code/schl/Informer2020/env/lib/site-packages/torch/nn/modules/module.py?line=886'>887</a>\u001b[0m     result \u001b[39m=\u001b[39m \u001b[39mself\u001b[39m\u001b[39m.\u001b[39m_slow_forward(\u001b[39m*\u001b[39m\u001b[39minput\u001b[39m, \u001b[39m*\u001b[39m\u001b[39m*\u001b[39mkwargs)\n\u001b[0;32m    <a href='file:///c%3A/Users/msmic/Documents/code/schl/Informer2020/env/lib/site-packages/torch/nn/modules/module.py?line=887'>888</a>\u001b[0m \u001b[39melse\u001b[39;00m:\n\u001b[1;32m--> <a href='file:///c%3A/Users/msmic/Documents/code/schl/Informer2020/env/lib/site-packages/torch/nn/modules/module.py?line=888'>889</a>\u001b[0m     result \u001b[39m=\u001b[39m \u001b[39mself\u001b[39;49m\u001b[39m.\u001b[39;49mforward(\u001b[39m*\u001b[39;49m\u001b[39minput\u001b[39;49m, \u001b[39m*\u001b[39;49m\u001b[39m*\u001b[39;49mkwargs)\n\u001b[0;32m    <a href='file:///c%3A/Users/msmic/Documents/code/schl/Informer2020/env/lib/site-packages/torch/nn/modules/module.py?line=889'>890</a>\u001b[0m \u001b[39mfor\u001b[39;00m hook \u001b[39min\u001b[39;00m itertools\u001b[39m.\u001b[39mchain(\n\u001b[0;32m    <a href='file:///c%3A/Users/msmic/Documents/code/schl/Informer2020/env/lib/site-packages/torch/nn/modules/module.py?line=890'>891</a>\u001b[0m         _global_forward_hooks\u001b[39m.\u001b[39mvalues(),\n\u001b[0;32m    <a href='file:///c%3A/Users/msmic/Documents/code/schl/Informer2020/env/lib/site-packages/torch/nn/modules/module.py?line=891'>892</a>\u001b[0m         \u001b[39mself\u001b[39m\u001b[39m.\u001b[39m_forward_hooks\u001b[39m.\u001b[39mvalues()):\n\u001b[0;32m    <a href='file:///c%3A/Users/msmic/Documents/code/schl/Informer2020/env/lib/site-packages/torch/nn/modules/module.py?line=892'>893</a>\u001b[0m     hook_result \u001b[39m=\u001b[39m hook(\u001b[39mself\u001b[39m, \u001b[39minput\u001b[39m, result)\n",
      "File \u001b[1;32mc:\\Users\\msmic\\Documents\\code\\schl\\BiksStonks\\Forcasting_Models\\Informer\\models\\model.py:70\u001b[0m, in \u001b[0;36mInformer.forward\u001b[1;34m(self, x_enc, x_mark_enc, x_dec, x_mark_dec, enc_self_mask, dec_self_mask, dec_enc_mask)\u001b[0m\n\u001b[0;32m     <a href='file:///c%3A/Users/msmic/Documents/code/schl/BiksStonks/Forcasting_Models/Informer/models/model.py?line=66'>67</a>\u001b[0m \u001b[39mdef\u001b[39;00m \u001b[39mforward\u001b[39m(\u001b[39mself\u001b[39m, x_enc, x_mark_enc, x_dec, x_mark_dec, \n\u001b[0;32m     <a href='file:///c%3A/Users/msmic/Documents/code/schl/BiksStonks/Forcasting_Models/Informer/models/model.py?line=67'>68</a>\u001b[0m             enc_self_mask\u001b[39m=\u001b[39m\u001b[39mNone\u001b[39;00m, dec_self_mask\u001b[39m=\u001b[39m\u001b[39mNone\u001b[39;00m, dec_enc_mask\u001b[39m=\u001b[39m\u001b[39mNone\u001b[39;00m):\n\u001b[0;32m     <a href='file:///c%3A/Users/msmic/Documents/code/schl/BiksStonks/Forcasting_Models/Informer/models/model.py?line=68'>69</a>\u001b[0m     enc_out \u001b[39m=\u001b[39m \u001b[39mself\u001b[39m\u001b[39m.\u001b[39menc_embedding(x_enc, x_mark_enc)\n\u001b[1;32m---> <a href='file:///c%3A/Users/msmic/Documents/code/schl/BiksStonks/Forcasting_Models/Informer/models/model.py?line=69'>70</a>\u001b[0m     enc_out, attns \u001b[39m=\u001b[39m \u001b[39mself\u001b[39;49m\u001b[39m.\u001b[39;49mencoder(enc_out, attn_mask\u001b[39m=\u001b[39;49menc_self_mask)\n\u001b[0;32m     <a href='file:///c%3A/Users/msmic/Documents/code/schl/BiksStonks/Forcasting_Models/Informer/models/model.py?line=71'>72</a>\u001b[0m     dec_out \u001b[39m=\u001b[39m \u001b[39mself\u001b[39m\u001b[39m.\u001b[39mdec_embedding(x_dec, x_mark_dec)\n\u001b[0;32m     <a href='file:///c%3A/Users/msmic/Documents/code/schl/BiksStonks/Forcasting_Models/Informer/models/model.py?line=72'>73</a>\u001b[0m     dec_out \u001b[39m=\u001b[39m \u001b[39mself\u001b[39m\u001b[39m.\u001b[39mdecoder(dec_out, enc_out, x_mask\u001b[39m=\u001b[39mdec_self_mask, cross_mask\u001b[39m=\u001b[39mdec_enc_mask)\n",
      "File \u001b[1;32m~\\Documents\\code\\schl\\Informer2020\\env\\lib\\site-packages\\torch\\nn\\modules\\module.py:889\u001b[0m, in \u001b[0;36mModule._call_impl\u001b[1;34m(self, *input, **kwargs)\u001b[0m\n\u001b[0;32m    <a href='file:///c%3A/Users/msmic/Documents/code/schl/Informer2020/env/lib/site-packages/torch/nn/modules/module.py?line=886'>887</a>\u001b[0m     result \u001b[39m=\u001b[39m \u001b[39mself\u001b[39m\u001b[39m.\u001b[39m_slow_forward(\u001b[39m*\u001b[39m\u001b[39minput\u001b[39m, \u001b[39m*\u001b[39m\u001b[39m*\u001b[39mkwargs)\n\u001b[0;32m    <a href='file:///c%3A/Users/msmic/Documents/code/schl/Informer2020/env/lib/site-packages/torch/nn/modules/module.py?line=887'>888</a>\u001b[0m \u001b[39melse\u001b[39;00m:\n\u001b[1;32m--> <a href='file:///c%3A/Users/msmic/Documents/code/schl/Informer2020/env/lib/site-packages/torch/nn/modules/module.py?line=888'>889</a>\u001b[0m     result \u001b[39m=\u001b[39m \u001b[39mself\u001b[39;49m\u001b[39m.\u001b[39;49mforward(\u001b[39m*\u001b[39;49m\u001b[39minput\u001b[39;49m, \u001b[39m*\u001b[39;49m\u001b[39m*\u001b[39;49mkwargs)\n\u001b[0;32m    <a href='file:///c%3A/Users/msmic/Documents/code/schl/Informer2020/env/lib/site-packages/torch/nn/modules/module.py?line=889'>890</a>\u001b[0m \u001b[39mfor\u001b[39;00m hook \u001b[39min\u001b[39;00m itertools\u001b[39m.\u001b[39mchain(\n\u001b[0;32m    <a href='file:///c%3A/Users/msmic/Documents/code/schl/Informer2020/env/lib/site-packages/torch/nn/modules/module.py?line=890'>891</a>\u001b[0m         _global_forward_hooks\u001b[39m.\u001b[39mvalues(),\n\u001b[0;32m    <a href='file:///c%3A/Users/msmic/Documents/code/schl/Informer2020/env/lib/site-packages/torch/nn/modules/module.py?line=891'>892</a>\u001b[0m         \u001b[39mself\u001b[39m\u001b[39m.\u001b[39m_forward_hooks\u001b[39m.\u001b[39mvalues()):\n\u001b[0;32m    <a href='file:///c%3A/Users/msmic/Documents/code/schl/Informer2020/env/lib/site-packages/torch/nn/modules/module.py?line=892'>893</a>\u001b[0m     hook_result \u001b[39m=\u001b[39m hook(\u001b[39mself\u001b[39m, \u001b[39minput\u001b[39m, result)\n",
      "File \u001b[1;32mc:\\Users\\msmic\\Documents\\code\\schl\\BiksStonks\\Forcasting_Models\\Informer\\models\\encoder.py:68\u001b[0m, in \u001b[0;36mEncoder.forward\u001b[1;34m(self, x, attn_mask)\u001b[0m\n\u001b[0;32m     <a href='file:///c%3A/Users/msmic/Documents/code/schl/BiksStonks/Forcasting_Models/Informer/models/encoder.py?line=65'>66</a>\u001b[0m \u001b[39mif\u001b[39;00m \u001b[39mself\u001b[39m\u001b[39m.\u001b[39mconv_layers \u001b[39mis\u001b[39;00m \u001b[39mnot\u001b[39;00m \u001b[39mNone\u001b[39;00m:\n\u001b[0;32m     <a href='file:///c%3A/Users/msmic/Documents/code/schl/BiksStonks/Forcasting_Models/Informer/models/encoder.py?line=66'>67</a>\u001b[0m     \u001b[39mfor\u001b[39;00m attn_layer, conv_layer \u001b[39min\u001b[39;00m \u001b[39mzip\u001b[39m(\u001b[39mself\u001b[39m\u001b[39m.\u001b[39mattn_layers, \u001b[39mself\u001b[39m\u001b[39m.\u001b[39mconv_layers):\n\u001b[1;32m---> <a href='file:///c%3A/Users/msmic/Documents/code/schl/BiksStonks/Forcasting_Models/Informer/models/encoder.py?line=67'>68</a>\u001b[0m         x, attn \u001b[39m=\u001b[39m attn_layer(x, attn_mask\u001b[39m=\u001b[39;49mattn_mask)\n\u001b[0;32m     <a href='file:///c%3A/Users/msmic/Documents/code/schl/BiksStonks/Forcasting_Models/Informer/models/encoder.py?line=68'>69</a>\u001b[0m         x \u001b[39m=\u001b[39m conv_layer(x)\n\u001b[0;32m     <a href='file:///c%3A/Users/msmic/Documents/code/schl/BiksStonks/Forcasting_Models/Informer/models/encoder.py?line=69'>70</a>\u001b[0m         attns\u001b[39m.\u001b[39mappend(attn)\n",
      "File \u001b[1;32m~\\Documents\\code\\schl\\Informer2020\\env\\lib\\site-packages\\torch\\nn\\modules\\module.py:889\u001b[0m, in \u001b[0;36mModule._call_impl\u001b[1;34m(self, *input, **kwargs)\u001b[0m\n\u001b[0;32m    <a href='file:///c%3A/Users/msmic/Documents/code/schl/Informer2020/env/lib/site-packages/torch/nn/modules/module.py?line=886'>887</a>\u001b[0m     result \u001b[39m=\u001b[39m \u001b[39mself\u001b[39m\u001b[39m.\u001b[39m_slow_forward(\u001b[39m*\u001b[39m\u001b[39minput\u001b[39m, \u001b[39m*\u001b[39m\u001b[39m*\u001b[39mkwargs)\n\u001b[0;32m    <a href='file:///c%3A/Users/msmic/Documents/code/schl/Informer2020/env/lib/site-packages/torch/nn/modules/module.py?line=887'>888</a>\u001b[0m \u001b[39melse\u001b[39;00m:\n\u001b[1;32m--> <a href='file:///c%3A/Users/msmic/Documents/code/schl/Informer2020/env/lib/site-packages/torch/nn/modules/module.py?line=888'>889</a>\u001b[0m     result \u001b[39m=\u001b[39m \u001b[39mself\u001b[39;49m\u001b[39m.\u001b[39;49mforward(\u001b[39m*\u001b[39;49m\u001b[39minput\u001b[39;49m, \u001b[39m*\u001b[39;49m\u001b[39m*\u001b[39;49mkwargs)\n\u001b[0;32m    <a href='file:///c%3A/Users/msmic/Documents/code/schl/Informer2020/env/lib/site-packages/torch/nn/modules/module.py?line=889'>890</a>\u001b[0m \u001b[39mfor\u001b[39;00m hook \u001b[39min\u001b[39;00m itertools\u001b[39m.\u001b[39mchain(\n\u001b[0;32m    <a href='file:///c%3A/Users/msmic/Documents/code/schl/Informer2020/env/lib/site-packages/torch/nn/modules/module.py?line=890'>891</a>\u001b[0m         _global_forward_hooks\u001b[39m.\u001b[39mvalues(),\n\u001b[0;32m    <a href='file:///c%3A/Users/msmic/Documents/code/schl/Informer2020/env/lib/site-packages/torch/nn/modules/module.py?line=891'>892</a>\u001b[0m         \u001b[39mself\u001b[39m\u001b[39m.\u001b[39m_forward_hooks\u001b[39m.\u001b[39mvalues()):\n\u001b[0;32m    <a href='file:///c%3A/Users/msmic/Documents/code/schl/Informer2020/env/lib/site-packages/torch/nn/modules/module.py?line=892'>893</a>\u001b[0m     hook_result \u001b[39m=\u001b[39m hook(\u001b[39mself\u001b[39m, \u001b[39minput\u001b[39m, result)\n",
      "File \u001b[1;32mc:\\Users\\msmic\\Documents\\code\\schl\\BiksStonks\\Forcasting_Models\\Informer\\models\\encoder.py:44\u001b[0m, in \u001b[0;36mEncoderLayer.forward\u001b[1;34m(self, x, attn_mask)\u001b[0m\n\u001b[0;32m     <a href='file:///c%3A/Users/msmic/Documents/code/schl/BiksStonks/Forcasting_Models/Informer/models/encoder.py?line=37'>38</a>\u001b[0m \u001b[39mdef\u001b[39;00m \u001b[39mforward\u001b[39m(\u001b[39mself\u001b[39m, x, attn_mask\u001b[39m=\u001b[39m\u001b[39mNone\u001b[39;00m):\n\u001b[0;32m     <a href='file:///c%3A/Users/msmic/Documents/code/schl/BiksStonks/Forcasting_Models/Informer/models/encoder.py?line=38'>39</a>\u001b[0m     \u001b[39m# x [B, L, D]\u001b[39;00m\n\u001b[0;32m     <a href='file:///c%3A/Users/msmic/Documents/code/schl/BiksStonks/Forcasting_Models/Informer/models/encoder.py?line=39'>40</a>\u001b[0m     \u001b[39m# x = x + self.dropout(self.attention(\u001b[39;00m\n\u001b[0;32m     <a href='file:///c%3A/Users/msmic/Documents/code/schl/BiksStonks/Forcasting_Models/Informer/models/encoder.py?line=40'>41</a>\u001b[0m     \u001b[39m#     x, x, x,\u001b[39;00m\n\u001b[0;32m     <a href='file:///c%3A/Users/msmic/Documents/code/schl/BiksStonks/Forcasting_Models/Informer/models/encoder.py?line=41'>42</a>\u001b[0m     \u001b[39m#     attn_mask = attn_mask\u001b[39;00m\n\u001b[0;32m     <a href='file:///c%3A/Users/msmic/Documents/code/schl/BiksStonks/Forcasting_Models/Informer/models/encoder.py?line=42'>43</a>\u001b[0m     \u001b[39m# ))\u001b[39;00m\n\u001b[1;32m---> <a href='file:///c%3A/Users/msmic/Documents/code/schl/BiksStonks/Forcasting_Models/Informer/models/encoder.py?line=43'>44</a>\u001b[0m     new_x, attn \u001b[39m=\u001b[39m \u001b[39mself\u001b[39;49m\u001b[39m.\u001b[39;49mattention(\n\u001b[0;32m     <a href='file:///c%3A/Users/msmic/Documents/code/schl/BiksStonks/Forcasting_Models/Informer/models/encoder.py?line=44'>45</a>\u001b[0m         x, x, x,\n\u001b[0;32m     <a href='file:///c%3A/Users/msmic/Documents/code/schl/BiksStonks/Forcasting_Models/Informer/models/encoder.py?line=45'>46</a>\u001b[0m         attn_mask \u001b[39m=\u001b[39;49m attn_mask\n\u001b[0;32m     <a href='file:///c%3A/Users/msmic/Documents/code/schl/BiksStonks/Forcasting_Models/Informer/models/encoder.py?line=46'>47</a>\u001b[0m     )\n\u001b[0;32m     <a href='file:///c%3A/Users/msmic/Documents/code/schl/BiksStonks/Forcasting_Models/Informer/models/encoder.py?line=47'>48</a>\u001b[0m     x \u001b[39m=\u001b[39m x \u001b[39m+\u001b[39m \u001b[39mself\u001b[39m\u001b[39m.\u001b[39mdropout(new_x)\n\u001b[0;32m     <a href='file:///c%3A/Users/msmic/Documents/code/schl/BiksStonks/Forcasting_Models/Informer/models/encoder.py?line=49'>50</a>\u001b[0m     y \u001b[39m=\u001b[39m x \u001b[39m=\u001b[39m \u001b[39mself\u001b[39m\u001b[39m.\u001b[39mnorm1(x)\n",
      "File \u001b[1;32m~\\Documents\\code\\schl\\Informer2020\\env\\lib\\site-packages\\torch\\nn\\modules\\module.py:889\u001b[0m, in \u001b[0;36mModule._call_impl\u001b[1;34m(self, *input, **kwargs)\u001b[0m\n\u001b[0;32m    <a href='file:///c%3A/Users/msmic/Documents/code/schl/Informer2020/env/lib/site-packages/torch/nn/modules/module.py?line=886'>887</a>\u001b[0m     result \u001b[39m=\u001b[39m \u001b[39mself\u001b[39m\u001b[39m.\u001b[39m_slow_forward(\u001b[39m*\u001b[39m\u001b[39minput\u001b[39m, \u001b[39m*\u001b[39m\u001b[39m*\u001b[39mkwargs)\n\u001b[0;32m    <a href='file:///c%3A/Users/msmic/Documents/code/schl/Informer2020/env/lib/site-packages/torch/nn/modules/module.py?line=887'>888</a>\u001b[0m \u001b[39melse\u001b[39;00m:\n\u001b[1;32m--> <a href='file:///c%3A/Users/msmic/Documents/code/schl/Informer2020/env/lib/site-packages/torch/nn/modules/module.py?line=888'>889</a>\u001b[0m     result \u001b[39m=\u001b[39m \u001b[39mself\u001b[39;49m\u001b[39m.\u001b[39;49mforward(\u001b[39m*\u001b[39;49m\u001b[39minput\u001b[39;49m, \u001b[39m*\u001b[39;49m\u001b[39m*\u001b[39;49mkwargs)\n\u001b[0;32m    <a href='file:///c%3A/Users/msmic/Documents/code/schl/Informer2020/env/lib/site-packages/torch/nn/modules/module.py?line=889'>890</a>\u001b[0m \u001b[39mfor\u001b[39;00m hook \u001b[39min\u001b[39;00m itertools\u001b[39m.\u001b[39mchain(\n\u001b[0;32m    <a href='file:///c%3A/Users/msmic/Documents/code/schl/Informer2020/env/lib/site-packages/torch/nn/modules/module.py?line=890'>891</a>\u001b[0m         _global_forward_hooks\u001b[39m.\u001b[39mvalues(),\n\u001b[0;32m    <a href='file:///c%3A/Users/msmic/Documents/code/schl/Informer2020/env/lib/site-packages/torch/nn/modules/module.py?line=891'>892</a>\u001b[0m         \u001b[39mself\u001b[39m\u001b[39m.\u001b[39m_forward_hooks\u001b[39m.\u001b[39mvalues()):\n\u001b[0;32m    <a href='file:///c%3A/Users/msmic/Documents/code/schl/Informer2020/env/lib/site-packages/torch/nn/modules/module.py?line=892'>893</a>\u001b[0m     hook_result \u001b[39m=\u001b[39m hook(\u001b[39mself\u001b[39m, \u001b[39minput\u001b[39m, result)\n",
      "File \u001b[1;32mc:\\Users\\msmic\\Documents\\code\\schl\\BiksStonks\\Forcasting_Models\\Informer\\models\\attn.py:153\u001b[0m, in \u001b[0;36mAttentionLayer.forward\u001b[1;34m(self, queries, keys, values, attn_mask)\u001b[0m\n\u001b[0;32m    <a href='file:///c%3A/Users/msmic/Documents/code/schl/BiksStonks/Forcasting_Models/Informer/models/attn.py?line=149'>150</a>\u001b[0m keys \u001b[39m=\u001b[39m \u001b[39mself\u001b[39m\u001b[39m.\u001b[39mkey_projection(keys)\u001b[39m.\u001b[39mview(B, S, H, \u001b[39m-\u001b[39m\u001b[39m1\u001b[39m)\n\u001b[0;32m    <a href='file:///c%3A/Users/msmic/Documents/code/schl/BiksStonks/Forcasting_Models/Informer/models/attn.py?line=150'>151</a>\u001b[0m values \u001b[39m=\u001b[39m \u001b[39mself\u001b[39m\u001b[39m.\u001b[39mvalue_projection(values)\u001b[39m.\u001b[39mview(B, S, H, \u001b[39m-\u001b[39m\u001b[39m1\u001b[39m)\n\u001b[1;32m--> <a href='file:///c%3A/Users/msmic/Documents/code/schl/BiksStonks/Forcasting_Models/Informer/models/attn.py?line=152'>153</a>\u001b[0m out, attn \u001b[39m=\u001b[39m \u001b[39mself\u001b[39;49m\u001b[39m.\u001b[39;49minner_attention(\n\u001b[0;32m    <a href='file:///c%3A/Users/msmic/Documents/code/schl/BiksStonks/Forcasting_Models/Informer/models/attn.py?line=153'>154</a>\u001b[0m     queries,\n\u001b[0;32m    <a href='file:///c%3A/Users/msmic/Documents/code/schl/BiksStonks/Forcasting_Models/Informer/models/attn.py?line=154'>155</a>\u001b[0m     keys,\n\u001b[0;32m    <a href='file:///c%3A/Users/msmic/Documents/code/schl/BiksStonks/Forcasting_Models/Informer/models/attn.py?line=155'>156</a>\u001b[0m     values,\n\u001b[0;32m    <a href='file:///c%3A/Users/msmic/Documents/code/schl/BiksStonks/Forcasting_Models/Informer/models/attn.py?line=156'>157</a>\u001b[0m     attn_mask\n\u001b[0;32m    <a href='file:///c%3A/Users/msmic/Documents/code/schl/BiksStonks/Forcasting_Models/Informer/models/attn.py?line=157'>158</a>\u001b[0m )\n\u001b[0;32m    <a href='file:///c%3A/Users/msmic/Documents/code/schl/BiksStonks/Forcasting_Models/Informer/models/attn.py?line=158'>159</a>\u001b[0m \u001b[39mif\u001b[39;00m \u001b[39mself\u001b[39m\u001b[39m.\u001b[39mmix:\n\u001b[0;32m    <a href='file:///c%3A/Users/msmic/Documents/code/schl/BiksStonks/Forcasting_Models/Informer/models/attn.py?line=159'>160</a>\u001b[0m     out \u001b[39m=\u001b[39m out\u001b[39m.\u001b[39mtranspose(\u001b[39m2\u001b[39m,\u001b[39m1\u001b[39m)\u001b[39m.\u001b[39mcontiguous()\n",
      "File \u001b[1;32m~\\Documents\\code\\schl\\Informer2020\\env\\lib\\site-packages\\torch\\nn\\modules\\module.py:889\u001b[0m, in \u001b[0;36mModule._call_impl\u001b[1;34m(self, *input, **kwargs)\u001b[0m\n\u001b[0;32m    <a href='file:///c%3A/Users/msmic/Documents/code/schl/Informer2020/env/lib/site-packages/torch/nn/modules/module.py?line=886'>887</a>\u001b[0m     result \u001b[39m=\u001b[39m \u001b[39mself\u001b[39m\u001b[39m.\u001b[39m_slow_forward(\u001b[39m*\u001b[39m\u001b[39minput\u001b[39m, \u001b[39m*\u001b[39m\u001b[39m*\u001b[39mkwargs)\n\u001b[0;32m    <a href='file:///c%3A/Users/msmic/Documents/code/schl/Informer2020/env/lib/site-packages/torch/nn/modules/module.py?line=887'>888</a>\u001b[0m \u001b[39melse\u001b[39;00m:\n\u001b[1;32m--> <a href='file:///c%3A/Users/msmic/Documents/code/schl/Informer2020/env/lib/site-packages/torch/nn/modules/module.py?line=888'>889</a>\u001b[0m     result \u001b[39m=\u001b[39m \u001b[39mself\u001b[39;49m\u001b[39m.\u001b[39;49mforward(\u001b[39m*\u001b[39;49m\u001b[39minput\u001b[39;49m, \u001b[39m*\u001b[39;49m\u001b[39m*\u001b[39;49mkwargs)\n\u001b[0;32m    <a href='file:///c%3A/Users/msmic/Documents/code/schl/Informer2020/env/lib/site-packages/torch/nn/modules/module.py?line=889'>890</a>\u001b[0m \u001b[39mfor\u001b[39;00m hook \u001b[39min\u001b[39;00m itertools\u001b[39m.\u001b[39mchain(\n\u001b[0;32m    <a href='file:///c%3A/Users/msmic/Documents/code/schl/Informer2020/env/lib/site-packages/torch/nn/modules/module.py?line=890'>891</a>\u001b[0m         _global_forward_hooks\u001b[39m.\u001b[39mvalues(),\n\u001b[0;32m    <a href='file:///c%3A/Users/msmic/Documents/code/schl/Informer2020/env/lib/site-packages/torch/nn/modules/module.py?line=891'>892</a>\u001b[0m         \u001b[39mself\u001b[39m\u001b[39m.\u001b[39m_forward_hooks\u001b[39m.\u001b[39mvalues()):\n\u001b[0;32m    <a href='file:///c%3A/Users/msmic/Documents/code/schl/Informer2020/env/lib/site-packages/torch/nn/modules/module.py?line=892'>893</a>\u001b[0m     hook_result \u001b[39m=\u001b[39m hook(\u001b[39mself\u001b[39m, \u001b[39minput\u001b[39m, result)\n",
      "File \u001b[1;32mc:\\Users\\msmic\\Documents\\code\\schl\\BiksStonks\\Forcasting_Models\\Informer\\models\\attn.py:121\u001b[0m, in \u001b[0;36mProbAttention.forward\u001b[1;34m(self, queries, keys, values, attn_mask)\u001b[0m\n\u001b[0;32m    <a href='file:///c%3A/Users/msmic/Documents/code/schl/BiksStonks/Forcasting_Models/Informer/models/attn.py?line=118'>119</a>\u001b[0m     scores_top \u001b[39m=\u001b[39m scores_top \u001b[39m*\u001b[39m scale\n\u001b[0;32m    <a href='file:///c%3A/Users/msmic/Documents/code/schl/BiksStonks/Forcasting_Models/Informer/models/attn.py?line=119'>120</a>\u001b[0m \u001b[39m# get the context\u001b[39;00m\n\u001b[1;32m--> <a href='file:///c%3A/Users/msmic/Documents/code/schl/BiksStonks/Forcasting_Models/Informer/models/attn.py?line=120'>121</a>\u001b[0m context \u001b[39m=\u001b[39m \u001b[39mself\u001b[39;49m\u001b[39m.\u001b[39;49m_get_initial_context(values, L_Q)\n\u001b[0;32m    <a href='file:///c%3A/Users/msmic/Documents/code/schl/BiksStonks/Forcasting_Models/Informer/models/attn.py?line=121'>122</a>\u001b[0m \u001b[39m# update the context with selected top_k queries\u001b[39;00m\n\u001b[0;32m    <a href='file:///c%3A/Users/msmic/Documents/code/schl/BiksStonks/Forcasting_Models/Informer/models/attn.py?line=122'>123</a>\u001b[0m context, attn \u001b[39m=\u001b[39m \u001b[39mself\u001b[39m\u001b[39m.\u001b[39m_update_context(context, values, scores_top, index, L_Q, attn_mask)\n",
      "File \u001b[1;32mc:\\Users\\msmic\\Documents\\code\\schl\\BiksStonks\\Forcasting_Models\\Informer\\models\\attn.py:74\u001b[0m, in \u001b[0;36mProbAttention._get_initial_context\u001b[1;34m(self, V, L_Q)\u001b[0m\n\u001b[0;32m     <a href='file:///c%3A/Users/msmic/Documents/code/schl/BiksStonks/Forcasting_Models/Informer/models/attn.py?line=70'>71</a>\u001b[0m B, H, L_V, D \u001b[39m=\u001b[39m V\u001b[39m.\u001b[39mshape\n\u001b[0;32m     <a href='file:///c%3A/Users/msmic/Documents/code/schl/BiksStonks/Forcasting_Models/Informer/models/attn.py?line=71'>72</a>\u001b[0m \u001b[39mif\u001b[39;00m \u001b[39mnot\u001b[39;00m \u001b[39mself\u001b[39m\u001b[39m.\u001b[39mmask_flag:\n\u001b[0;32m     <a href='file:///c%3A/Users/msmic/Documents/code/schl/BiksStonks/Forcasting_Models/Informer/models/attn.py?line=72'>73</a>\u001b[0m     \u001b[39m# V_sum = V.sum(dim=-2)\u001b[39;00m\n\u001b[1;32m---> <a href='file:///c%3A/Users/msmic/Documents/code/schl/BiksStonks/Forcasting_Models/Informer/models/attn.py?line=73'>74</a>\u001b[0m     V_sum \u001b[39m=\u001b[39m V\u001b[39m.\u001b[39;49mmean(dim\u001b[39m=\u001b[39;49m\u001b[39m-\u001b[39;49m\u001b[39m2\u001b[39;49m)\n\u001b[0;32m     <a href='file:///c%3A/Users/msmic/Documents/code/schl/BiksStonks/Forcasting_Models/Informer/models/attn.py?line=74'>75</a>\u001b[0m     contex \u001b[39m=\u001b[39m V_sum\u001b[39m.\u001b[39munsqueeze(\u001b[39m-\u001b[39m\u001b[39m2\u001b[39m)\u001b[39m.\u001b[39mexpand(B, H, L_Q, V_sum\u001b[39m.\u001b[39mshape[\u001b[39m-\u001b[39m\u001b[39m1\u001b[39m])\u001b[39m.\u001b[39mclone()\n\u001b[0;32m     <a href='file:///c%3A/Users/msmic/Documents/code/schl/BiksStonks/Forcasting_Models/Informer/models/attn.py?line=75'>76</a>\u001b[0m \u001b[39melse\u001b[39;00m: \u001b[39m# use mask\u001b[39;00m\n",
      "\u001b[1;31mKeyboardInterrupt\u001b[0m: "
     ]
    }
   ],
   "source": [
    "for ii in range(args.itr):\n",
    "    # setting record of experiments\n",
    "    setting = '{}_{}_ft{}_sl{}_ll{}_pl{}_dm{}_nh{}_el{}_dl{}_df{}_at{}_fc{}_eb{}_dt{}_mx{}_{}_{}'.format(args.model, args.data, args.features, \n",
    "                args.seq_len, args.label_len, args.pred_len,\n",
    "                args.d_model, args.n_heads, args.e_layers, args.d_layers, args.d_ff, args.attn, args.factor, args.embed, args.distil, args.mix, args.des, ii)\n",
    "\n",
    "    # set experiments\n",
    "    exp = Exp(args)\n",
    "    \n",
    "    # train\n",
    "    print('>>>>>>>start training : {}>>>>>>>>>>>>>>>>>>>>>>>>>>'.format(setting))\n",
    "    exp.train(setting)\n",
    "    \n",
    "    # test\n",
    "    print('>>>>>>>testing : {}<<<<<<<<<<<<<<<<<<<<<<<<<<<<<<<<<'.format(setting))\n",
    "    exp.test(setting)\n",
    "\n",
    "    torch.cuda.empty_cache()"
   ]
  },
  {
   "cell_type": "code",
   "execution_count": 118,
   "metadata": {},
   "outputs": [
    {
     "name": "stdout",
     "output_type": "stream",
     "text": [
      "pred 1\n"
     ]
    }
   ],
   "source": [
    "# predictions\n",
    "pred_data, test_loader = exp._get_data(flag='pred')\n",
    "\n",
    "inverse = True\n",
    "preds = []\n",
    "for x, y, x_mark, y_mark in iter(test_loader):\n",
    "    #for x, y, x_mark, y_mark in batch: \n",
    "    x = x.float().to(exp.device)\n",
    "    y = y.float()\n",
    "\n",
    "    x_mark = x_mark.float().to(exp.device)\n",
    "    y_mark = y_mark.float().to(exp.device)\n",
    "    \n",
    "    # zero pad y with pred_len\n",
    "    y_pred = torch.zeros((y.shape[0], args.pred_len, y.shape[-1]))\n",
    "    y_pred = torch.cat((y, y_pred), dim=1)\n",
    "\n",
    "    pred = exp.model(x, x_mark, y_pred, y_mark)\n",
    "    pred = pred_data.inverse_transform(pred) if inverse else pred\n",
    "\n",
    "    preds.append(pred[:, -args.pred_len:, -1])"
   ]
  },
  {
   "cell_type": "code",
   "execution_count": 171,
   "metadata": {},
   "outputs": [
    {
     "data": {
      "text/plain": [
       "((768, 4, 1), (768, 4, 1))"
      ]
     },
     "execution_count": 171,
     "metadata": {},
     "output_type": "execute_result"
    }
   ],
   "source": [
    "preds = np.load(os.path.join('results', setting, 'pred.npy'))\n",
    "trues = np.load(os.path.join('results', setting, 'true.npy'))\n",
    "preds.shape, trues.shape"
   ]
  },
  {
   "cell_type": "code",
   "execution_count": 155,
   "metadata": {},
   "outputs": [
    {
     "name": "stdout",
     "output_type": "stream",
     "text": [
      "test 798\n"
     ]
    }
   ],
   "source": [
    "test_data, _ = exp._get_data(flag='test')"
   ]
  },
  {
   "cell_type": "code",
   "execution_count": 181,
   "metadata": {},
   "outputs": [
    {
     "data": {
      "image/png": "[encoded data removed]",
      "text/plain": [
       "<Figure size 432x288 with 1 Axes>"
      ]
     },
     "metadata": {
      "needs_background": "light"
     },
     "output_type": "display_data"
    }
   ],
   "source": [
    "import mplfinance as mpf\n",
    "import matplotlib.pyplot as plt\n",
    "idx = 10\n",
    "plt.figure()\n",
    "plt.plot(trues[idx,:,0], label='GroundTruth')\n",
    "plt.plot(preds[idx,:,0], label='Prediction')\n",
    "plt.legend()\n",
    "plt.show()"
   ]
  },
  {
   "cell_type": "code",
   "execution_count": null,
   "metadata": {},
   "outputs": [],
   "source": []
  }
 ],
 "metadata": {
  "interpreter": {
   "hash": "559d4190745a361518ad4d4fb866dbc68a1fa7e52f9c7f667db13a1490771d76"
  },
  "kernelspec": {
   "display_name": "Python 3.8.10 ('env': venv)",
   "language": "python",
   "name": "python3"
  },
  "language_info": {
   "codemirror_mode": {
    "name": "ipython",
    "version": 3
   },
   "file_extension": ".py",
   "mimetype": "text/x-python",
   "name": "python",
   "nbconvert_exporter": "python",
   "pygments_lexer": "ipython3",
   "version": "3.8.10"
  },
  "orig_nbformat": 4
 },
 "nbformat": 4,
 "nbformat_minor": 2
}
