{
  "cells": [
    {
      "cell_type": "code",
      "execution_count": 68,
      "metadata": {},
      "outputs": [],
      "source": [
        "import numpy as np\n",
        "import torch\n",
        "import torch.nn as nn\n",
        "import torch.nn.functional as F\n",
        "import matplotlib.pyplot as plt\n",
        "import psycopg2 as pg\n",
        "import pandas as pd\n",
        "import sys\n",
        "import os\n",
        "sys.path.append(\"C:/Users/Jeppe/Documents/GitHub/BiksStonks/Forcasting_Models\")\n",
        "import utils.preprocess as preprocess\n",
        "import utils.DatasetAccess as DatAccess"
      ]
    },
    {
      "cell_type": "code",
      "execution_count": 69,
      "metadata": {},
      "outputs": [],
      "source": [
        "# code by Tae Hwan Jung @graykode\n",
        "# Reference : https://github.com/hunkim/PyTorchZeroToAll/blob/master/14_2_seq2seq_att.py\n",
        "\n",
        "\n",
        "# S: Symbol that shows starting of decoding input\n",
        "# E: Symbol that shows starting of decoding output\n",
        "# P: Symbol that will fill in blank sequence if current batch data size is short than time steps\n",
        "class DatabaseConnection:\n",
        "    def __init__(self):\n",
        "        self.conn = self.connect()\n",
        "    def connect(self):\n",
        "        try:\n",
        "            self.conn = pg.connect(\n",
        "                \"dbname='stonksdb' user='postgres' host='localhost' password='admin'\")\n",
        "            print(\"Connection made succ\")\n",
        "            return self.conn\n",
        "        except:\n",
        "            print(\"I am unable to connect to the database\")\n",
        "            return None\n",
        "    def close(self):\n",
        "        self.conn.close()\n",
        "    \n",
        "    def GetConnector(self):\n",
        "        return self.conn\n",
        "    ### send query to database\n",
        "    def query(self, query):\n",
        "        cur = self.conn.cursor()\n",
        "        cur.execute(query)\n",
        "        return cur.fetchall()\n",
        "\n",
        "class DatasetAccess:\n",
        "    def __init__(self):\n",
        "        self.conn = DatabaseConnection()\n",
        "    def getNcompanies(self, N):\n",
        "        AllCompanies = self.conn.query(\"SELECT * FROM dataset limit \"+ str(N)+\"\")\n",
        "        return AllCompanies\n",
        "    def getStockFromSymbol(self, StockSymbol, column = '*'):\n",
        "        company = self.conn.query(\"SELECT * FROM dataset WHERE symbol = '\" + StockSymbol + \"'\")\n",
        "        self.getStockFromCompany(company, column)\n",
        "        return company\n",
        "    def getStockFromCompany(self, companies, column = '*'):\n",
        "        result = []\n",
        "        for company in companies:\n",
        "            result.append(self.conn.query(\"SELECT \"+self.convertListToString(column)+\" FROM stock WHERE identifier = '\" + str(company[0]) + \"'\"))\n",
        "        return result\n",
        "    def convertListToString(self, column):\n",
        "        if type(column) != list:\n",
        "            return column\n",
        "        result = ''\n",
        "        for item in column:\n",
        "            result += item + ', '\n",
        "        return result[:-2]\n",
        "    def getStockDFFromCompany(self, companies, column = '*'):\n",
        "        result = []\n",
        "        print(companies)\n",
        "        for company in companies:\n",
        "            result.append(pd.read_sql(\"SELECT \"+self.convertListToString(column)+\" FROM stock WHERE identifier = '\" + str(company[0]) + \"' order by time asc\", self.conn.GetConnector()))\n",
        "        return result\n",
        "    def GetAllStocksAsDF(self):\n",
        "        PandaStock = pd.read_sql('SELECT * FROM stock', self.conn.GetConnector())\n",
        "        print(PandaStock)\n",
        "    \n",
        "def GetDF():\n",
        "    dbaccess = DatasetAccess()\n",
        "    vestas = pd.read_sql(\"select * from stock where identifier = 15611 \", dbaccess.conn.GetConnector())\n",
        "    return vestas\n",
        "\n",
        "def GetSingleStockDF():\n",
        "    dbAccess = DatasetAccess()\n",
        "    comp = dbAccess.getNcompanies(2)\n",
        "    return dbAccess.getStockDFFromCompany(comp, column=\"close\")\n",
        "\n",
        "def GetStocks(n):\n",
        "    dbAccess = DatasetAccess()\n",
        "    comp = dbAccess.getNcompanies(n)\n",
        "    return dbAccess.getStockDFFromCompany(comp, column=\"close\")\n",
        "\n",
        "def GetStocksHourly(n):\n",
        "    dbAccess = DatasetAccess()\n",
        "    comps = dbAccess.getNcompanies(n)\n",
        "    result = []\n",
        "    for comp in comps:\n",
        "        result.append(DatAccess.get_data_for_datasetid(str(comp[0]),dbAccess.conn.GetConnector(),\"h\")[\"close\"])\n",
        "    return result\n",
        "# test = GetStocksHourly(10)"
      ]
    },
    {
      "cell_type": "code",
      "execution_count": 70,
      "metadata": {},
      "outputs": [],
      "source": [
        "def make_batch():\n",
        "    replica_input = train\n",
        "    replica_input = [np.array(replica_input)]\n",
        "    replica_Input = [n for n in replica_input[0]]\n",
        "    print(\"____________-\")\n",
        "    replica_output = target\n",
        "    replica_output = [np.array(replica_output)]\n",
        "    replica_Output = [n for n in replica_output[0]]\n",
        "    print(\"____________-\")\n",
        "    replica_target = target\n",
        "    replica_target = [np.array(replica_target)]\n",
        "    replica_Target = [n for n in replica_target[0]]\n",
        "    \n",
        "    #input_batch = [np.eye(n_class)[[word_dict[n] for n in sentences[0].split()]]] # takes the number and one hot encodes it\n",
        "    #print(input_batch)\n",
        "    #print(replica_Output)\n",
        "    #output_batch = [np.eye(n_class)[[word_dict[n] for n in sentences[1].split()]]] # takes the number and one hot encodes it\n",
        "    #target_batch = [[word_dict[n] for n in sentences[2].split()]] # takes the number\n",
        "    # print(input_batch)\n",
        "    # print([np.array([replica_input])])\n",
        "    # make tensor\n",
        "    # return torch.FloatTensor(input_batch), torch.FloatTensor(output_batch), torch.LongTensor(target_batch)\n",
        "    return torch.FloatTensor(replica_Input), torch.FloatTensor(replica_Output), torch.FloatTensor(replica_Target)"
      ]
    },
    {
      "cell_type": "code",
      "execution_count": 71,
      "metadata": {},
      "outputs": [],
      "source": [
        "class Attention(nn.Module):\n",
        "    def __init__(self):\n",
        "        super(Attention, self).__init__()\n",
        "        self.enc_cell = nn.RNN(input_size=n_class, hidden_size=n_hidden, dropout=0.5)\n",
        "        self.dec_cell = nn.RNN(input_size=n_class, hidden_size=n_hidden, dropout=0.5)\n",
        "\n",
        "        # Linear for attention\n",
        "        self.attn = nn.Linear(n_hidden, n_hidden)\n",
        "        self.out = nn.Linear(n_hidden * 2, n_class)\n",
        "        #self.pls = nn.Linear(n_hidden*18, n_class) #[90]\n",
        "        # self.pls = nn.Linear(n_hidden*98, n_class) #[500]\n",
        "        self.pls = None\n",
        "    def forward(self, enc_inputs, hidden, dec_inputs):\n",
        "        # print(\"dec_inputs1\", dec_inputs.shape)\n",
        "        # dec_inputs1 torch.Size([32, 50, 1]) [batchsize, points, num of vars]\n",
        "        enc_inputs = enc_inputs.transpose(0, 1)  # enc_inputs: [n_step(=n_step, time step), batch_size, n_class]\n",
        "        dec_inputs = dec_inputs.transpose(0, 1)  # dec_inputs: [n_step(=n_step, time step), batch_size, n_class]\n",
        "        enc_outputs, enc_hidden = self.enc_cell(enc_inputs, hidden)\n",
        "        trained_attn = []\n",
        "        hidden = enc_hidden\n",
        "        n_step = len(dec_inputs)\n",
        "        model = torch.empty([n_step, 1, n_class])\n",
        "        dec_outputs, hidden = self.dec_cell(dec_inputs, hidden)\n",
        "        enc_outputs = enc_outputs.transpose(0, 1)\n",
        "        dec_outputs = dec_outputs.transpose(0, 1)\n",
        "        enc_outputs = self.attn(enc_outputs)\n",
        "        attention_weights = torch.nn.functional.softmax(torch.bmm(dec_outputs, enc_outputs.transpose(1,2)), dim=-1)\n",
        "        context = torch.bmm(attention_weights, enc_outputs)\n",
        "        combine = torch.cat((dec_outputs, context), 2)\n",
        "        combine = combine.view(combine.shape[0], Output_size, -1)\n",
        "        if self.pls == None:\n",
        "            self.pls = nn.Linear(combine.shape[2], n_class)\n",
        "        return self.pls(combine), trained_attn\n",
        "\n",
        "    def get_att_weight(self, dec_output, enc_outputs):  # get attention weight one 'dec_output' with 'enc_outputs'\n",
        "        n_step = len(enc_outputs)\n",
        "        attn_scores = torch.zeros(n_step)  # attn_scores : [n_step]\n",
        "\n",
        "        for i in range(n_step):\n",
        "            attn_scores[i] = self.get_att_score(dec_output, enc_outputs[i])\n",
        "\n",
        "        # Normalize scores to weights in range 0 to 1\n",
        "        return F.softmax(attn_scores).view(1, 1, -1)\n",
        "\n",
        "    def get_att_score(self, dec_output, enc_output):  # enc_outputs [batch_size, num_directions(=1) * n_hidden]\n",
        "        score = self.attn(enc_output)  # score : [batch_size, n_hidden]\n",
        "    \n",
        "        return score #torch.dot(dec_output.view(-1), score.view(-1))  # inner product make scalar value"
      ]
    },
    {
      "cell_type": "code",
      "execution_count": 72,
      "metadata": {},
      "outputs": [],
      "source": [
        "from itertools import islice\n",
        "\n",
        "def window1(seq, n=2):\n",
        "    it = iter(seq)\n",
        "    result = tuple(islice(it, n))\n",
        "    if len(result) == n:\n",
        "        yield result\n",
        "    for elem in it:\n",
        "        result = result[1:] + (elem,)\n",
        "        yield result\n",
        "\n",
        "def getBigData():\n",
        "    stocks = []\n",
        "    for stock in GetStocksHourly(10):\n",
        "        stocks.append(np.array(stock[:5000]).flatten())\n",
        "    \n",
        "    WindowedStocks = []\n",
        "    for stock in stocks:\n",
        "        WindowedStocks.append(window1(stock, PointSize))\n",
        "\n",
        "    result = []\n",
        "    for window in WindowedStocks:\n",
        "        for i in window:\n",
        "            result.append(i)\n",
        "\n",
        "    return result\n",
        "\n",
        "def getData():\n",
        "    a = np.array(GetSingleStockDF()[1][:10000]).flatten()\n",
        "    b = np.array(GetSingleStockDF()[0][:10000]).flatten()\n",
        "\n",
        "    bop = [a,b]\n",
        "    result = []\n",
        "    for i in bop:\n",
        "        result.append(window1(i,PointSize))\n",
        "    actual = []\n",
        "    for it in result:\n",
        "        for window in it:\n",
        "            actual.append(window)\n",
        "    return actual\n",
        "# bd = getBigData()\n"
      ]
    },
    {
      "cell_type": "code",
      "execution_count": 73,
      "metadata": {},
      "outputs": [
        {
          "name": "stdout",
          "output_type": "stream",
          "text": [
            "Connection made succ\n"
          ]
        },
        {
          "name": "stderr",
          "output_type": "stream",
          "text": [
            "C:\\Users\\Jeppe\\Stonk\\lib\\site-packages\\pandas\\io\\sql.py:761: UserWarning: pandas only support SQLAlchemy connectable(engine/connection) ordatabase string URI or sqlite3 DBAPI2 connectionother DBAPI2 objects are not tested, please consider using SQLAlchemy\n",
            "  warnings.warn(\n",
            "C:\\Users\\Jeppe\\Stonk\\lib\\site-packages\\pandas\\io\\sql.py:761: UserWarning: pandas only support SQLAlchemy connectable(engine/connection) ordatabase string URI or sqlite3 DBAPI2 connectionother DBAPI2 objects are not tested, please consider using SQLAlchemy\n",
            "  warnings.warn(\n",
            "C:\\Users\\Jeppe\\Stonk\\lib\\site-packages\\pandas\\io\\sql.py:761: UserWarning: pandas only support SQLAlchemy connectable(engine/connection) ordatabase string URI or sqlite3 DBAPI2 connectionother DBAPI2 objects are not tested, please consider using SQLAlchemy\n",
            "  warnings.warn(\n",
            "C:\\Users\\Jeppe\\Stonk\\lib\\site-packages\\pandas\\io\\sql.py:761: UserWarning: pandas only support SQLAlchemy connectable(engine/connection) ordatabase string URI or sqlite3 DBAPI2 connectionother DBAPI2 objects are not tested, please consider using SQLAlchemy\n",
            "  warnings.warn(\n",
            "C:\\Users\\Jeppe\\Stonk\\lib\\site-packages\\pandas\\io\\sql.py:761: UserWarning: pandas only support SQLAlchemy connectable(engine/connection) ordatabase string URI or sqlite3 DBAPI2 connectionother DBAPI2 objects are not tested, please consider using SQLAlchemy\n",
            "  warnings.warn(\n",
            "C:\\Users\\Jeppe\\Stonk\\lib\\site-packages\\pandas\\io\\sql.py:761: UserWarning: pandas only support SQLAlchemy connectable(engine/connection) ordatabase string URI or sqlite3 DBAPI2 connectionother DBAPI2 objects are not tested, please consider using SQLAlchemy\n",
            "  warnings.warn(\n",
            "C:\\Users\\Jeppe\\Stonk\\lib\\site-packages\\pandas\\io\\sql.py:761: UserWarning: pandas only support SQLAlchemy connectable(engine/connection) ordatabase string URI or sqlite3 DBAPI2 connectionother DBAPI2 objects are not tested, please consider using SQLAlchemy\n",
            "  warnings.warn(\n",
            "C:\\Users\\Jeppe\\Stonk\\lib\\site-packages\\pandas\\io\\sql.py:761: UserWarning: pandas only support SQLAlchemy connectable(engine/connection) ordatabase string URI or sqlite3 DBAPI2 connectionother DBAPI2 objects are not tested, please consider using SQLAlchemy\n",
            "  warnings.warn(\n",
            "C:\\Users\\Jeppe\\Stonk\\lib\\site-packages\\pandas\\io\\sql.py:761: UserWarning: pandas only support SQLAlchemy connectable(engine/connection) ordatabase string URI or sqlite3 DBAPI2 connectionother DBAPI2 objects are not tested, please consider using SQLAlchemy\n",
            "  warnings.warn(\n",
            "C:\\Users\\Jeppe\\Stonk\\lib\\site-packages\\pandas\\io\\sql.py:761: UserWarning: pandas only support SQLAlchemy connectable(engine/connection) ordatabase string URI or sqlite3 DBAPI2 connectionother DBAPI2 objects are not tested, please consider using SQLAlchemy\n",
            "  warnings.warn(\n",
            "C:\\Users\\Jeppe\\Stonk\\lib\\site-packages\\torch\\nn\\modules\\rnn.py:62: UserWarning: dropout option adds dropout after all but last recurrent layer, so non-zero dropout expects num_layers greater than 1, but got dropout=0.5 and num_layers=1\n",
            "  warnings.warn(\"dropout option adds dropout after all but last \"\n"
          ]
        },
        {
          "name": "stdout",
          "output_type": "stream",
          "text": [
            "____________-\n",
            "____________-\n",
            "combine1 torch.Size([32, 190, 256])\n",
            "pls tensor([[ 0.1145,  0.0540,  0.0737,  ..., -0.0610,  0.0232, -0.1116],\n",
            "        [ 0.2458,  0.1782,  0.1968,  ..., -0.0610,  0.0232, -0.1116],\n",
            "        [ 0.2458,  0.1782,  0.1968,  ..., -0.0610,  0.0232, -0.1116],\n",
            "        ...,\n",
            "        [ 0.2459,  0.1785,  0.1968,  ..., -0.0610,  0.0232, -0.1116],\n",
            "        [ 0.2458,  0.1783,  0.1968,  ..., -0.0610,  0.0232, -0.1116],\n",
            "        [ 0.2458,  0.1782,  0.1968,  ..., -0.0610,  0.0232, -0.1116]],\n",
            "       grad_fn=<SelectBackward0>)\n"
          ]
        },
        {
          "ename": "TypeError",
          "evalue": "empty(): argument 'size' must be tuple of ints, but found element of type Tensor at pos 2",
          "output_type": "error",
          "traceback": [
            "\u001b[1;31m---------------------------------------------------------------------------\u001b[0m",
            "\u001b[1;31mTypeError\u001b[0m                                 Traceback (most recent call last)",
            "\u001b[1;32mc:\\Users\\Jeppe\\Documents\\GitHub\\BiksStonks\\Forcasting_Models\\LSTM\\Seq2Seq(Attention).ipynb Cell 6'\u001b[0m in \u001b[0;36m<cell line: 1>\u001b[1;34m()\u001b[0m\n\u001b[0;32m     <a href='vscode-notebook-cell:/c%3A/Users/Jeppe/Documents/GitHub/BiksStonks/Forcasting_Models/LSTM/Seq2Seq%28Attention%29.ipynb#ch0000005?line=36'>37</a>\u001b[0m x \u001b[39m=\u001b[39m x\u001b[39m.\u001b[39munsqueeze(\u001b[39m-\u001b[39m\u001b[39m1\u001b[39m)\n\u001b[0;32m     <a href='vscode-notebook-cell:/c%3A/Users/Jeppe/Documents/GitHub/BiksStonks/Forcasting_Models/LSTM/Seq2Seq%28Attention%29.ipynb#ch0000005?line=37'>38</a>\u001b[0m y \u001b[39m=\u001b[39m y\u001b[39m.\u001b[39munsqueeze(\u001b[39m-\u001b[39m\u001b[39m1\u001b[39m)\n\u001b[1;32m---> <a href='vscode-notebook-cell:/c%3A/Users/Jeppe/Documents/GitHub/BiksStonks/Forcasting_Models/LSTM/Seq2Seq%28Attention%29.ipynb#ch0000005?line=38'>39</a>\u001b[0m output, _ \u001b[39m=\u001b[39m model(x, hidden, x)\n\u001b[0;32m     <a href='vscode-notebook-cell:/c%3A/Users/Jeppe/Documents/GitHub/BiksStonks/Forcasting_Models/LSTM/Seq2Seq%28Attention%29.ipynb#ch0000005?line=39'>40</a>\u001b[0m \u001b[39m#output shape [32,50,1]\u001b[39;00m\n\u001b[0;32m     <a href='vscode-notebook-cell:/c%3A/Users/Jeppe/Documents/GitHub/BiksStonks/Forcasting_Models/LSTM/Seq2Seq%28Attention%29.ipynb#ch0000005?line=40'>41</a>\u001b[0m \u001b[39m#Wanted output shape [32,10,1]\u001b[39;00m\n\u001b[0;32m     <a href='vscode-notebook-cell:/c%3A/Users/Jeppe/Documents/GitHub/BiksStonks/Forcasting_Models/LSTM/Seq2Seq%28Attention%29.ipynb#ch0000005?line=41'>42</a>\u001b[0m \u001b[39m#print(\"Final output shape\", output.shape)\u001b[39;00m\n\u001b[0;32m     <a href='vscode-notebook-cell:/c%3A/Users/Jeppe/Documents/GitHub/BiksStonks/Forcasting_Models/LSTM/Seq2Seq%28Attention%29.ipynb#ch0000005?line=42'>43</a>\u001b[0m loss \u001b[39m=\u001b[39m criterion(output, y\u001b[39m.\u001b[39msqueeze(\u001b[39m0\u001b[39m))\n",
            "File \u001b[1;32m~\\Stonk\\lib\\site-packages\\torch\\nn\\modules\\module.py:1110\u001b[0m, in \u001b[0;36mModule._call_impl\u001b[1;34m(self, *input, **kwargs)\u001b[0m\n\u001b[0;32m   <a href='file:///c%3A/Users/Jeppe/Stonk/lib/site-packages/torch/nn/modules/module.py?line=1105'>1106</a>\u001b[0m \u001b[39m# If we don't have any hooks, we want to skip the rest of the logic in\u001b[39;00m\n\u001b[0;32m   <a href='file:///c%3A/Users/Jeppe/Stonk/lib/site-packages/torch/nn/modules/module.py?line=1106'>1107</a>\u001b[0m \u001b[39m# this function, and just call forward.\u001b[39;00m\n\u001b[0;32m   <a href='file:///c%3A/Users/Jeppe/Stonk/lib/site-packages/torch/nn/modules/module.py?line=1107'>1108</a>\u001b[0m \u001b[39mif\u001b[39;00m \u001b[39mnot\u001b[39;00m (\u001b[39mself\u001b[39m\u001b[39m.\u001b[39m_backward_hooks \u001b[39mor\u001b[39;00m \u001b[39mself\u001b[39m\u001b[39m.\u001b[39m_forward_hooks \u001b[39mor\u001b[39;00m \u001b[39mself\u001b[39m\u001b[39m.\u001b[39m_forward_pre_hooks \u001b[39mor\u001b[39;00m _global_backward_hooks\n\u001b[0;32m   <a href='file:///c%3A/Users/Jeppe/Stonk/lib/site-packages/torch/nn/modules/module.py?line=1108'>1109</a>\u001b[0m         \u001b[39mor\u001b[39;00m _global_forward_hooks \u001b[39mor\u001b[39;00m _global_forward_pre_hooks):\n\u001b[1;32m-> <a href='file:///c%3A/Users/Jeppe/Stonk/lib/site-packages/torch/nn/modules/module.py?line=1109'>1110</a>\u001b[0m     \u001b[39mreturn\u001b[39;00m forward_call(\u001b[39m*\u001b[39m\u001b[39minput\u001b[39m, \u001b[39m*\u001b[39m\u001b[39m*\u001b[39mkwargs)\n\u001b[0;32m   <a href='file:///c%3A/Users/Jeppe/Stonk/lib/site-packages/torch/nn/modules/module.py?line=1110'>1111</a>\u001b[0m \u001b[39m# Do not call functions when jit is used\u001b[39;00m\n\u001b[0;32m   <a href='file:///c%3A/Users/Jeppe/Stonk/lib/site-packages/torch/nn/modules/module.py?line=1111'>1112</a>\u001b[0m full_backward_hooks, non_full_backward_hooks \u001b[39m=\u001b[39m [], []\n",
            "\u001b[1;32mc:\\Users\\Jeppe\\Documents\\GitHub\\BiksStonks\\Forcasting_Models\\LSTM\\Seq2Seq(Attention).ipynb Cell 4'\u001b[0m in \u001b[0;36mAttention.forward\u001b[1;34m(self, enc_inputs, hidden, dec_inputs)\u001b[0m\n\u001b[0;32m     <a href='vscode-notebook-cell:/c%3A/Users/Jeppe/Documents/GitHub/BiksStonks/Forcasting_Models/LSTM/Seq2Seq%28Attention%29.ipynb#ch0000003?line=31'>32</a>\u001b[0m \u001b[39mif\u001b[39;00m \u001b[39mself\u001b[39m\u001b[39m.\u001b[39mpls \u001b[39m==\u001b[39m \u001b[39mNone\u001b[39;00m:\n\u001b[0;32m     <a href='vscode-notebook-cell:/c%3A/Users/Jeppe/Documents/GitHub/BiksStonks/Forcasting_Models/LSTM/Seq2Seq%28Attention%29.ipynb#ch0000003?line=32'>33</a>\u001b[0m     \u001b[39mprint\u001b[39m(\u001b[39m\"\u001b[39m\u001b[39mpls\u001b[39m\u001b[39m\"\u001b[39m, combine[\u001b[39m2\u001b[39m])\n\u001b[1;32m---> <a href='vscode-notebook-cell:/c%3A/Users/Jeppe/Documents/GitHub/BiksStonks/Forcasting_Models/LSTM/Seq2Seq%28Attention%29.ipynb#ch0000003?line=33'>34</a>\u001b[0m     \u001b[39mself\u001b[39m\u001b[39m.\u001b[39mpls \u001b[39m=\u001b[39m nn\u001b[39m.\u001b[39;49mLinear(combine[\u001b[39m2\u001b[39;49m], n_class)\n\u001b[0;32m     <a href='vscode-notebook-cell:/c%3A/Users/Jeppe/Documents/GitHub/BiksStonks/Forcasting_Models/LSTM/Seq2Seq%28Attention%29.ipynb#ch0000003?line=34'>35</a>\u001b[0m \u001b[39mprint\u001b[39m(\u001b[39m\"\u001b[39m\u001b[39mcombine2\u001b[39m\u001b[39m\"\u001b[39m, combine\u001b[39m.\u001b[39mshape)\n\u001b[0;32m     <a href='vscode-notebook-cell:/c%3A/Users/Jeppe/Documents/GitHub/BiksStonks/Forcasting_Models/LSTM/Seq2Seq%28Attention%29.ipynb#ch0000003?line=35'>36</a>\u001b[0m \u001b[39mreturn\u001b[39;00m \u001b[39mself\u001b[39m\u001b[39m.\u001b[39mpls(combine), trained_attn\n",
            "File \u001b[1;32m~\\Stonk\\lib\\site-packages\\torch\\nn\\modules\\linear.py:85\u001b[0m, in \u001b[0;36mLinear.__init__\u001b[1;34m(self, in_features, out_features, bias, device, dtype)\u001b[0m\n\u001b[0;32m     <a href='file:///c%3A/Users/Jeppe/Stonk/lib/site-packages/torch/nn/modules/linear.py?line=82'>83</a>\u001b[0m \u001b[39mself\u001b[39m\u001b[39m.\u001b[39min_features \u001b[39m=\u001b[39m in_features\n\u001b[0;32m     <a href='file:///c%3A/Users/Jeppe/Stonk/lib/site-packages/torch/nn/modules/linear.py?line=83'>84</a>\u001b[0m \u001b[39mself\u001b[39m\u001b[39m.\u001b[39mout_features \u001b[39m=\u001b[39m out_features\n\u001b[1;32m---> <a href='file:///c%3A/Users/Jeppe/Stonk/lib/site-packages/torch/nn/modules/linear.py?line=84'>85</a>\u001b[0m \u001b[39mself\u001b[39m\u001b[39m.\u001b[39mweight \u001b[39m=\u001b[39m Parameter(torch\u001b[39m.\u001b[39mempty((out_features, in_features), \u001b[39m*\u001b[39m\u001b[39m*\u001b[39mfactory_kwargs))\n\u001b[0;32m     <a href='file:///c%3A/Users/Jeppe/Stonk/lib/site-packages/torch/nn/modules/linear.py?line=85'>86</a>\u001b[0m \u001b[39mif\u001b[39;00m bias:\n\u001b[0;32m     <a href='file:///c%3A/Users/Jeppe/Stonk/lib/site-packages/torch/nn/modules/linear.py?line=86'>87</a>\u001b[0m     \u001b[39mself\u001b[39m\u001b[39m.\u001b[39mbias \u001b[39m=\u001b[39m Parameter(torch\u001b[39m.\u001b[39mempty(out_features, \u001b[39m*\u001b[39m\u001b[39m*\u001b[39mfactory_kwargs))\n",
            "\u001b[1;31mTypeError\u001b[0m: empty(): argument 'size' must be tuple of ints, but found element of type Tensor at pos 2"
          ]
        }
      ],
      "source": [
        "if __name__ == '__main__':\n",
        "    n_step = 90 # number of cells(= number of Step)\n",
        "    n_hidden = 128 # number of hidden units in one cell\n",
        "    n_class = 1\n",
        "    PointSize = 200\n",
        "    closingData = np.array(getBigData())\n",
        "    closingData = (closingData - closingData.mean()) / closingData.std()\n",
        "    Output_size = 10\n",
        "    train = [d[:PointSize-Output_size] for d in closingData]\n",
        "    target = [d[PointSize-Output_size:] for d in closingData]\n",
        "    dataset_iter = iter(zip(train, target))\n",
        "    batch_size = 32\n",
        "    num_layers = 1\n",
        "\n",
        "    #use pytorch to create the batches\n",
        "    dtloader = torch.utils.data.DataLoader(torch.utils.data.TensorDataset(torch.from_numpy(np.array(train)).float(), torch.from_numpy(np.array(target)).float()),\n",
        "                                           batch_size=batch_size, shuffle=True, drop_last=True)\n",
        "    #dtloader = torch.dataloader((train,target), batch_size=batch_size, shuffle=True)\n",
        "\n",
        "    hidden = torch.zeros(num_layers, batch_size, n_hidden)\n",
        "\n",
        "    model = Attention()\n",
        "    criterion = nn.MSELoss()\n",
        "    optimizer = torch.optim.Adam(model.parameters(), lr=0.001)\n",
        "\n",
        "\n",
        "    input_batch, output_batch, target_batch = make_batch()\n",
        "    output_batch = target_batch\n",
        "    input_batch = input_batch.unsqueeze(-1)\n",
        "    output_batch = output_batch.unsqueeze(-1)\n",
        "    target_batch = target_batch.unsqueeze(-1)    \n",
        "    # Train\n",
        "    model.train()\n",
        "    for epoch in range(50):\n",
        "        for x, y in dtloader:\n",
        "            optimizer.zero_grad()\n",
        "            x = x.unsqueeze(-1)\n",
        "            y = y.unsqueeze(-1)\n",
        "            output, _ = model(x, hidden, x)\n",
        "            #output shape [32,50,1]\n",
        "            #Wanted output shape [32,10,1]\n",
        "            #print(\"Final output shape\", output.shape)\n",
        "            loss = criterion(output, y.squeeze(0))\n",
        "\n",
        "        if (epoch + 1) % 5 == 0:\n",
        "            print('Epoch:', '%04d' % (epoch + 1), 'MSE =', '{:.6f}'.format(loss))\n",
        "\n",
        "        loss.backward()\n",
        "        optimizer.step()\n",
        "    #2m 30 sec for 2000 points\n",
        "    #\n"
      ]
    },
    {
      "cell_type": "code",
      "execution_count": null,
      "metadata": {},
      "outputs": [
        {
          "data": {
            "text/plain": [
              "(torch.Size([37931, 90, 1]),\n",
              " torch.Size([37931, 10, 1]),\n",
              " torch.Size([37931, 10, 1]))"
            ]
          },
          "execution_count": 7,
          "metadata": {},
          "output_type": "execute_result"
        }
      ],
      "source": [
        "input_batch.shape, output_batch.shape, target_batch.shape"
      ]
    },
    {
      "cell_type": "code",
      "execution_count": null,
      "metadata": {},
      "outputs": [
        {
          "data": {
            "image/png": "[encoded data removed]",
            "text/plain": [
              "<Figure size 576x432 with 1 Axes>"
            ]
          },
          "metadata": {
            "needs_background": "light"
          },
          "output_type": "display_data"
        }
      ],
      "source": [
        "idx = 900\n",
        "\n",
        "# plot graph\n",
        "y_ground = np.concatenate((input_batch[idx].reshape(-1), target_batch[idx].reshape(-1)), 0)\n",
        "model.eval()\n",
        "hidden = torch.zeros(num_layers, 1, n_hidden)\n",
        "y_pred = model(input_batch[idx].unsqueeze(0), hidden, input_batch[idx].unsqueeze(0))[0].detach().numpy().reshape(-1) \n",
        "y_pred = np.concatenate((input_batch[idx].reshape(-1), y_pred), 0)\n",
        "\n",
        "# plot graph\n",
        "fig, ax = plt.subplots(1, 1, figsize=(8, 6))\n",
        "ax.plot(y_pred, label='Prediction', c=\"orange\")\n",
        "ax.plot(y_ground, label='Ground Truth')\n",
        "# plt add v line at 50 \n",
        "ax.axvline(PointSize-Output_size, color='green', linestyle='--')\n",
        "ax.legend()\n",
        "plt.show()"
      ]
    },
    {
      "cell_type": "code",
      "execution_count": null,
      "metadata": {},
      "outputs": [],
      "source": []
    },
    {
      "cell_type": "code",
      "execution_count": null,
      "metadata": {},
      "outputs": [
        {
          "name": "stdout",
          "output_type": "stream",
          "text": [
            "Connection made succ\n",
            "[(6043, 'Stock', 'DKK', 'A.P. Møller - Mærsk A A/S', 'CSE', '895', 'DK', '6043', 'Instrument', 'MAERSKa:xcse', 'UNKNOWN'), (6041, 'Stock', 'DKK', 'A.P. Møller - Mærsk B A/S', 'CSE', '895', 'DK', '6041', 'Instrument', 'MAERSKb:xcse', 'UNKNOWN')]\n"
          ]
        },
        {
          "name": "stderr",
          "output_type": "stream",
          "text": [
            "C:\\Users\\Jeppe\\Stonk\\lib\\site-packages\\pandas\\io\\sql.py:761: UserWarning: pandas only support SQLAlchemy connectable(engine/connection) ordatabase string URI or sqlite3 DBAPI2 connectionother DBAPI2 objects are not tested, please consider using SQLAlchemy\n",
            "  warnings.warn(\n",
            "C:\\Users\\Jeppe\\Stonk\\lib\\site-packages\\pandas\\io\\sql.py:761: UserWarning: pandas only support SQLAlchemy connectable(engine/connection) ordatabase string URI or sqlite3 DBAPI2 connectionother DBAPI2 objects are not tested, please consider using SQLAlchemy\n",
            "  warnings.warn(\n"
          ]
        },
        {
          "data": {
            "image/png": "[encoded data removed]",
            "text/plain": [
              "<Figure size 576x432 with 1 Axes>"
            ]
          },
          "metadata": {
            "needs_background": "light"
          },
          "output_type": "display_data"
        }
      ],
      "source": [
        "closingData = GetSingleStockDF()[1][:1000].values\n",
        "# re scale data\n",
        "y_ground = (y_ground * closingData.std()) + closingData.mean()\n",
        "y_pred = (y_pred * closingData.std()) + closingData.mean()\n",
        "# plot graph\n",
        "fig, ax = plt.subplots(1, 1, figsize=(8, 6))\n",
        "ax.plot(y_ground, label='Ground Truth')\n",
        "ax.plot(y_pred, label='Prediction')\n",
        "# plt add v line at 50\n",
        "ax.axvline(90, color='green', linestyle='--')\n",
        "ax.legend()\n",
        "plt.show()"
      ]
    },
    {
      "cell_type": "code",
      "execution_count": null,
      "metadata": {},
      "outputs": [
        {
          "data": {
            "text/plain": [
              "(5571.566, 47794.48764400001)"
            ]
          },
          "execution_count": 10,
          "metadata": {},
          "output_type": "execute_result"
        }
      ],
      "source": [
        "closingData.mean(), closingData.var()\n"
      ]
    },
    {
      "cell_type": "code",
      "execution_count": null,
      "metadata": {},
      "outputs": [
        {
          "name": "stdout",
          "output_type": "stream",
          "text": [
            "Connection made succ\n"
          ]
        },
        {
          "name": "stderr",
          "output_type": "stream",
          "text": [
            "C:\\Users\\Jeppe\\Stonk\\lib\\site-packages\\pandas\\io\\sql.py:761: UserWarning: pandas only support SQLAlchemy connectable(engine/connection) ordatabase string URI or sqlite3 DBAPI2 connectionother DBAPI2 objects are not tested, please consider using SQLAlchemy\n",
            "  warnings.warn(\n",
            "C:\\Users\\Jeppe\\AppData\\Local\\Temp\\ipykernel_18252\\327577449.py:3: FutureWarning: Dropping of nuisance columns in rolling operations is deprecated; in a future version this will raise TypeError. Select only valid columns before calling the operation. Dropped columns were Index(['time'], dtype='object')\n",
            "  data.rolling(window=50).mean()\n"
          ]
        },
        {
          "data": {
            "text/html": [
              "<div>\n",
              "<style scoped>\n",
              "    .dataframe tbody tr th:only-of-type {\n",
              "        vertical-align: middle;\n",
              "    }\n",
              "\n",
              "    .dataframe tbody tr th {\n",
              "        vertical-align: top;\n",
              "    }\n",
              "\n",
              "    .dataframe thead th {\n",
              "        text-align: right;\n",
              "    }\n",
              "</style>\n",
              "<table border=\"1\" class=\"dataframe\">\n",
              "  <thead>\n",
              "    <tr style=\"text-align: right;\">\n",
              "      <th></th>\n",
              "      <th>id</th>\n",
              "      <th>identifier</th>\n",
              "      <th>close</th>\n",
              "      <th>high</th>\n",
              "      <th>interest</th>\n",
              "      <th>low</th>\n",
              "      <th>open</th>\n",
              "      <th>time</th>\n",
              "      <th>volume</th>\n",
              "    </tr>\n",
              "  </thead>\n",
              "  <tbody>\n",
              "    <tr>\n",
              "      <th>0</th>\n",
              "      <td>336858</td>\n",
              "      <td>15611</td>\n",
              "      <td>230.0</td>\n",
              "      <td>230.0</td>\n",
              "      <td>0.0</td>\n",
              "      <td>230.0</td>\n",
              "      <td>230.0</td>\n",
              "      <td>2021-03-16 10:55:00</td>\n",
              "      <td>2099.999969</td>\n",
              "    </tr>\n",
              "    <tr>\n",
              "      <th>1</th>\n",
              "      <td>336926</td>\n",
              "      <td>15611</td>\n",
              "      <td>230.2</td>\n",
              "      <td>230.3</td>\n",
              "      <td>0.0</td>\n",
              "      <td>230.2</td>\n",
              "      <td>230.3</td>\n",
              "      <td>2021-03-16 12:05:00</td>\n",
              "      <td>4959.999926</td>\n",
              "    </tr>\n",
              "    <tr>\n",
              "      <th>2</th>\n",
              "      <td>336927</td>\n",
              "      <td>15611</td>\n",
              "      <td>230.1</td>\n",
              "      <td>230.1</td>\n",
              "      <td>0.0</td>\n",
              "      <td>230.1</td>\n",
              "      <td>230.1</td>\n",
              "      <td>2021-03-16 12:06:00</td>\n",
              "      <td>25.000000</td>\n",
              "    </tr>\n",
              "    <tr>\n",
              "      <th>3</th>\n",
              "      <td>336928</td>\n",
              "      <td>15611</td>\n",
              "      <td>230.2</td>\n",
              "      <td>230.3</td>\n",
              "      <td>0.0</td>\n",
              "      <td>230.1</td>\n",
              "      <td>230.3</td>\n",
              "      <td>2021-03-16 12:07:00</td>\n",
              "      <td>3104.999954</td>\n",
              "    </tr>\n",
              "    <tr>\n",
              "      <th>4</th>\n",
              "      <td>336929</td>\n",
              "      <td>15611</td>\n",
              "      <td>230.3</td>\n",
              "      <td>230.3</td>\n",
              "      <td>0.0</td>\n",
              "      <td>230.2</td>\n",
              "      <td>230.2</td>\n",
              "      <td>2021-03-16 12:08:00</td>\n",
              "      <td>3049.999955</td>\n",
              "    </tr>\n",
              "    <tr>\n",
              "      <th>...</th>\n",
              "      <td>...</td>\n",
              "      <td>...</td>\n",
              "      <td>...</td>\n",
              "      <td>...</td>\n",
              "      <td>...</td>\n",
              "      <td>...</td>\n",
              "      <td>...</td>\n",
              "      <td>...</td>\n",
              "      <td>...</td>\n",
              "    </tr>\n",
              "    <tr>\n",
              "      <th>230560</th>\n",
              "      <td>336232</td>\n",
              "      <td>15611</td>\n",
              "      <td>220.7</td>\n",
              "      <td>220.9</td>\n",
              "      <td>0.0</td>\n",
              "      <td>220.7</td>\n",
              "      <td>220.9</td>\n",
              "      <td>2021-03-17 12:15:00</td>\n",
              "      <td>2824.999958</td>\n",
              "    </tr>\n",
              "    <tr>\n",
              "      <th>230561</th>\n",
              "      <td>336233</td>\n",
              "      <td>15611</td>\n",
              "      <td>220.8</td>\n",
              "      <td>220.9</td>\n",
              "      <td>0.0</td>\n",
              "      <td>220.7</td>\n",
              "      <td>220.7</td>\n",
              "      <td>2021-03-17 12:16:00</td>\n",
              "      <td>5134.999923</td>\n",
              "    </tr>\n",
              "    <tr>\n",
              "      <th>230562</th>\n",
              "      <td>336234</td>\n",
              "      <td>15611</td>\n",
              "      <td>220.8</td>\n",
              "      <td>221.0</td>\n",
              "      <td>0.0</td>\n",
              "      <td>220.8</td>\n",
              "      <td>220.8</td>\n",
              "      <td>2021-03-17 12:17:00</td>\n",
              "      <td>2679.999960</td>\n",
              "    </tr>\n",
              "    <tr>\n",
              "      <th>230563</th>\n",
              "      <td>336235</td>\n",
              "      <td>15611</td>\n",
              "      <td>220.8</td>\n",
              "      <td>220.9</td>\n",
              "      <td>0.0</td>\n",
              "      <td>220.8</td>\n",
              "      <td>220.8</td>\n",
              "      <td>2021-03-17 12:18:00</td>\n",
              "      <td>899.999987</td>\n",
              "    </tr>\n",
              "    <tr>\n",
              "      <th>230564</th>\n",
              "      <td>336236</td>\n",
              "      <td>15611</td>\n",
              "      <td>220.7</td>\n",
              "      <td>220.8</td>\n",
              "      <td>0.0</td>\n",
              "      <td>220.7</td>\n",
              "      <td>220.8</td>\n",
              "      <td>2021-03-17 12:19:00</td>\n",
              "      <td>919.999986</td>\n",
              "    </tr>\n",
              "  </tbody>\n",
              "</table>\n",
              "<p>230565 rows × 9 columns</p>\n",
              "</div>"
            ],
            "text/plain": [
              "            id  identifier  close   high  interest    low   open  \\\n",
              "0       336858       15611  230.0  230.0       0.0  230.0  230.0   \n",
              "1       336926       15611  230.2  230.3       0.0  230.2  230.3   \n",
              "2       336927       15611  230.1  230.1       0.0  230.1  230.1   \n",
              "3       336928       15611  230.2  230.3       0.0  230.1  230.3   \n",
              "4       336929       15611  230.3  230.3       0.0  230.2  230.2   \n",
              "...        ...         ...    ...    ...       ...    ...    ...   \n",
              "230560  336232       15611  220.7  220.9       0.0  220.7  220.9   \n",
              "230561  336233       15611  220.8  220.9       0.0  220.7  220.7   \n",
              "230562  336234       15611  220.8  221.0       0.0  220.8  220.8   \n",
              "230563  336235       15611  220.8  220.9       0.0  220.8  220.8   \n",
              "230564  336236       15611  220.7  220.8       0.0  220.7  220.8   \n",
              "\n",
              "                      time       volume  \n",
              "0      2021-03-16 10:55:00  2099.999969  \n",
              "1      2021-03-16 12:05:00  4959.999926  \n",
              "2      2021-03-16 12:06:00    25.000000  \n",
              "3      2021-03-16 12:07:00  3104.999954  \n",
              "4      2021-03-16 12:08:00  3049.999955  \n",
              "...                    ...          ...  \n",
              "230560 2021-03-17 12:15:00  2824.999958  \n",
              "230561 2021-03-17 12:16:00  5134.999923  \n",
              "230562 2021-03-17 12:17:00  2679.999960  \n",
              "230563 2021-03-17 12:18:00   899.999987  \n",
              "230564 2021-03-17 12:19:00   919.999986  \n",
              "\n",
              "[230565 rows x 9 columns]"
            ]
          },
          "execution_count": 11,
          "metadata": {},
          "output_type": "execute_result"
        }
      ],
      "source": [
        "# use pandas rolling windows to split up the data\n",
        "data = GetDF()\n",
        "data.rolling(window=50).mean()\n",
        "data"
      ]
    },
    {
      "cell_type": "code",
      "execution_count": null,
      "metadata": {},
      "outputs": [],
      "source": []
    },
    {
      "cell_type": "code",
      "execution_count": null,
      "metadata": {},
      "outputs": [
        {
          "data": {
            "text/plain": [
              "(torch.Size([32, 90, 128]), torch.Size([32, 90, 128]))"
            ]
          },
          "execution_count": 12,
          "metadata": {},
          "output_type": "execute_result"
        }
      ],
      "source": [
        "enc_outputs = torch.rand(n_step, batch_size, n_hidden)\n",
        "dec_outputs = torch.rand(n_step, batch_size, n_hidden)\n",
        "enc_outputs = enc_outputs.transpose(0, 1)\n",
        "dec_outputs = dec_outputs.transpose(0, 1)\n",
        "enc_outputs.shape, dec_outputs.shape"
      ]
    },
    {
      "cell_type": "code",
      "execution_count": null,
      "metadata": {},
      "outputs": [
        {
          "data": {
            "text/plain": [
              "torch.Size([32, 90, 128])"
            ]
          },
          "execution_count": 13,
          "metadata": {},
          "output_type": "execute_result"
        }
      ],
      "source": [
        "enc_outputs = torch.nn.functional.linear(enc_outputs, torch.rand(n_hidden, n_hidden))\n",
        "enc_outputs.shape"
      ]
    },
    {
      "cell_type": "code",
      "execution_count": null,
      "metadata": {},
      "outputs": [
        {
          "data": {
            "text/plain": [
              "(torch.Size([32, 90, 128]), torch.Size([32, 128, 90]))"
            ]
          },
          "execution_count": 14,
          "metadata": {},
          "output_type": "execute_result"
        }
      ],
      "source": [
        "enc_outputs = enc_outputs.transpose(1,2)\n",
        "dec_outputs.shape, enc_outputs.shape"
      ]
    },
    {
      "cell_type": "code",
      "execution_count": null,
      "metadata": {},
      "outputs": [
        {
          "data": {
            "text/plain": [
              "torch.Size([32, 90, 128])"
            ]
          },
          "execution_count": 15,
          "metadata": {},
          "output_type": "execute_result"
        }
      ],
      "source": [
        "attention_weights = torch.nn.functional.softmax(torch.bmm(dec_outputs, enc_outputs), dim=-1)\n",
        "attention_weights.shape, enc_outputs.shape\n",
        "enc_outputs = enc_outputs.transpose(1,2)\n",
        "torch.bmm(attention_weights, enc_outputs).shape"
      ]
    },
    {
      "cell_type": "code",
      "execution_count": null,
      "metadata": {},
      "outputs": [
        {
          "data": {
            "text/plain": [
              "torch.Size([37931, 90, 1, 1])"
            ]
          },
          "execution_count": 16,
          "metadata": {},
          "output_type": "execute_result"
        }
      ],
      "source": [
        "input_batch.unsqueeze(-1).shape"
      ]
    },
    {
      "cell_type": "code",
      "execution_count": null,
      "metadata": {},
      "outputs": [
        {
          "data": {
            "text/plain": [
              "tensor([[[True],\n",
              "         [True],\n",
              "         [True],\n",
              "         ...,\n",
              "         [True],\n",
              "         [True],\n",
              "         [True]],\n",
              "\n",
              "        [[True],\n",
              "         [True],\n",
              "         [True],\n",
              "         ...,\n",
              "         [True],\n",
              "         [True],\n",
              "         [True]],\n",
              "\n",
              "        [[True],\n",
              "         [True],\n",
              "         [True],\n",
              "         ...,\n",
              "         [True],\n",
              "         [True],\n",
              "         [True]],\n",
              "\n",
              "        ...,\n",
              "\n",
              "        [[True],\n",
              "         [True],\n",
              "         [True],\n",
              "         ...,\n",
              "         [True],\n",
              "         [True],\n",
              "         [True]],\n",
              "\n",
              "        [[True],\n",
              "         [True],\n",
              "         [True],\n",
              "         ...,\n",
              "         [True],\n",
              "         [True],\n",
              "         [True]],\n",
              "\n",
              "        [[True],\n",
              "         [True],\n",
              "         [True],\n",
              "         ...,\n",
              "         [True],\n",
              "         [True],\n",
              "         [True]]])"
            ]
          },
          "execution_count": 17,
          "metadata": {},
          "output_type": "execute_result"
        }
      ],
      "source": [
        "output_batch == target_batch"
      ]
    },
    {
      "cell_type": "code",
      "execution_count": null,
      "metadata": {},
      "outputs": [
        {
          "name": "stdout",
          "output_type": "stream",
          "text": [
            "torch.Size([32, 60, 1])\n"
          ]
        }
      ],
      "source": [
        "m = nn.Linear(20, 1)\n",
        "input = torch.randn(32 ,60, 20)\n",
        "output = m(input)\n",
        "print(output.size())\n",
        "        # print(\"dec_outputs: \", dec_outputs.shape)\n",
        "        # print(\"context: \", context.shape)\n",
        "        # dec_outputs:  torch.Size([32, 50, 128])\n",
        "        # context:  torch.Size([32, 50, 128])\n",
        "        # dec_output : batch_size, n_step, n_hidden\n",
        "        # context: batch_size, n_step, n_hidden\n",
        "        # combine: batch_size, n_step, 2 * n_hidden\n",
        "        # output shape [32,50,1]\n",
        "        # Wanted output shape [32,10,1]\n",
        "#the input shape should be [32,50,128] the output shape should be [32,10,1]\n"
      ]
    }
  ],
  "metadata": {
    "anaconda-cloud": {},
    "interpreter": {
      "hash": "d5f817f64297d6161d9a4f0c22466f8c335e5fbf069e9016e16f0d0b5102288b"
    },
    "kernelspec": {
      "display_name": "Python (myenv)",
      "language": "python",
      "name": "python3"
    },
    "language_info": {
      "codemirror_mode": {
        "name": "ipython",
        "version": 3
      },
      "file_extension": ".py",
      "mimetype": "text/x-python",
      "name": "python",
      "nbconvert_exporter": "python",
      "pygments_lexer": "ipython3",
      "version": "3.10.3"
    }
  },
  "nbformat": 4,
  "nbformat_minor": 4
}
