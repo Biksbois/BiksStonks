{
  "cells": [
    {
      "cell_type": "code",
      "execution_count": 25,
      "metadata": {},
      "outputs": [],
      "source": [
        "# code by Tae Hwan Jung @graykode\n",
        "# Reference : https://github.com/hunkim/PyTorchZeroToAll/blob/master/14_2_seq2seq_att.py\n",
        "import numpy as np\n",
        "import torch\n",
        "import torch.nn as nn\n",
        "import torch.nn.functional as F\n",
        "import matplotlib.pyplot as plt\n",
        "import psycopg2 as pg\n",
        "import pandas as pd\n",
        "\n",
        "# S: Symbol that shows starting of decoding input\n",
        "# E: Symbol that shows starting of decoding output\n",
        "# P: Symbol that will fill in blank sequence if current batch data size is short than time steps\n",
        "class DatabaseConnection:\n",
        "    def __init__(self):\n",
        "        self.conn = self.connect()\n",
        "    def connect(self):\n",
        "        try:\n",
        "            self.conn = pg.connect(\n",
        "                \"dbname='stonksdb' user='postgres' host='localhost' password='admin'\")\n",
        "            print(\"Connection made succ\")\n",
        "            return self.conn\n",
        "        except:\n",
        "            print(\"I am unable to connect to the database\")\n",
        "            return None\n",
        "    def close(self):\n",
        "        self.conn.close()\n",
        "    \n",
        "    def GetConnector(self):\n",
        "        return self.conn\n",
        "    ### send query to database\n",
        "    def query(self, query):\n",
        "        cur = self.conn.cursor()\n",
        "        cur.execute(query)\n",
        "        return cur.fetchall()\n",
        "\n",
        "class DatasetAccess:\n",
        "    def __init__(self):\n",
        "        self.conn = DatabaseConnection()\n",
        "    def getNcompanies(self, N):\n",
        "        AllCompanies = self.conn.query(\"SELECT * FROM dataset limit \"+ str(N)+\"\")\n",
        "        return AllCompanies\n",
        "    def getStockFromSymbol(self, StockSymbol, column = '*'):\n",
        "        company = self.conn.query(\"SELECT * FROM dataset WHERE symbol = '\" + StockSymbol + \"'\")\n",
        "        self.getStockFromCompany(company, column)\n",
        "        return company\n",
        "    def getStockFromCompany(self, companies, column = '*'):\n",
        "        result = []\n",
        "        for company in companies:\n",
        "            result.append(self.conn.query(\"SELECT \"+self.convertListToString(column)+\" FROM stock WHERE identifier = '\" + str(company[0]) + \"'\"))\n",
        "        return result\n",
        "    def convertListToString(self, column):\n",
        "        if type(column) != list:\n",
        "            return column\n",
        "        result = ''\n",
        "        for item in column:\n",
        "            result += item + ', '\n",
        "        return result[:-2]\n",
        "    def getStockDFFromCompany(self, companies, column = '*'):\n",
        "        result = []\n",
        "        print(companies)\n",
        "        for company in companies:\n",
        "            result.append(pd.read_sql(\"SELECT \"+self.convertListToString(column)+\" FROM stock WHERE identifier = '\" + str(company[0]) + \"' order by time asc\", self.conn.GetConnector()))\n",
        "        return result\n",
        "    def GetAllStocksAsDF(self):\n",
        "        PandaStock = pd.read_sql('SELECT * FROM stock', self.conn.GetConnector())\n",
        "        print(PandaStock)\n",
        "    \n",
        "def GetDF():\n",
        "    dbaccess = DatasetAccess()\n",
        "    vestas = pd.read_sql(\"select * from stock where identifier = 15611 \", dbaccess.conn.GetConnector())\n",
        "    return vestas\n",
        "\n",
        "def GetSingleStockDF():\n",
        "    dbAccess = DatasetAccess()\n",
        "    comp = dbAccess.getNcompanies(2)\n",
        "    return dbAccess.getStockDFFromCompany(comp, column=\"close\")"
      ]
    },
    {
      "cell_type": "code",
      "execution_count": 7,
      "metadata": {},
      "outputs": [],
      "source": []
    },
    {
      "cell_type": "code",
      "execution_count": 59,
      "metadata": {},
      "outputs": [],
      "source": [
        "def make_batch():\n",
        "    replica_input = train\n",
        "    replica_input = [np.array(replica_input)]\n",
        "    replica_Input = [n for n in replica_input[0]]\n",
        "    print(\"____________-\")\n",
        "    replica_output = train\n",
        "    replica_output = [np.array(replica_output)]\n",
        "    replica_Output = [n for n in replica_output[0]]\n",
        "    print(\"____________-\")\n",
        "    replica_target = target\n",
        "    replica_target = [np.array(replica_target)]\n",
        "    replica_Target = [n for n in replica_target[0]]\n",
        "    \n",
        "    #input_batch = [np.eye(n_class)[[word_dict[n] for n in sentences[0].split()]]] # takes the number and one hot encodes it\n",
        "    #print(input_batch)\n",
        "    #print(replica_Output)\n",
        "    #output_batch = [np.eye(n_class)[[word_dict[n] for n in sentences[1].split()]]] # takes the number and one hot encodes it\n",
        "    #target_batch = [[word_dict[n] for n in sentences[2].split()]] # takes the number\n",
        "    # print(input_batch)\n",
        "    # print([np.array([replica_input])])\n",
        "    # make tensor\n",
        "    # return torch.FloatTensor(input_batch), torch.FloatTensor(output_batch), torch.LongTensor(target_batch)\n",
        "    return torch.FloatTensor(replica_Input), torch.FloatTensor(replica_Output), torch.FloatTensor(replica_Target)"
      ]
    },
    {
      "cell_type": "code",
      "execution_count": 27,
      "metadata": {},
      "outputs": [],
      "source": [
        "class Attention(nn.Module):\n",
        "    def __init__(self):\n",
        "        super(Attention, self).__init__()\n",
        "        self.enc_cell = nn.RNN(input_size=n_class, hidden_size=n_hidden, dropout=0.5)\n",
        "        self.dec_cell = nn.RNN(input_size=n_class, hidden_size=n_hidden, dropout=0.5)\n",
        "\n",
        "        # Linear for attention\n",
        "        self.attn = nn.Linear(n_hidden, n_hidden)\n",
        "        self.out = nn.Linear(n_hidden * 2, n_class)\n",
        "\n",
        "    def forward(self, enc_inputs, hidden, dec_inputs):\n",
        "        enc_inputs = enc_inputs.transpose(0, 1)  # enc_inputs: [n_step(=n_step, time step), batch_size, n_class]\n",
        "        dec_inputs = dec_inputs.transpose(0, 1)  # dec_inputs: [n_step(=n_step, time step), batch_size, n_class]\n",
        "\n",
        "        # enc_outputs : [n_step, batch_size, num_directions(=1) * n_hidden], matrix F\n",
        "        # enc_hidden : [num_layers(=1) * num_directions(=1), batch_size, n_hidden]\n",
        "        enc_outputs, enc_hidden = self.enc_cell(enc_inputs, hidden)\n",
        "\n",
        "        trained_attn = []\n",
        "        hidden = enc_hidden\n",
        "        n_step = len(dec_inputs)\n",
        "        model = torch.empty([n_step, 1, n_class])\n",
        "\n",
        "        # for i in range(n_step):  # each time step\n",
        "        #     # dec_output : [n_step(=1), batch_size(=1), num_directions(=1) * n_hidden]\n",
        "        #     # hidden : [num_layers(=1) * num_directions(=1), batch_size(=1), n_hidden]\n",
        "        #     dec_output, hidden = self.dec_cell(dec_inputs[i].unsqueeze(0), hidden)\n",
        "        #     print(\"dec_output:\", dec_output.shape)\n",
        "        #     print(\"enc_outputs\", enc_outputs.shape)\n",
        "        #     attn_weights = self.get_att_weight(dec_output, enc_outputs)  # attn_weights : [1, 1, n_step]\n",
        "        #     trained_attn.append(attn_weights.squeeze().data.numpy())\n",
        "\n",
        "        #     # matrix-matrix product of matrices [1,1,n_step] x [1,n_step,n_hidden] = [1,1,n_hidden]\n",
        "        #     print(attn_weights.shape)\n",
        "        #     context = attn_weights.bmm(enc_outputs.transpose(0, 1))\n",
        "        #     dec_output = dec_output.squeeze(0)  # dec_output : [batch_size(=1), num_directions(=1) * n_hidden]\n",
        "        #     context = context.squeeze(1)  # [1, num_directions(=1) * n_hidden]\n",
        "        #     model[i] = self.out(torch.cat((dec_output, context), 1))\n",
        "\n",
        "        # maybe good stuff\n",
        "        dec_outputs, hidden = self.dec_cell(dec_inputs, hidden)\n",
        "\n",
        "        enc_outputs = enc_outputs.transpose(0, 1)\n",
        "        dec_outputs = dec_outputs.transpose(0, 1)\n",
        "        enc_outputs = self.attn(enc_outputs)\n",
        "\n",
        "        attention_weights = torch.nn.functional.softmax(torch.bmm(dec_outputs, enc_outputs.transpose(1,2)), dim=-1)\n",
        "        context = torch.bmm(attention_weights, enc_outputs)\n",
        "\n",
        "        # dec_output : batch_size, n_step, n_hidden\n",
        "        # context: batch_size, n_step, n_hidden\n",
        "        # combine: batch_size, n_step, 2 * n_hidden\n",
        "        combine = torch.cat((dec_outputs, context), 2)\n",
        "        \n",
        "        return self.out(combine), trained_attn\n",
        "\n",
        "\n",
        "\n",
        "\n",
        "        # make model shape [n_step, n_class]\n",
        "        #return model.transpose(0, 1).squeeze(0), trained_attn\n",
        "\n",
        "    def get_att_weight(self, dec_output, enc_outputs):  # get attention weight one 'dec_output' with 'enc_outputs'\n",
        "        n_step = len(enc_outputs)\n",
        "        attn_scores = torch.zeros(n_step)  # attn_scores : [n_step]\n",
        "\n",
        "        for i in range(n_step):\n",
        "            attn_scores[i] = self.get_att_score(dec_output, enc_outputs[i])\n",
        "\n",
        "        # Normalize scores to weights in range 0 to 1\n",
        "        return F.softmax(attn_scores).view(1, 1, -1)\n",
        "\n",
        "    def get_att_score(self, dec_output, enc_output):  # enc_outputs [batch_size, num_directions(=1) * n_hidden]\n",
        "        score = self.attn(enc_output)  # score : [batch_size, n_hidden]\n",
        "    \n",
        "        return scores #torch.dot(dec_output.view(-1), score.view(-1))  # inner product make scalar value"
      ]
    },
    {
      "cell_type": "code",
      "execution_count": 98,
      "metadata": {},
      "outputs": [
        {
          "name": "stdout",
          "output_type": "stream",
          "text": [
            "Connection made succ\n",
            "[(15521, 'Stock', 'DKK', 'Danske Bank A/S', 'CSE', '1577', 'DK', '15521', 'Instrument', 'DANSKE:xcse', 'UNKNOWN'), (15611, 'Stock', 'DKK', 'Vestas Wind Systems A/S', 'CSE', '1548', 'DK', '15611', 'Instrument', 'VWS:xcse', 'UNKNOWN')]\n"
          ]
        },
        {
          "name": "stderr",
          "output_type": "stream",
          "text": [
            "C:\\Users\\Jeppe\\Stonk\\lib\\site-packages\\pandas\\io\\sql.py:761: UserWarning: pandas only support SQLAlchemy connectable(engine/connection) ordatabase string URI or sqlite3 DBAPI2 connectionother DBAPI2 objects are not tested, please consider using SQLAlchemy\n",
            "  warnings.warn(\n",
            "C:\\Users\\Jeppe\\Stonk\\lib\\site-packages\\pandas\\io\\sql.py:761: UserWarning: pandas only support SQLAlchemy connectable(engine/connection) ordatabase string URI or sqlite3 DBAPI2 connectionother DBAPI2 objects are not tested, please consider using SQLAlchemy\n",
            "  warnings.warn(\n"
          ]
        },
        {
          "name": "stdout",
          "output_type": "stream",
          "text": [
            "Connection made succ\n",
            "[(15521, 'Stock', 'DKK', 'Danske Bank A/S', 'CSE', '1577', 'DK', '15521', 'Instrument', 'DANSKE:xcse', 'UNKNOWN'), (15611, 'Stock', 'DKK', 'Vestas Wind Systems A/S', 'CSE', '1548', 'DK', '15611', 'Instrument', 'VWS:xcse', 'UNKNOWN')]\n"
          ]
        },
        {
          "name": "stderr",
          "output_type": "stream",
          "text": [
            "C:\\Users\\Jeppe\\Stonk\\lib\\site-packages\\pandas\\io\\sql.py:761: UserWarning: pandas only support SQLAlchemy connectable(engine/connection) ordatabase string URI or sqlite3 DBAPI2 connectionother DBAPI2 objects are not tested, please consider using SQLAlchemy\n",
            "  warnings.warn(\n",
            "C:\\Users\\Jeppe\\Stonk\\lib\\site-packages\\pandas\\io\\sql.py:761: UserWarning: pandas only support SQLAlchemy connectable(engine/connection) ordatabase string URI or sqlite3 DBAPI2 connectionother DBAPI2 objects are not tested, please consider using SQLAlchemy\n",
            "  warnings.warn(\n"
          ]
        }
      ],
      "source": [
        "from itertools import islice\n",
        "\n",
        "def window1(seq, n=2):\n",
        "    it = iter(seq)\n",
        "    result = tuple(islice(it, n))\n",
        "    if len(result) == n:\n",
        "        yield result\n",
        "    for elem in it:\n",
        "        result = result[1:] + (elem,)\n",
        "        yield result\n",
        "\n",
        "def getData():\n",
        "    a = np.array(GetSingleStockDF()[1][:10000]).flatten()\n",
        "    b = np.array(GetSingleStockDF()[0][:10000]).flatten()\n",
        "\n",
        "    bop = [a,b]\n",
        "    result = []\n",
        "    for i in bop:\n",
        "        result.append(window1(i,PointSize))\n",
        "    actual = []\n",
        "    for it in result:\n",
        "        for window in it:\n",
        "            actual.append(window)\n",
        "    return actual\n",
        "cd = getData()\n"
      ]
    },
    {
      "cell_type": "code",
      "execution_count": 99,
      "metadata": {},
      "outputs": [
        {
          "name": "stderr",
          "output_type": "stream",
          "text": [
            "C:\\Users\\Jeppe\\Stonk\\lib\\site-packages\\torch\\nn\\modules\\rnn.py:62: UserWarning: dropout option adds dropout after all but last recurrent layer, so non-zero dropout expects num_layers greater than 1, but got dropout=0.5 and num_layers=1\n",
            "  warnings.warn(\"dropout option adds dropout after all but last \"\n"
          ]
        },
        {
          "name": "stdout",
          "output_type": "stream",
          "text": [
            "____________-\n",
            "____________-\n",
            "torch.Size([19802, 50, 1])\n",
            "Epoch: 0005 MSE = 0.379889\n",
            "Epoch: 0010 MSE = 0.100702\n",
            "Epoch: 0015 MSE = 0.052016\n",
            "Epoch: 0020 MSE = 0.018346\n",
            "Epoch: 0025 MSE = 0.023159\n",
            "Epoch: 0030 MSE = 0.006720\n",
            "Epoch: 0035 MSE = 0.009181\n",
            "Epoch: 0040 MSE = 0.005068\n",
            "Epoch: 0045 MSE = 0.005109\n"
          ]
        }
      ],
      "source": [
        "if __name__ == '__main__':\n",
        "    n_step = 50 # number of cells(= number of Step)\n",
        "    n_hidden = 128 # number of hidden units in one cell\n",
        "    n_class = 1\n",
        "    PointSize = 100\n",
        "    closingData = np.array(cd)\n",
        "    closingData = (closingData - closingData.mean()) / closingData.std()\n",
        "    train = [d[:50] for d in closingData]\n",
        "    target = [d[50:] for d in closingData]\n",
        "    dataset_iter = iter(zip(train, target))\n",
        "    batch_size = 32\n",
        "    num_layers = 1\n",
        "\n",
        "    #use pytorch to create the batches\n",
        "    dtloader = torch.utils.data.DataLoader(torch.utils.data.TensorDataset(torch.from_numpy(np.array(train)).float(), torch.from_numpy(np.array(target)).float()),\n",
        "                                           batch_size=batch_size, shuffle=True, drop_last=True)\n",
        "    #dtloader = torch.dataloader((train,target), batch_size=batch_size, shuffle=True)\n",
        "\n",
        "    hidden = torch.zeros(num_layers, batch_size, n_hidden)\n",
        "\n",
        "    model = Attention()\n",
        "    criterion = nn.MSELoss()\n",
        "    optimizer = torch.optim.Adam(model.parameters(), lr=0.001)\n",
        "\n",
        "    input_batch, output_batch, target_batch = make_batch()\n",
        "    input_batch = input_batch.unsqueeze(-1)\n",
        "    output_batch = output_batch.unsqueeze(-1)\n",
        "    target_batch = target_batch.unsqueeze(-1)\n",
        "\n",
        "    print(input_batch.shape)\n",
        "    #print(input_batch)\n",
        "    \n",
        "    # Train\n",
        "    model.train()\n",
        "    for epoch in range(200):\n",
        "        for x, y in dtloader:\n",
        "            optimizer.zero_grad()\n",
        "            x = x.unsqueeze(-1)\n",
        "            y = y.unsqueeze(-1)\n",
        "            output, _ = model(x, hidden, x)\n",
        "            loss = criterion(output, y.squeeze(0))\n",
        "\n",
        "        if (epoch + 1) % 5 == 0:\n",
        "            print('Epoch:', '%04d' % (epoch + 1), 'MSE =', '{:.6f}'.format(loss))\n",
        "\n",
        "        loss.backward()\n",
        "        optimizer.step()\n",
        "    #2m 30 sec for 2000 points\n",
        "    #\n"
      ]
    },
    {
      "cell_type": "code",
      "execution_count": 33,
      "metadata": {},
      "outputs": [
        {
          "data": {
            "text/plain": [
              "(torch.Size([10, 50, 1]), torch.Size([10, 50, 1]), torch.Size([10, 50, 1]))"
            ]
          },
          "execution_count": 33,
          "metadata": {},
          "output_type": "execute_result"
        }
      ],
      "source": [
        "input_batch.shape, output_batch.shape, target_batch.shape"
      ]
    },
    {
      "cell_type": "code",
      "execution_count": 97,
      "metadata": {},
      "outputs": [
        {
          "data": {
            "image/png": "[encoded data removed]",
            "text/plain": [
              "<Figure size 576x432 with 1 Axes>"
            ]
          },
          "metadata": {
            "needs_background": "light"
          },
          "output_type": "display_data"
        }
      ],
      "source": [
        "idx = 150\n",
        "# plot graph\n",
        "y_ground = np.concatenate((input_batch[idx].reshape(-1), target_batch[idx].reshape(-1)), 0)\n",
        "model.eval()\n",
        "hidden = torch.zeros(num_layers, 1, n_hidden)\n",
        "y_pred = model(input_batch[idx].unsqueeze(0), hidden, input_batch[idx].unsqueeze(0))[0].detach().numpy().reshape(-1)\n",
        "y_pred = np.concatenate((input_batch[idx].reshape(-1), y_pred), 0)\n",
        "\n",
        "# plot graph\n",
        "fig, ax = plt.subplots(1, 1, figsize=(8, 6))\n",
        "ax.plot(y_pred, label='Prediction', c=\"orange\")\n",
        "ax.plot(y_ground, label='Ground Truth')\n",
        "# plt add v line at 50 \n",
        "ax.axvline(50, color='green', linestyle='--')\n",
        "ax.legend()\n",
        "plt.show()"
      ]
    },
    {
      "cell_type": "code",
      "execution_count": 183,
      "metadata": {},
      "outputs": [
        {
          "name": "stdout",
          "output_type": "stream",
          "text": [
            "Connection made succ\n",
            "[(15521, 'Stock', 'DKK', 'Danske Bank A/S', 'CSE', '1577', 'DK', '15521', 'Instrument', 'DANSKE:xcse', 'UNKNOWN'), (15611, 'Stock', 'DKK', 'Vestas Wind Systems A/S', 'CSE', '1548', 'DK', '15611', 'Instrument', 'VWS:xcse', 'UNKNOWN')]\n"
          ]
        },
        {
          "name": "stderr",
          "output_type": "stream",
          "text": [
            "C:\\Users\\Jeppe\\Stonk\\lib\\site-packages\\pandas\\io\\sql.py:761: UserWarning: pandas only support SQLAlchemy connectable(engine/connection) ordatabase string URI or sqlite3 DBAPI2 connectionother DBAPI2 objects are not tested, please consider using SQLAlchemy\n",
            "  warnings.warn(\n",
            "C:\\Users\\Jeppe\\Stonk\\lib\\site-packages\\pandas\\io\\sql.py:761: UserWarning: pandas only support SQLAlchemy connectable(engine/connection) ordatabase string URI or sqlite3 DBAPI2 connectionother DBAPI2 objects are not tested, please consider using SQLAlchemy\n",
            "  warnings.warn(\n"
          ]
        },
        {
          "data": {
            "image/png": "[encoded data removed]",
            "text/plain": [
              "<Figure size 576x432 with 1 Axes>"
            ]
          },
          "metadata": {
            "needs_background": "light"
          },
          "output_type": "display_data"
        }
      ],
      "source": [
        "closingData = GetSingleStockDF()[1][:1000].values\n",
        "# re scale data\n",
        "y_ground = (y_ground * closingData.std()) + closingData.mean()\n",
        "y_pred = (y_pred * closingData.std()) + closingData.mean()\n",
        "# plot graph\n",
        "fig, ax = plt.subplots(1, 1, figsize=(8, 6))\n",
        "ax.plot(y_ground, label='Ground Truth')\n",
        "ax.plot(y_pred, label='Prediction')\n",
        "# plt add v line at 50\n",
        "ax.axvline(50, color='green', linestyle='--')\n",
        "ax.legend()\n",
        "plt.show()"
      ]
    },
    {
      "cell_type": "code",
      "execution_count": 162,
      "metadata": {},
      "outputs": [
        {
          "data": {
            "text/plain": [
              "(261.3682, 9.121928760000003)"
            ]
          },
          "execution_count": 162,
          "metadata": {},
          "output_type": "execute_result"
        }
      ],
      "source": [
        "closingData.mean(), closingData.var()\n"
      ]
    },
    {
      "cell_type": "code",
      "execution_count": 4,
      "metadata": {},
      "outputs": [
        {
          "name": "stdout",
          "output_type": "stream",
          "text": [
            "Connection made succ\n"
          ]
        },
        {
          "name": "stderr",
          "output_type": "stream",
          "text": [
            "C:\\Users\\Jeppe\\Stonk\\lib\\site-packages\\pandas\\io\\sql.py:761: UserWarning: pandas only support SQLAlchemy connectable(engine/connection) ordatabase string URI or sqlite3 DBAPI2 connectionother DBAPI2 objects are not tested, please consider using SQLAlchemy\n",
            "  warnings.warn(\n",
            "C:\\Users\\Jeppe\\AppData\\Local\\Temp\\ipykernel_6108\\327577449.py:3: FutureWarning: Dropping of nuisance columns in rolling operations is deprecated; in a future version this will raise TypeError. Select only valid columns before calling the operation. Dropped columns were Index(['time'], dtype='object')\n",
            "  data.rolling(window=50).mean()\n"
          ]
        },
        {
          "data": {
            "text/html": [
              "<div>\n",
              "<style scoped>\n",
              "    .dataframe tbody tr th:only-of-type {\n",
              "        vertical-align: middle;\n",
              "    }\n",
              "\n",
              "    .dataframe tbody tr th {\n",
              "        vertical-align: top;\n",
              "    }\n",
              "\n",
              "    .dataframe thead th {\n",
              "        text-align: right;\n",
              "    }\n",
              "</style>\n",
              "<table border=\"1\" class=\"dataframe\">\n",
              "  <thead>\n",
              "    <tr style=\"text-align: right;\">\n",
              "      <th></th>\n",
              "      <th>id</th>\n",
              "      <th>identifier</th>\n",
              "      <th>close</th>\n",
              "      <th>high</th>\n",
              "      <th>interest</th>\n",
              "      <th>low</th>\n",
              "      <th>open</th>\n",
              "      <th>time</th>\n",
              "      <th>volume</th>\n",
              "    </tr>\n",
              "  </thead>\n",
              "  <tbody>\n",
              "    <tr>\n",
              "      <th>0</th>\n",
              "      <td>282624</td>\n",
              "      <td>15611</td>\n",
              "      <td>263.20</td>\n",
              "      <td>263.20</td>\n",
              "      <td>0.0</td>\n",
              "      <td>263.10</td>\n",
              "      <td>263.20</td>\n",
              "      <td>2021-09-06 10:34:00</td>\n",
              "      <td>1158.000000</td>\n",
              "    </tr>\n",
              "    <tr>\n",
              "      <th>1</th>\n",
              "      <td>282625</td>\n",
              "      <td>15611</td>\n",
              "      <td>263.00</td>\n",
              "      <td>263.10</td>\n",
              "      <td>0.0</td>\n",
              "      <td>263.00</td>\n",
              "      <td>263.10</td>\n",
              "      <td>2021-09-06 10:35:00</td>\n",
              "      <td>1745.000000</td>\n",
              "    </tr>\n",
              "    <tr>\n",
              "      <th>2</th>\n",
              "      <td>282626</td>\n",
              "      <td>15611</td>\n",
              "      <td>263.00</td>\n",
              "      <td>263.00</td>\n",
              "      <td>0.0</td>\n",
              "      <td>262.90</td>\n",
              "      <td>262.90</td>\n",
              "      <td>2021-09-06 10:36:00</td>\n",
              "      <td>240.000000</td>\n",
              "    </tr>\n",
              "    <tr>\n",
              "      <th>3</th>\n",
              "      <td>282627</td>\n",
              "      <td>15611</td>\n",
              "      <td>262.90</td>\n",
              "      <td>262.90</td>\n",
              "      <td>0.0</td>\n",
              "      <td>262.90</td>\n",
              "      <td>262.90</td>\n",
              "      <td>2021-09-06 10:37:00</td>\n",
              "      <td>7.000000</td>\n",
              "    </tr>\n",
              "    <tr>\n",
              "      <th>4</th>\n",
              "      <td>282628</td>\n",
              "      <td>15611</td>\n",
              "      <td>263.10</td>\n",
              "      <td>263.10</td>\n",
              "      <td>0.0</td>\n",
              "      <td>263.00</td>\n",
              "      <td>263.00</td>\n",
              "      <td>2021-09-06 10:38:00</td>\n",
              "      <td>223.000000</td>\n",
              "    </tr>\n",
              "    <tr>\n",
              "      <th>...</th>\n",
              "      <td>...</td>\n",
              "      <td>...</td>\n",
              "      <td>...</td>\n",
              "      <td>...</td>\n",
              "      <td>...</td>\n",
              "      <td>...</td>\n",
              "      <td>...</td>\n",
              "      <td>...</td>\n",
              "      <td>...</td>\n",
              "    </tr>\n",
              "    <tr>\n",
              "      <th>230560</th>\n",
              "      <td>448159</td>\n",
              "      <td>15611</td>\n",
              "      <td>103.20</td>\n",
              "      <td>103.40</td>\n",
              "      <td>0.0</td>\n",
              "      <td>103.16</td>\n",
              "      <td>103.32</td>\n",
              "      <td>2020-03-20 09:02:00</td>\n",
              "      <td>10224.999848</td>\n",
              "    </tr>\n",
              "    <tr>\n",
              "      <th>230561</th>\n",
              "      <td>448160</td>\n",
              "      <td>15611</td>\n",
              "      <td>103.12</td>\n",
              "      <td>103.16</td>\n",
              "      <td>0.0</td>\n",
              "      <td>102.96</td>\n",
              "      <td>103.16</td>\n",
              "      <td>2020-03-20 09:03:00</td>\n",
              "      <td>9834.999853</td>\n",
              "    </tr>\n",
              "    <tr>\n",
              "      <th>230562</th>\n",
              "      <td>448161</td>\n",
              "      <td>15611</td>\n",
              "      <td>102.80</td>\n",
              "      <td>103.04</td>\n",
              "      <td>0.0</td>\n",
              "      <td>102.80</td>\n",
              "      <td>103.04</td>\n",
              "      <td>2020-03-20 09:04:00</td>\n",
              "      <td>11964.999822</td>\n",
              "    </tr>\n",
              "    <tr>\n",
              "      <th>230563</th>\n",
              "      <td>448162</td>\n",
              "      <td>15611</td>\n",
              "      <td>102.20</td>\n",
              "      <td>102.76</td>\n",
              "      <td>0.0</td>\n",
              "      <td>102.12</td>\n",
              "      <td>102.76</td>\n",
              "      <td>2020-03-20 09:05:00</td>\n",
              "      <td>14229.999788</td>\n",
              "    </tr>\n",
              "    <tr>\n",
              "      <th>230564</th>\n",
              "      <td>448163</td>\n",
              "      <td>15611</td>\n",
              "      <td>101.76</td>\n",
              "      <td>102.24</td>\n",
              "      <td>0.0</td>\n",
              "      <td>101.48</td>\n",
              "      <td>102.16</td>\n",
              "      <td>2020-03-20 09:06:00</td>\n",
              "      <td>29474.999561</td>\n",
              "    </tr>\n",
              "  </tbody>\n",
              "</table>\n",
              "<p>230565 rows × 9 columns</p>\n",
              "</div>"
            ],
            "text/plain": [
              "            id  identifier   close    high  interest     low    open  \\\n",
              "0       282624       15611  263.20  263.20       0.0  263.10  263.20   \n",
              "1       282625       15611  263.00  263.10       0.0  263.00  263.10   \n",
              "2       282626       15611  263.00  263.00       0.0  262.90  262.90   \n",
              "3       282627       15611  262.90  262.90       0.0  262.90  262.90   \n",
              "4       282628       15611  263.10  263.10       0.0  263.00  263.00   \n",
              "...        ...         ...     ...     ...       ...     ...     ...   \n",
              "230560  448159       15611  103.20  103.40       0.0  103.16  103.32   \n",
              "230561  448160       15611  103.12  103.16       0.0  102.96  103.16   \n",
              "230562  448161       15611  102.80  103.04       0.0  102.80  103.04   \n",
              "230563  448162       15611  102.20  102.76       0.0  102.12  102.76   \n",
              "230564  448163       15611  101.76  102.24       0.0  101.48  102.16   \n",
              "\n",
              "                      time        volume  \n",
              "0      2021-09-06 10:34:00   1158.000000  \n",
              "1      2021-09-06 10:35:00   1745.000000  \n",
              "2      2021-09-06 10:36:00    240.000000  \n",
              "3      2021-09-06 10:37:00      7.000000  \n",
              "4      2021-09-06 10:38:00    223.000000  \n",
              "...                    ...           ...  \n",
              "230560 2020-03-20 09:02:00  10224.999848  \n",
              "230561 2020-03-20 09:03:00   9834.999853  \n",
              "230562 2020-03-20 09:04:00  11964.999822  \n",
              "230563 2020-03-20 09:05:00  14229.999788  \n",
              "230564 2020-03-20 09:06:00  29474.999561  \n",
              "\n",
              "[230565 rows x 9 columns]"
            ]
          },
          "execution_count": 4,
          "metadata": {},
          "output_type": "execute_result"
        }
      ],
      "source": [
        "# use pandas rolling windows to split up the data\n",
        "data = GetDF()\n",
        "data.rolling(window=50).mean()\n",
        "data"
      ]
    },
    {
      "cell_type": "code",
      "execution_count": 6,
      "metadata": {},
      "outputs": [],
      "source": []
    },
    {
      "cell_type": "code",
      "execution_count": 73,
      "metadata": {},
      "outputs": [
        {
          "data": {
            "text/plain": [
              "(torch.Size([10, 50, 128]), torch.Size([10, 50, 128]))"
            ]
          },
          "execution_count": 73,
          "metadata": {},
          "output_type": "execute_result"
        }
      ],
      "source": [
        "enc_outputs = torch.rand(n_step, batch_size, n_hidden)\n",
        "dec_outputs = torch.rand(n_step, batch_size, n_hidden)\n",
        "enc_outputs = enc_outputs.transpose(0, 1)\n",
        "dec_outputs = dec_outputs.transpose(0, 1)\n",
        "enc_outputs.shape, dec_outputs.shape"
      ]
    },
    {
      "cell_type": "code",
      "execution_count": 74,
      "metadata": {},
      "outputs": [
        {
          "data": {
            "text/plain": [
              "torch.Size([10, 50, 128])"
            ]
          },
          "execution_count": 74,
          "metadata": {},
          "output_type": "execute_result"
        }
      ],
      "source": [
        "enc_outputs = torch.nn.functional.linear(enc_outputs, torch.rand(n_hidden, n_hidden))\n",
        "enc_outputs.shape"
      ]
    },
    {
      "cell_type": "code",
      "execution_count": 75,
      "metadata": {},
      "outputs": [
        {
          "data": {
            "text/plain": [
              "(torch.Size([10, 50, 128]), torch.Size([10, 128, 50]))"
            ]
          },
          "execution_count": 75,
          "metadata": {},
          "output_type": "execute_result"
        }
      ],
      "source": [
        "enc_outputs = enc_outputs.transpose(1,2)\n",
        "dec_outputs.shape, enc_outputs.shape"
      ]
    },
    {
      "cell_type": "code",
      "execution_count": 91,
      "metadata": {},
      "outputs": [
        {
          "data": {
            "text/plain": [
              "torch.Size([10, 50, 128])"
            ]
          },
          "execution_count": 91,
          "metadata": {},
          "output_type": "execute_result"
        }
      ],
      "source": [
        "attention_weights = torch.nn.functional.softmax(torch.bmm(dec_outputs, enc_outputs), dim=-1)\n",
        "attention_weights.shape, enc_outputs.shape\n",
        "enc_outputs = enc_outputs.transpose(1,2)\n",
        "torch.bmm(attention_weights, enc_outputs).shape"
      ]
    },
    {
      "cell_type": "code",
      "execution_count": 28,
      "metadata": {},
      "outputs": [
        {
          "data": {
            "text/plain": [
              "torch.Size([10, 50, 1])"
            ]
          },
          "execution_count": 28,
          "metadata": {},
          "output_type": "execute_result"
        }
      ],
      "source": [
        "input_batch.unsqueeze(-1).shape"
      ]
    },
    {
      "cell_type": "code",
      "execution_count": 24,
      "metadata": {},
      "outputs": [
        {
          "data": {
            "text/plain": [
              "tensor([[[False, False, False, False, False, False, False, False, False, False,\n",
              "          False, False, False, False, False, False, False, False, False, False,\n",
              "          False, False, False, False, False, False, False, False, False, False,\n",
              "          False, False, False, False, False, False, False, False, False, False,\n",
              "          False, False, False, False, False, False, False, False, False, False],\n",
              "         [False, False, False, False, False, False, False, False, False, False,\n",
              "          False, False, False, False, False, False, False, False, False, False,\n",
              "          False, False, False, False, False, False, False, False,  True, False,\n",
              "          False, False, False, False, False, False, False, False, False, False,\n",
              "           True, False, False, False,  True,  True, False, False,  True,  True],\n",
              "         [False, False, False, False, False, False, False, False, False, False,\n",
              "          False, False, False, False, False, False, False, False, False, False,\n",
              "          False, False, False, False, False, False, False, False, False, False,\n",
              "          False, False, False, False, False, False, False, False, False, False,\n",
              "          False, False, False, False, False, False, False, False, False, False],\n",
              "         [False, False, False, False, False, False, False, False, False, False,\n",
              "          False, False, False, False, False, False, False, False, False, False,\n",
              "          False, False, False, False, False, False, False, False, False, False,\n",
              "          False, False, False, False, False, False, False, False, False, False,\n",
              "          False, False, False, False, False, False, False,  True,  True, False],\n",
              "         [False, False, False, False, False, False, False, False, False, False,\n",
              "          False, False, False, False, False, False, False, False, False, False,\n",
              "          False, False, False, False, False, False, False, False, False, False,\n",
              "          False, False, False, False, False, False, False, False, False, False,\n",
              "          False, False, False, False,  True, False, False, False, False, False],\n",
              "         [False, False, False, False, False, False, False, False, False, False,\n",
              "          False, False, False, False, False, False, False, False, False, False,\n",
              "          False, False, False, False, False, False, False, False, False, False,\n",
              "          False, False, False, False, False, False, False, False, False, False,\n",
              "          False, False, False, False, False, False, False, False, False, False],\n",
              "         [False, False, False, False, False, False, False, False, False, False,\n",
              "          False, False, False, False, False, False, False, False, False, False,\n",
              "          False, False, False, False, False, False, False, False, False, False,\n",
              "          False, False, False, False, False, False, False, False, False, False,\n",
              "          False, False, False, False, False, False, False, False, False, False],\n",
              "         [False, False, False, False, False, False, False, False, False, False,\n",
              "          False, False, False, False, False, False, False, False, False, False,\n",
              "          False, False, False, False, False, False, False, False, False, False,\n",
              "          False, False, False, False, False, False, False, False, False, False,\n",
              "          False, False, False, False, False, False,  True, False,  True, False],\n",
              "         [False, False, False, False, False,  True,  True, False, False, False,\n",
              "          False, False, False, False, False, False, False, False, False, False,\n",
              "          False, False, False, False, False, False, False, False, False, False,\n",
              "          False, False,  True, False, False, False, False, False, False, False,\n",
              "          False, False, False, False, False, False, False, False, False, False],\n",
              "         [False, False, False, False, False, False, False, False, False, False,\n",
              "          False, False, False, False, False, False, False, False, False, False,\n",
              "          False, False, False, False, False, False, False, False, False, False,\n",
              "          False, False, False, False, False, False, False, False, False, False,\n",
              "          False, False, False, False, False, False, False, False, False, False]]])"
            ]
          },
          "execution_count": 24,
          "metadata": {},
          "output_type": "execute_result"
        }
      ],
      "source": [
        "output_batch == target_batch"
      ]
    },
    {
      "cell_type": "code",
      "execution_count": null,
      "metadata": {},
      "outputs": [],
      "source": []
    }
  ],
  "metadata": {
    "anaconda-cloud": {},
    "interpreter": {
      "hash": "d5f817f64297d6161d9a4f0c22466f8c335e5fbf069e9016e16f0d0b5102288b"
    },
    "kernelspec": {
      "display_name": "Python (myenv)",
      "language": "python",
      "name": "python3"
    },
    "language_info": {
      "codemirror_mode": {
        "name": "ipython",
        "version": 3
      },
      "file_extension": ".py",
      "mimetype": "text/x-python",
      "name": "python",
      "nbconvert_exporter": "python",
      "pygments_lexer": "ipython3",
      "version": "3.10.3"
    }
  },
  "nbformat": 4,
  "nbformat_minor": 4
}
