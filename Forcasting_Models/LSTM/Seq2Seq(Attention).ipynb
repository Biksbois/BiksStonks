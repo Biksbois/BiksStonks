{
  "cells": [
    {
      "cell_type": "code",
      "execution_count": 2,
      "metadata": {},
      "outputs": [
        {
          "name": "stderr",
          "output_type": "stream",
          "text": [
            "C:\\Users\\Jeppe\\Stonk\\lib\\site-packages\\tqdm\\auto.py:22: TqdmWarning: IProgress not found. Please update jupyter and ipywidgets. See https://ipywidgets.readthedocs.io/en/stable/user_install.html\n",
            "  from .autonotebook import tqdm as notebook_tqdm\n"
          ]
        }
      ],
      "source": [
        "import numpy as np\n",
        "import torch\n",
        "import torch.nn as nn\n",
        "import torch.nn.functional as F\n",
        "import matplotlib.pyplot as plt\n",
        "import psycopg2 as pg\n",
        "import pandas as pd\n",
        "import sys\n",
        "import os\n",
        "sys.path.append(\"C:/Users/Jeppe/Documents/GitHub/BiksStonks/Forcasting_Models\")\n",
        "import utils.preprocess as preprocess\n",
        "import utils.DatasetAccess as DatAccess"
      ]
    },
    {
      "cell_type": "code",
      "execution_count": 3,
      "metadata": {},
      "outputs": [],
      "source": [
        "# code by Tae Hwan Jung @graykode\n",
        "# Reference : https://github.com/hunkim/PyTorchZeroToAll/blob/master/14_2_seq2seq_att.py\n",
        "\n",
        "\n",
        "# S: Symbol that shows starting of decoding input\n",
        "# E: Symbol that shows starting of decoding output\n",
        "# P: Symbol that will fill in blank sequence if current batch data size is short than time steps\n",
        "class DatabaseConnection:\n",
        "    def __init__(self):\n",
        "        self.conn = self.connect()\n",
        "    def connect(self):\n",
        "        try:\n",
        "            self.conn = pg.connect(\n",
        "                \"dbname='stonksdb' user='postgres' host='localhost' password='admin'\")\n",
        "            print(\"Connection made succ\")\n",
        "            return self.conn\n",
        "        except:\n",
        "            print(\"I am unable to connect to the database\")\n",
        "            return None\n",
        "    def close(self):\n",
        "        self.conn.close()\n",
        "    \n",
        "    def GetConnector(self):\n",
        "        return self.conn\n",
        "    ### send query to database\n",
        "    def query(self, query):\n",
        "        cur = self.conn.cursor()\n",
        "        cur.execute(query)\n",
        "        return cur.fetchall()\n",
        "\n",
        "class DatasetAccess:\n",
        "    def __init__(self):\n",
        "        self.conn = DatabaseConnection()\n",
        "\n",
        "    def getNcompanies(self, N):\n",
        "        AllCompanies = self.conn.query(\"SELECT * FROM dataset limit \"+ str(N)+\"\")\n",
        "        return AllCompanies\n",
        "\n",
        "    def GetNumberOfCompanies(self):\n",
        "        return self.conn.query(\"SELECT count(*) FROM dataset\")\n",
        "\n",
        "    def getStockFromSymbol(self, StockSymbol, column = '*'):\n",
        "        company = self.conn.query(\"SELECT * FROM dataset WHERE symbol = '\" + StockSymbol + \"'\")\n",
        "        self.getStockFromCompany(company, column)\n",
        "        return company\n",
        "\n",
        "    def getStockFromCompany(self, companies, column = '*'):\n",
        "        result = []\n",
        "        for company in companies:\n",
        "            result.append(self.conn.query(\"SELECT \"+self.convertListToString(column)+\" FROM stock WHERE identifier = '\" + str(company[0]) + \"'\"))\n",
        "        return result\n",
        "    def convertListToString(self, column):\n",
        "        if type(column) != list:\n",
        "            return column\n",
        "        result = ''\n",
        "        for item in column:\n",
        "            result += item + ', '\n",
        "        return result[:-2]\n",
        "    def getStockDFFromCompany(self, companies, column = '*'):\n",
        "        result = []\n",
        "        print(companies)\n",
        "        for company in companies:\n",
        "            result.append(pd.read_sql(\"SELECT \"+self.convertListToString(column)+\" FROM stock WHERE identifier = '\" + str(company[0]) + \"' order by time asc\", self.conn.GetConnector()))\n",
        "        return result\n",
        "    def GetAllStocksAsDF(self):\n",
        "        PandaStock = pd.read_sql('SELECT * FROM stock', self.conn.GetConnector())\n",
        "        print(PandaStock)\n",
        "    \n",
        "def GetDF():\n",
        "    dbaccess = DatasetAccess()\n",
        "    vestas = pd.read_sql(\"select * from stock where identifier = 15611 \", dbaccess.conn.GetConnector())\n",
        "    return vestas\n",
        "    \n",
        "def GetNumberOfCompanies():\n",
        "    dbAccess = DatasetAccess()\n",
        "    return dbAccess.GetNumberOfCompanies()\n",
        "\n",
        "def GetSingleStockDF():\n",
        "    dbAccess = DatasetAccess()\n",
        "    comp = dbAccess.getNcompanies(2)\n",
        "    return dbAccess.getStockDFFromCompany(comp, column=\"close\")\n",
        "\n",
        "def GetStocks(n):\n",
        "    dbAccess = DatasetAccess()\n",
        "    comp = dbAccess.getNcompanies(n)\n",
        "    return dbAccess.getStockDFFromCompany(comp, column=\"close\")\n",
        "\n",
        "def GetStocksHourly(n):\n",
        "    dbAccess = DatasetAccess()\n",
        "    comps = dbAccess.getNcompanies(n)\n",
        "    result = []\n",
        "    for comp in comps:\n",
        "        result.append(DatAccess.get_data_for_datasetid(str(comp[0]),dbAccess.conn.GetConnector(),\"h\")[\"close\"])\n",
        "    return result\n",
        "# test = GetStocksHourly(10)"
      ]
    },
    {
      "cell_type": "code",
      "execution_count": 4,
      "metadata": {},
      "outputs": [],
      "source": [
        "def make_batch():\n",
        "    replica_input = train\n",
        "    replica_input = [np.array(replica_input)]\n",
        "    replica_Input = [n for n in replica_input[0]]\n",
        "    print(\"____________-\")\n",
        "    replica_output = target\n",
        "    replica_output = [np.array(replica_output)]\n",
        "    replica_Output = [n for n in replica_output[0]]\n",
        "    print(\"____________-\")\n",
        "    replica_target = target\n",
        "    replica_target = [np.array(replica_target)]\n",
        "    replica_Target = [n for n in replica_target[0]]\n",
        "    return torch.FloatTensor(replica_Input), torch.FloatTensor(replica_Output), torch.FloatTensor(replica_Target)"
      ]
    },
    {
      "cell_type": "code",
      "execution_count": 5,
      "metadata": {},
      "outputs": [],
      "source": [
        "class Attention(nn.Module):\n",
        "    def __init__(self,Output_size,n_class,hidden_size):\n",
        "        super(Attention, self).__init__()\n",
        "        self.Output_size = Output_size\n",
        "        self.n_hidden = hidden_size\n",
        "        self.n_class = n_class\n",
        "        self.enc_cell = nn.RNN(input_size=self.n_class, hidden_size=self.n_hidden, dropout=0.5)\n",
        "        self.dec_cell = nn.RNN(input_size=self.n_class, hidden_size=self.n_hidden, dropout=0.5)\n",
        "        self.attn = nn.Linear(self.n_hidden, self.n_hidden)\n",
        "        self.pls = None\n",
        "    def forward(self, enc_inputs, hidden, dec_inputs):\n",
        "        # print(\"dec_inputs1\", dec_inputs.shape)\n",
        "        # dec_inputs1 torch.Size([32, 50, 1]) [batchsize, points, num of vars]\n",
        "        enc_inputs = enc_inputs.transpose(0, 1)  # enc_inputs: [n_step(=n_step, time step), batch_size, n_class]\n",
        "        dec_inputs = dec_inputs.transpose(0, 1)  # dec_inputs: [n_step(=n_step, time step), batch_size, n_class]\n",
        "        enc_outputs, enc_hidden = self.enc_cell(enc_inputs, hidden)\n",
        "        trained_attn = []\n",
        "        hidden = enc_hidden\n",
        "        dec_outputs, hidden = self.dec_cell(dec_inputs, hidden)\n",
        "        enc_outputs = enc_outputs.transpose(0, 1)\n",
        "        dec_outputs = dec_outputs.transpose(0, 1)\n",
        "        enc_outputs = self.attn(enc_outputs)\n",
        "        attention_weights = torch.nn.functional.softmax(torch.bmm(dec_outputs, enc_outputs.transpose(1,2)), dim=-1)\n",
        "        context = torch.bmm(attention_weights, enc_outputs)\n",
        "        combine = torch.cat((dec_outputs, context), 2)\n",
        "        combine = combine.view(combine.shape[0], self.Output_size, -1)\n",
        "        if self.pls == None:\n",
        "            self.pls = nn.Linear(combine.shape[2], n_class)\n",
        "        return self.pls(combine), trained_attn\n",
        "\n",
        "    def get_att_weight(self, dec_output, enc_outputs):  # get attention weight one 'dec_output' with 'enc_outputs'\n",
        "        n_step = len(enc_outputs)\n",
        "        attn_scores = torch.zeros(n_step)  # attn_scores : [n_step]\n",
        "\n",
        "        for i in range(n_step):\n",
        "            attn_scores[i] = self.get_att_score(dec_output, enc_outputs[i])\n",
        "\n",
        "        # Normalize scores to weights in range 0 to 1\n",
        "        return F.softmax(attn_scores).view(1, 1, -1)\n",
        "\n",
        "    def get_att_score(self, dec_output, enc_output):  # enc_outputs [batch_size, num_directions(=1) * n_hidden]\n",
        "        score = self.attn(enc_output)  # score : [batch_size, n_hidden]\n",
        "    \n",
        "        return score #torch.dot(dec_output.view(-1), score.view(-1))  # inner product make scalar value"
      ]
    },
    {
      "cell_type": "code",
      "execution_count": 6,
      "metadata": {},
      "outputs": [],
      "source": [
        "from itertools import islice\n",
        "\n",
        "def window1(seq, n=2):\n",
        "    it = iter(seq)\n",
        "    result = tuple(islice(it, n))\n",
        "    if len(result) == n:\n",
        "        yield result\n",
        "    for elem in it:\n",
        "        result = result[1:] + (elem,)\n",
        "        yield result\n",
        "\n",
        "def getBigData(n_company):\n",
        "    stocks = []\n",
        "    NumberOfCompanies = GetNumberOfCompanies()[0][0]\n",
        "    print(\"NumberOfCompanies\", NumberOfCompanies)\n",
        "    if NumberOfCompanies >= n_company:\n",
        "        for stock in GetStocksHourly(n_company):\n",
        "            stocks.append(np.array(stock[:5000]).flatten())\n",
        "    \n",
        "        WindowedStocks = []\n",
        "        for stock in stocks:\n",
        "            WindowedStocks.append(window1(stock, PointSize))\n",
        "\n",
        "        result = []\n",
        "        for window in WindowedStocks:\n",
        "            for i in window:\n",
        "                result.append(i)\n",
        "    else:\n",
        "        result = []\n",
        "        print(\"There are only {NumberOfCompanies} not {n_company} as requested\".format(NumberOfCompanies=NumberOfCompanies, n_company=n_company))\n",
        "\n",
        "    return result\n",
        "\n",
        "def getData():\n",
        "    a = np.array(GetSingleStockDF()[1][:10000]).flatten()\n",
        "    b = np.array(GetSingleStockDF()[0][:10000]).flatten()\n",
        "\n",
        "    bop = [a,b]\n",
        "    result = []\n",
        "    for i in bop:\n",
        "        result.append(window1(i,PointSize))\n",
        "    actual = []\n",
        "    for it in result:\n",
        "        for window in it:\n",
        "            actual.append(window)\n",
        "    return actual\n",
        "# bd = getBigData()\n"
      ]
    },
    {
      "cell_type": "code",
      "execution_count": 10,
      "metadata": {},
      "outputs": [
        {
          "name": "stdout",
          "output_type": "stream",
          "text": [
            "Connection made succ\n",
            "NumberOfCompanies 10\n",
            "Connection made succ\n"
          ]
        },
        {
          "name": "stderr",
          "output_type": "stream",
          "text": [
            "C:\\Users\\Jeppe\\Stonk\\lib\\site-packages\\pandas\\io\\sql.py:761: UserWarning: pandas only support SQLAlchemy connectable(engine/connection) ordatabase string URI or sqlite3 DBAPI2 connectionother DBAPI2 objects are not tested, please consider using SQLAlchemy\n",
            "  warnings.warn(\n",
            "C:\\Users\\Jeppe\\Stonk\\lib\\site-packages\\pandas\\io\\sql.py:761: UserWarning: pandas only support SQLAlchemy connectable(engine/connection) ordatabase string URI or sqlite3 DBAPI2 connectionother DBAPI2 objects are not tested, please consider using SQLAlchemy\n",
            "  warnings.warn(\n",
            "C:\\Users\\Jeppe\\Stonk\\lib\\site-packages\\pandas\\io\\sql.py:761: UserWarning: pandas only support SQLAlchemy connectable(engine/connection) ordatabase string URI or sqlite3 DBAPI2 connectionother DBAPI2 objects are not tested, please consider using SQLAlchemy\n",
            "  warnings.warn(\n",
            "C:\\Users\\Jeppe\\Stonk\\lib\\site-packages\\pandas\\io\\sql.py:761: UserWarning: pandas only support SQLAlchemy connectable(engine/connection) ordatabase string URI or sqlite3 DBAPI2 connectionother DBAPI2 objects are not tested, please consider using SQLAlchemy\n",
            "  warnings.warn(\n",
            "C:\\Users\\Jeppe\\Stonk\\lib\\site-packages\\pandas\\io\\sql.py:761: UserWarning: pandas only support SQLAlchemy connectable(engine/connection) ordatabase string URI or sqlite3 DBAPI2 connectionother DBAPI2 objects are not tested, please consider using SQLAlchemy\n",
            "  warnings.warn(\n",
            "C:\\Users\\Jeppe\\Stonk\\lib\\site-packages\\pandas\\io\\sql.py:761: UserWarning: pandas only support SQLAlchemy connectable(engine/connection) ordatabase string URI or sqlite3 DBAPI2 connectionother DBAPI2 objects are not tested, please consider using SQLAlchemy\n",
            "  warnings.warn(\n",
            "C:\\Users\\Jeppe\\Stonk\\lib\\site-packages\\pandas\\io\\sql.py:761: UserWarning: pandas only support SQLAlchemy connectable(engine/connection) ordatabase string URI or sqlite3 DBAPI2 connectionother DBAPI2 objects are not tested, please consider using SQLAlchemy\n",
            "  warnings.warn(\n",
            "C:\\Users\\Jeppe\\Stonk\\lib\\site-packages\\pandas\\io\\sql.py:761: UserWarning: pandas only support SQLAlchemy connectable(engine/connection) ordatabase string URI or sqlite3 DBAPI2 connectionother DBAPI2 objects are not tested, please consider using SQLAlchemy\n",
            "  warnings.warn(\n",
            "C:\\Users\\Jeppe\\Stonk\\lib\\site-packages\\pandas\\io\\sql.py:761: UserWarning: pandas only support SQLAlchemy connectable(engine/connection) ordatabase string URI or sqlite3 DBAPI2 connectionother DBAPI2 objects are not tested, please consider using SQLAlchemy\n",
            "  warnings.warn(\n",
            "C:\\Users\\Jeppe\\Stonk\\lib\\site-packages\\pandas\\io\\sql.py:761: UserWarning: pandas only support SQLAlchemy connectable(engine/connection) ordatabase string URI or sqlite3 DBAPI2 connectionother DBAPI2 objects are not tested, please consider using SQLAlchemy\n",
            "  warnings.warn(\n"
          ]
        },
        {
          "name": "stdout",
          "output_type": "stream",
          "text": [
            "closingData (36931, 200)\n",
            "Connection made succ\n",
            "NumberOfCompanies 10\n",
            "Connection made succ\n"
          ]
        },
        {
          "name": "stderr",
          "output_type": "stream",
          "text": [
            "C:\\Users\\Jeppe\\Stonk\\lib\\site-packages\\pandas\\io\\sql.py:761: UserWarning: pandas only support SQLAlchemy connectable(engine/connection) ordatabase string URI or sqlite3 DBAPI2 connectionother DBAPI2 objects are not tested, please consider using SQLAlchemy\n",
            "  warnings.warn(\n",
            "C:\\Users\\Jeppe\\Stonk\\lib\\site-packages\\pandas\\io\\sql.py:761: UserWarning: pandas only support SQLAlchemy connectable(engine/connection) ordatabase string URI or sqlite3 DBAPI2 connectionother DBAPI2 objects are not tested, please consider using SQLAlchemy\n",
            "  warnings.warn(\n",
            "C:\\Users\\Jeppe\\Stonk\\lib\\site-packages\\pandas\\io\\sql.py:761: UserWarning: pandas only support SQLAlchemy connectable(engine/connection) ordatabase string URI or sqlite3 DBAPI2 connectionother DBAPI2 objects are not tested, please consider using SQLAlchemy\n",
            "  warnings.warn(\n",
            "C:\\Users\\Jeppe\\Stonk\\lib\\site-packages\\pandas\\io\\sql.py:761: UserWarning: pandas only support SQLAlchemy connectable(engine/connection) ordatabase string URI or sqlite3 DBAPI2 connectionother DBAPI2 objects are not tested, please consider using SQLAlchemy\n",
            "  warnings.warn(\n",
            "C:\\Users\\Jeppe\\Stonk\\lib\\site-packages\\pandas\\io\\sql.py:761: UserWarning: pandas only support SQLAlchemy connectable(engine/connection) ordatabase string URI or sqlite3 DBAPI2 connectionother DBAPI2 objects are not tested, please consider using SQLAlchemy\n",
            "  warnings.warn(\n",
            "C:\\Users\\Jeppe\\Stonk\\lib\\site-packages\\pandas\\io\\sql.py:761: UserWarning: pandas only support SQLAlchemy connectable(engine/connection) ordatabase string URI or sqlite3 DBAPI2 connectionother DBAPI2 objects are not tested, please consider using SQLAlchemy\n",
            "  warnings.warn(\n",
            "C:\\Users\\Jeppe\\Stonk\\lib\\site-packages\\pandas\\io\\sql.py:761: UserWarning: pandas only support SQLAlchemy connectable(engine/connection) ordatabase string URI or sqlite3 DBAPI2 connectionother DBAPI2 objects are not tested, please consider using SQLAlchemy\n",
            "  warnings.warn(\n",
            "C:\\Users\\Jeppe\\Stonk\\lib\\site-packages\\pandas\\io\\sql.py:761: UserWarning: pandas only support SQLAlchemy connectable(engine/connection) ordatabase string URI or sqlite3 DBAPI2 connectionother DBAPI2 objects are not tested, please consider using SQLAlchemy\n",
            "  warnings.warn(\n",
            "C:\\Users\\Jeppe\\Stonk\\lib\\site-packages\\pandas\\io\\sql.py:761: UserWarning: pandas only support SQLAlchemy connectable(engine/connection) ordatabase string URI or sqlite3 DBAPI2 connectionother DBAPI2 objects are not tested, please consider using SQLAlchemy\n",
            "  warnings.warn(\n",
            "C:\\Users\\Jeppe\\Stonk\\lib\\site-packages\\pandas\\io\\sql.py:761: UserWarning: pandas only support SQLAlchemy connectable(engine/connection) ordatabase string URI or sqlite3 DBAPI2 connectionother DBAPI2 objects are not tested, please consider using SQLAlchemy\n",
            "  warnings.warn(\n"
          ]
        }
      ],
      "source": [
        "closingoriginData = np.array(getBigData(10))\n",
        "closingData = (closingoriginData - closingoriginData.mean()) / closingoriginData.std()\n",
        "print(\"closingData\", closingData.shape)\n",
        "openData = np.array(getBigData(10))\n",
        "openData = (openData - openData.mean()) / openData.std()"
      ]
    },
    {
      "cell_type": "code",
      "execution_count": 12,
      "metadata": {},
      "outputs": [
        {
          "data": {
            "text/plain": [
              "(array([[4832. , 4866. , 4956. , ..., 6295. , 6320. , 6285. ],\n",
              "        [4866. , 4956. , 4924. , ..., 6320. , 6285. , 6165. ],\n",
              "        [4956. , 4924. , 4934. , ..., 6285. , 6165. , 6130. ],\n",
              "        ...,\n",
              "        [ 670.4,  681.6,  677.6, ...,  779.4,  775.2,  777. ],\n",
              "        [ 681.6,  677.6,  682.6, ...,  775.2,  777. ,  780.8],\n",
              "        [ 677.6,  682.6,  685.8, ...,  777. ,  780.8,  793.4]]),\n",
              " (36931, 200))"
            ]
          },
          "execution_count": 12,
          "metadata": {},
          "output_type": "execute_result"
        }
      ],
      "source": [
        "closingoriginData, closingoriginData.shape"
      ]
    },
    {
      "cell_type": "markdown",
      "metadata": {},
      "source": []
    },
    {
      "cell_type": "code",
      "execution_count": null,
      "metadata": {},
      "outputs": [],
      "source": [
        "closing = closingData.reshape(closingData.shape[0], closingData.shape[1],1)\n",
        "opens = openData.reshape(openData.shape[0], openData.shape[1],1)\n",
        "data = torch.concat((torch.FloatTensor(closing), torch.FloatTensor(opens)), 2)\n",
        "Output_size = 10\n",
        "train = np.array([np.array(d[:PointSize-Output_size]) for d in data])\n",
        "target = np.array([np.array(d[PointSize-Output_size:]) for d in data])"
      ]
    },
    {
      "cell_type": "code",
      "execution_count": 9,
      "metadata": {},
      "outputs": [
        {
          "ename": "NameError",
          "evalue": "name 'train' is not defined",
          "output_type": "error",
          "traceback": [
            "\u001b[1;31m---------------------------------------------------------------------------\u001b[0m",
            "\u001b[1;31mNameError\u001b[0m                                 Traceback (most recent call last)",
            "\u001b[1;32mc:\\Users\\Jeppe\\Documents\\GitHub\\BiksStonks\\Forcasting_Models\\LSTM\\Seq2Seq(Attention).ipynb Cell 8'\u001b[0m in \u001b[0;36m<cell line: 1>\u001b[1;34m()\u001b[0m\n\u001b[0;32m      <a href='vscode-notebook-cell:/c%3A/Users/Jeppe/Documents/GitHub/BiksStonks/Forcasting_Models/LSTM/Seq2Seq%28Attention%29.ipynb#ch0000007?line=6'>7</a>\u001b[0m batch_size \u001b[39m=\u001b[39m \u001b[39m32\u001b[39m\n\u001b[0;32m      <a href='vscode-notebook-cell:/c%3A/Users/Jeppe/Documents/GitHub/BiksStonks/Forcasting_Models/LSTM/Seq2Seq%28Attention%29.ipynb#ch0000007?line=7'>8</a>\u001b[0m num_layers \u001b[39m=\u001b[39m \u001b[39m1\u001b[39m\n\u001b[1;32m----> <a href='vscode-notebook-cell:/c%3A/Users/Jeppe/Documents/GitHub/BiksStonks/Forcasting_Models/LSTM/Seq2Seq%28Attention%29.ipynb#ch0000007?line=8'>9</a>\u001b[0m trainer \u001b[39m=\u001b[39m torch\u001b[39m.\u001b[39mfrom_numpy(train)\u001b[39m.\u001b[39mfloat()\n\u001b[0;32m     <a href='vscode-notebook-cell:/c%3A/Users/Jeppe/Documents/GitHub/BiksStonks/Forcasting_Models/LSTM/Seq2Seq%28Attention%29.ipynb#ch0000007?line=9'>10</a>\u001b[0m targeter \u001b[39m=\u001b[39m torch\u001b[39m.\u001b[39mfrom_numpy(target)\u001b[39m.\u001b[39mfloat()\n\u001b[0;32m     <a href='vscode-notebook-cell:/c%3A/Users/Jeppe/Documents/GitHub/BiksStonks/Forcasting_Models/LSTM/Seq2Seq%28Attention%29.ipynb#ch0000007?line=11'>12</a>\u001b[0m dataset \u001b[39m=\u001b[39m torch\u001b[39m.\u001b[39mutils\u001b[39m.\u001b[39mdata\u001b[39m.\u001b[39mTensorDataset(trainer,targeter)\n",
            "\u001b[1;31mNameError\u001b[0m: name 'train' is not defined"
          ]
        }
      ],
      "source": [
        "if __name__ == '__main__':\n",
        "    n_step = 90 # number of cells(= number of Step)\n",
        "    n_hidden = 128 # number of hidden units in one cell\n",
        "    n_class = 2\n",
        "    PointSize = 200\n",
        "    Epoch = 32\n",
        "    batch_size = 32\n",
        "    num_layers = 1\n",
        "    trainer = torch.from_numpy(train).float()\n",
        "    targeter = torch.from_numpy(target).float()\n",
        "\n",
        "    dataset = torch.utils.data.TensorDataset(trainer,targeter)\n",
        "    dtloader = torch.utils.data.DataLoader(dataset,batch_size=batch_size, shuffle=True, drop_last=True)\n",
        "\n",
        "    hidden = torch.zeros(num_layers, batch_size, n_hidden)\n",
        "    model = Attention(Output_size,n_class,n_hidden)\n",
        "    criterion = nn.MSELoss()\n",
        "\n",
        "    optimizer = torch.optim.Adam(model.parameters(), lr=0.001)\n",
        "    # Train\n",
        "    model.train()\n",
        "    for epoch in range(Epoch):\n",
        "        for x, y in dtloader:\n",
        "            optimizer.zero_grad()\n",
        "            if(n_class != 1):\n",
        "                x = x.squeeze(-1)\n",
        "                y = y.squeeze(-1)\n",
        "            else:\n",
        "                x = x.unsqueeze(-1)\n",
        "                y = y.unsqueeze(-1)\n",
        "            output, _ = model(x, hidden, x)\n",
        "            loss = criterion(output, y.squeeze(0))\n",
        "            loss.backward()\n",
        "            optimizer.step()\n",
        "\n",
        "        if (epoch + 1) % 5 == 0:\n",
        "            print('Epoch:', '%04d' % (epoch + 1), 'MSE =', '{:.6f}'.format(loss))"
      ]
    },
    {
      "cell_type": "code",
      "execution_count": null,
      "metadata": {},
      "outputs": [
        {
          "name": "stdout",
          "output_type": "stream",
          "text": [
            "groundTruth [0.9341663122177124, 0.9374664425849915, 0.9457166790962219, 0.9490167498588562, 0.9745924472808838, 0.960567057132721, 0.9721173644065857, 0.963042140007019, 0.9754174947738647, 0.9811926484107971, 0.9853177666664124, 0.978717565536499, 0.9737673997879028, 0.9721173644065857, 0.9688172936439514, 0.9679922461509705, 0.9745924472808838, 0.9861427545547485, 0.9886178374290466, 0.9993431568145752, 0.9795425534248352, 0.9836676716804504, 0.9844927191734314, 0.9622170925140381, 0.9399414658546448, 0.9316912889480591, 0.9300411939620972, 0.9143657684326172, 0.94406658411026, 0.9341663122177124, 0.9267411231994629, 0.9308662414550781, 0.9366413950920105, 0.9366413950920105, 0.9374664425849915, 0.9341663122177124, 0.913540780544281, 0.929216206073761, 0.9325162768363953, 0.9184908866882324, 0.9168408513069153, 0.9201409220695496, 0.9193159341812134, 0.9094156622886658, 0.9193159341812134, 0.9234410524368286, 0.9267411231994629, 0.9242660403251648, 0.9201409220695496, 0.9168408513069153, 0.9193159341812134, 0.9275661706924438, 0.9308662414550781, 0.9300411939620972, 0.9341663122177124, 0.9325162768363953, 0.9333413243293762, 0.929216206073761, 0.92839115858078, 0.94406658411026, 0.9308662414550781, 0.929216206073761, 0.92839115858078, 0.9259160757064819, 0.9242660403251648, 0.9250910878181458, 0.9259160757064819, 0.9151908159255981, 0.8887900710105896, 0.8813648819923401, 0.8755897283554077, 0.8656894564628601, 0.8698145747184753, 0.878889799118042, 0.8722895979881287, 0.8615643382072449, 0.9193159341812134, 0.9226160049438477, 0.9300411939620972, 0.9234410524368286, 0.9143657684326172, 0.9143657684326172, 0.9110656976699829, 0.9333413243293762, 0.9457166790962219, 0.9481917023658752, 0.9531418681144714, 0.9473667144775391, 0.9514918327331543, 0.9547919034957886, 0.9646921753883362, 0.9539668560028076, 0.9325162768363953, 0.9325162768363953, 0.9316912889480591, 0.9333413243293762, 0.9250910878181458, 0.9201409220695496, 0.9226160049438477, 0.913540780544281, 0.9391164779663086, 0.9506667852401733, 0.9424165487289429, 0.9250910878181458, 0.9325162768363953, 0.9399414658546448, 0.9407665133476257, 0.9457166790962219, 0.960567057132721, 0.9547919034957886, 0.960567057132721, 0.963042140007019, 0.9622170925140381, 0.960567057132721, 0.9514918327331543, 0.9539668560028076, 0.9828426837921143, 0.9894428849220276, 0.9811926484107971, 0.9853177666664124, 0.9861427545547485, 0.9853177666664124, 0.9910929203033447, 0.993567943572998, 0.9754174947738647, 0.9754174947738647, 0.9844927191734314, 0.9853177666664124, 0.9869678020477295, 0.9861427545547485, 0.994392991065979, 1.0001682043075562, 1.0141935348510742, 1.008418321609497, 1.0191437005996704, 1.0273939371109009, 1.0298689603805542, 1.0273939371109009, 1.0199687480926514, 1.0224437713623047, 1.0059432983398438, 1.0051182508468628, 0.9976930618286133, 1.0009931325912476, 0.9927429556846619, 0.9795425534248352, 0.9869678020477295, 0.9861427545547485, 1.0042933225631714, 1.0034682750701904, 1.0059432983398438, 1.0042933225631714, 1.0059432983398438, 1.0075933933258057, 1.0075933933258057, 1.01089346408844, 1.0034682750701904, 0.9927429556846619, 0.994392991065979, 0.9910929203033447, 0.9910929203033447, 0.9902678728103638, 0.9976930618286133, 1.0059432983398438, 1.0174936056137085, 1.0207936763763428, 1.0191437005996704, 1.0183186531066895, 1.0273939371109009, 1.0298689603805542, 1.0339940786361694, 1.0521445274353027, 1.0422443151474, 1.0323439836502075, 1.0331690311431885, 1.0290439128875732, 1.0331690311431885, 1.0298689603805542, 1.0282189846038818, 1.0372941493988037, 1.0372941493988037, 1.0331690311431885, 1.0430693626403809, 1.0447193384170532, 1.0463694334030151, 1.0422443151474, 1.0438944101333618, 1.048019528388977, 1.0645198822021484, 1.0645198822021484]\n"
          ]
        }
      ],
      "source": [
        "input_batch.squeeze(-1).shape, output_batch.shape, target_batch.shape\n",
        "stuff = input_batch.squeeze(-1)\n",
        "idx = 900\n",
        "#print(\"stuff\", stuff[idx])\n",
        "groundTruth = [float(x[0]) for x in stuff[idx]]\n",
        "print(\"groundTruth\", groundTruth)"
      ]
    },
    {
      "cell_type": "code",
      "execution_count": null,
      "metadata": {},
      "outputs": [
        {
          "ename": "TypeError",
          "evalue": "only integer tensors of a single element can be converted to an index",
          "output_type": "error",
          "traceback": [
            "\u001b[1;31m---------------------------------------------------------------------------\u001b[0m",
            "\u001b[1;31mTypeError\u001b[0m                                 Traceback (most recent call last)",
            "\u001b[1;32mc:\\Users\\Jeppe\\Documents\\GitHub\\BiksStonks\\Forcasting_Models\\LSTM\\Seq2Seq(Attention).ipynb Cell 10'\u001b[0m in \u001b[0;36m<cell line: 4>\u001b[1;34m()\u001b[0m\n\u001b[0;32m      <a href='vscode-notebook-cell:/c%3A/Users/Jeppe/Documents/GitHub/BiksStonks/Forcasting_Models/LSTM/Seq2Seq%28Attention%29.ipynb#ch0000007?line=0'>1</a>\u001b[0m idx \u001b[39m=\u001b[39m \u001b[39m900\u001b[39m\n\u001b[0;32m      <a href='vscode-notebook-cell:/c%3A/Users/Jeppe/Documents/GitHub/BiksStonks/Forcasting_Models/LSTM/Seq2Seq%28Attention%29.ipynb#ch0000007?line=2'>3</a>\u001b[0m \u001b[39m# plot graph\u001b[39;00m\n\u001b[1;32m----> <a href='vscode-notebook-cell:/c%3A/Users/Jeppe/Documents/GitHub/BiksStonks/Forcasting_Models/LSTM/Seq2Seq%28Attention%29.ipynb#ch0000007?line=3'>4</a>\u001b[0m y_ground \u001b[39m=\u001b[39m np\u001b[39m.\u001b[39;49mconcatenate([\u001b[39mfloat\u001b[39;49m(x[\u001b[39m0\u001b[39;49m]) \u001b[39mfor\u001b[39;49;00m x \u001b[39min\u001b[39;49;00m input_batch\u001b[39m.\u001b[39;49msqueeze(\u001b[39m-\u001b[39;49m\u001b[39m1\u001b[39;49m)[idx]], target_batch[idx]\u001b[39m.\u001b[39;49mreshape(\u001b[39m-\u001b[39;49m\u001b[39m1\u001b[39;49m))\n\u001b[0;32m      <a href='vscode-notebook-cell:/c%3A/Users/Jeppe/Documents/GitHub/BiksStonks/Forcasting_Models/LSTM/Seq2Seq%28Attention%29.ipynb#ch0000007?line=4'>5</a>\u001b[0m model\u001b[39m.\u001b[39meval()\n\u001b[0;32m      <a href='vscode-notebook-cell:/c%3A/Users/Jeppe/Documents/GitHub/BiksStonks/Forcasting_Models/LSTM/Seq2Seq%28Attention%29.ipynb#ch0000007?line=5'>6</a>\u001b[0m hidden \u001b[39m=\u001b[39m torch\u001b[39m.\u001b[39mzeros(num_layers, \u001b[39m1\u001b[39m, n_hidden)\n",
            "File \u001b[1;32m<__array_function__ internals>:180\u001b[0m, in \u001b[0;36mconcatenate\u001b[1;34m(*args, **kwargs)\u001b[0m\n",
            "\u001b[1;31mTypeError\u001b[0m: only integer tensors of a single element can be converted to an index"
          ]
        }
      ],
      "source": [
        "idx = 900\n",
        "\n",
        "# plot graph\n",
        "y_ground = np.concatenate((input_batch[idx].reshape(-1), target_batch[idx].reshape(-1)), 0)\n",
        "model.eval()\n",
        "hidden = torch.zeros(num_layers, 1, n_hidden)\n",
        "y_pred = model(input_batch[idx].unsqueeze(0), hidden, input_batch[idx].unsqueeze(0))[0].detach().numpy().reshape(-1) \n",
        "y_pred = np.concatenate((input_batch[idx].reshape(-1), y_pred), 0)\n",
        "\n",
        "# plot graph\n",
        "fig, ax = plt.subplots(1, 1, figsize=(8, 6))\n",
        "ax.plot(y_pred, label='Prediction', c=\"orange\")\n",
        "ax.plot(y_ground, label='Ground Truth')\n",
        "# plt add v line at 50 \n",
        "ax.axvline(PointSize-Output_size, color='green', linestyle='--')\n",
        "ax.legend()\n",
        "plt.show()"
      ]
    },
    {
      "cell_type": "code",
      "execution_count": null,
      "metadata": {},
      "outputs": [],
      "source": []
    },
    {
      "cell_type": "code",
      "execution_count": null,
      "metadata": {},
      "outputs": [
        {
          "name": "stdout",
          "output_type": "stream",
          "text": [
            "Connection made succ\n",
            "[(6043, 'Stock', 'DKK', 'A.P. Møller - Mærsk A A/S', 'CSE', '895', 'DK', '6043', 'Instrument', 'MAERSKa:xcse', 'UNKNOWN'), (6041, 'Stock', 'DKK', 'A.P. Møller - Mærsk B A/S', 'CSE', '895', 'DK', '6041', 'Instrument', 'MAERSKb:xcse', 'UNKNOWN')]\n"
          ]
        },
        {
          "name": "stderr",
          "output_type": "stream",
          "text": [
            "C:\\Users\\Jeppe\\Stonk\\lib\\site-packages\\pandas\\io\\sql.py:761: UserWarning: pandas only support SQLAlchemy connectable(engine/connection) ordatabase string URI or sqlite3 DBAPI2 connectionother DBAPI2 objects are not tested, please consider using SQLAlchemy\n",
            "  warnings.warn(\n",
            "C:\\Users\\Jeppe\\Stonk\\lib\\site-packages\\pandas\\io\\sql.py:761: UserWarning: pandas only support SQLAlchemy connectable(engine/connection) ordatabase string URI or sqlite3 DBAPI2 connectionother DBAPI2 objects are not tested, please consider using SQLAlchemy\n",
            "  warnings.warn(\n"
          ]
        },
        {
          "data": {
            "image/png": "[encoded data removed]",
            "text/plain": [
              "<Figure size 576x432 with 1 Axes>"
            ]
          },
          "metadata": {
            "needs_background": "light"
          },
          "output_type": "display_data"
        }
      ],
      "source": [
        "closingData = GetSingleStockDF()[1][:1000].values\n",
        "# re scale data\n",
        "y_ground = (y_ground * closingData.std()) + closingData.mean()\n",
        "y_pred = (y_pred * closingData.std()) + closingData.mean()\n",
        "# plot graph\n",
        "fig, ax = plt.subplots(1, 1, figsize=(8, 6))\n",
        "ax.plot(y_ground, label='Ground Truth')\n",
        "ax.plot(y_pred, label='Prediction')\n",
        "# plt add v line at 50\n",
        "ax.axvline(90, color='green', linestyle='--')\n",
        "ax.legend()\n",
        "plt.show()"
      ]
    },
    {
      "cell_type": "code",
      "execution_count": null,
      "metadata": {},
      "outputs": [
        {
          "data": {
            "text/plain": [
              "(5571.566, 47794.48764400001)"
            ]
          },
          "execution_count": 10,
          "metadata": {},
          "output_type": "execute_result"
        }
      ],
      "source": [
        "closingData.mean(), closingData.var()\n"
      ]
    },
    {
      "cell_type": "code",
      "execution_count": null,
      "metadata": {},
      "outputs": [
        {
          "name": "stdout",
          "output_type": "stream",
          "text": [
            "Connection made succ\n"
          ]
        },
        {
          "name": "stderr",
          "output_type": "stream",
          "text": [
            "C:\\Users\\Jeppe\\Stonk\\lib\\site-packages\\pandas\\io\\sql.py:761: UserWarning: pandas only support SQLAlchemy connectable(engine/connection) ordatabase string URI or sqlite3 DBAPI2 connectionother DBAPI2 objects are not tested, please consider using SQLAlchemy\n",
            "  warnings.warn(\n",
            "C:\\Users\\Jeppe\\AppData\\Local\\Temp\\ipykernel_26460\\327577449.py:3: FutureWarning: Dropping of nuisance columns in rolling operations is deprecated; in a future version this will raise TypeError. Select only valid columns before calling the operation. Dropped columns were Index(['time'], dtype='object')\n",
            "  data.rolling(window=50).mean()\n"
          ]
        },
        {
          "data": {
            "text/html": [
              "<div>\n",
              "<style scoped>\n",
              "    .dataframe tbody tr th:only-of-type {\n",
              "        vertical-align: middle;\n",
              "    }\n",
              "\n",
              "    .dataframe tbody tr th {\n",
              "        vertical-align: top;\n",
              "    }\n",
              "\n",
              "    .dataframe thead th {\n",
              "        text-align: right;\n",
              "    }\n",
              "</style>\n",
              "<table border=\"1\" class=\"dataframe\">\n",
              "  <thead>\n",
              "    <tr style=\"text-align: right;\">\n",
              "      <th></th>\n",
              "      <th>id</th>\n",
              "      <th>identifier</th>\n",
              "      <th>close</th>\n",
              "      <th>high</th>\n",
              "      <th>interest</th>\n",
              "      <th>low</th>\n",
              "      <th>open</th>\n",
              "      <th>time</th>\n",
              "      <th>volume</th>\n",
              "    </tr>\n",
              "  </thead>\n",
              "  <tbody>\n",
              "    <tr>\n",
              "      <th>0</th>\n",
              "      <td>318285</td>\n",
              "      <td>15611</td>\n",
              "      <td>234.5</td>\n",
              "      <td>236.4</td>\n",
              "      <td>0.0</td>\n",
              "      <td>234.5</td>\n",
              "      <td>236.3</td>\n",
              "      <td>2021-05-18 07:45:00</td>\n",
              "      <td>10963.0</td>\n",
              "    </tr>\n",
              "    <tr>\n",
              "      <th>1</th>\n",
              "      <td>318286</td>\n",
              "      <td>15611</td>\n",
              "      <td>235.4</td>\n",
              "      <td>235.6</td>\n",
              "      <td>0.0</td>\n",
              "      <td>234.6</td>\n",
              "      <td>234.6</td>\n",
              "      <td>2021-05-18 07:46:00</td>\n",
              "      <td>7034.0</td>\n",
              "    </tr>\n",
              "    <tr>\n",
              "      <th>2</th>\n",
              "      <td>318287</td>\n",
              "      <td>15611</td>\n",
              "      <td>235.4</td>\n",
              "      <td>235.5</td>\n",
              "      <td>0.0</td>\n",
              "      <td>235.1</td>\n",
              "      <td>235.5</td>\n",
              "      <td>2021-05-18 07:47:00</td>\n",
              "      <td>4241.0</td>\n",
              "    </tr>\n",
              "    <tr>\n",
              "      <th>3</th>\n",
              "      <td>318288</td>\n",
              "      <td>15611</td>\n",
              "      <td>235.8</td>\n",
              "      <td>235.8</td>\n",
              "      <td>0.0</td>\n",
              "      <td>235.3</td>\n",
              "      <td>235.6</td>\n",
              "      <td>2021-05-18 07:48:00</td>\n",
              "      <td>3131.0</td>\n",
              "    </tr>\n",
              "    <tr>\n",
              "      <th>4</th>\n",
              "      <td>318289</td>\n",
              "      <td>15611</td>\n",
              "      <td>235.7</td>\n",
              "      <td>236.0</td>\n",
              "      <td>0.0</td>\n",
              "      <td>235.5</td>\n",
              "      <td>235.9</td>\n",
              "      <td>2021-05-18 07:49:00</td>\n",
              "      <td>3981.0</td>\n",
              "    </tr>\n",
              "    <tr>\n",
              "      <th>...</th>\n",
              "      <td>...</td>\n",
              "      <td>...</td>\n",
              "      <td>...</td>\n",
              "      <td>...</td>\n",
              "      <td>...</td>\n",
              "      <td>...</td>\n",
              "      <td>...</td>\n",
              "      <td>...</td>\n",
              "      <td>...</td>\n",
              "    </tr>\n",
              "    <tr>\n",
              "      <th>230560</th>\n",
              "      <td>318280</td>\n",
              "      <td>15611</td>\n",
              "      <td>237.9</td>\n",
              "      <td>237.9</td>\n",
              "      <td>0.0</td>\n",
              "      <td>237.4</td>\n",
              "      <td>237.6</td>\n",
              "      <td>2021-05-18 07:40:00</td>\n",
              "      <td>14215.0</td>\n",
              "    </tr>\n",
              "    <tr>\n",
              "      <th>230561</th>\n",
              "      <td>318281</td>\n",
              "      <td>15611</td>\n",
              "      <td>237.6</td>\n",
              "      <td>238.4</td>\n",
              "      <td>0.0</td>\n",
              "      <td>237.5</td>\n",
              "      <td>237.7</td>\n",
              "      <td>2021-05-18 07:41:00</td>\n",
              "      <td>50866.0</td>\n",
              "    </tr>\n",
              "    <tr>\n",
              "      <th>230562</th>\n",
              "      <td>318282</td>\n",
              "      <td>15611</td>\n",
              "      <td>236.2</td>\n",
              "      <td>237.6</td>\n",
              "      <td>0.0</td>\n",
              "      <td>236.0</td>\n",
              "      <td>237.5</td>\n",
              "      <td>2021-05-18 07:42:00</td>\n",
              "      <td>9657.0</td>\n",
              "    </tr>\n",
              "    <tr>\n",
              "      <th>230563</th>\n",
              "      <td>318283</td>\n",
              "      <td>15611</td>\n",
              "      <td>235.8</td>\n",
              "      <td>236.8</td>\n",
              "      <td>0.0</td>\n",
              "      <td>235.6</td>\n",
              "      <td>236.4</td>\n",
              "      <td>2021-05-18 07:43:00</td>\n",
              "      <td>6750.0</td>\n",
              "    </tr>\n",
              "    <tr>\n",
              "      <th>230564</th>\n",
              "      <td>318284</td>\n",
              "      <td>15611</td>\n",
              "      <td>236.3</td>\n",
              "      <td>236.4</td>\n",
              "      <td>0.0</td>\n",
              "      <td>235.5</td>\n",
              "      <td>235.6</td>\n",
              "      <td>2021-05-18 07:44:00</td>\n",
              "      <td>4383.0</td>\n",
              "    </tr>\n",
              "  </tbody>\n",
              "</table>\n",
              "<p>230565 rows × 9 columns</p>\n",
              "</div>"
            ],
            "text/plain": [
              "            id  identifier  close   high  interest    low   open  \\\n",
              "0       318285       15611  234.5  236.4       0.0  234.5  236.3   \n",
              "1       318286       15611  235.4  235.6       0.0  234.6  234.6   \n",
              "2       318287       15611  235.4  235.5       0.0  235.1  235.5   \n",
              "3       318288       15611  235.8  235.8       0.0  235.3  235.6   \n",
              "4       318289       15611  235.7  236.0       0.0  235.5  235.9   \n",
              "...        ...         ...    ...    ...       ...    ...    ...   \n",
              "230560  318280       15611  237.9  237.9       0.0  237.4  237.6   \n",
              "230561  318281       15611  237.6  238.4       0.0  237.5  237.7   \n",
              "230562  318282       15611  236.2  237.6       0.0  236.0  237.5   \n",
              "230563  318283       15611  235.8  236.8       0.0  235.6  236.4   \n",
              "230564  318284       15611  236.3  236.4       0.0  235.5  235.6   \n",
              "\n",
              "                      time   volume  \n",
              "0      2021-05-18 07:45:00  10963.0  \n",
              "1      2021-05-18 07:46:00   7034.0  \n",
              "2      2021-05-18 07:47:00   4241.0  \n",
              "3      2021-05-18 07:48:00   3131.0  \n",
              "4      2021-05-18 07:49:00   3981.0  \n",
              "...                    ...      ...  \n",
              "230560 2021-05-18 07:40:00  14215.0  \n",
              "230561 2021-05-18 07:41:00  50866.0  \n",
              "230562 2021-05-18 07:42:00   9657.0  \n",
              "230563 2021-05-18 07:43:00   6750.0  \n",
              "230564 2021-05-18 07:44:00   4383.0  \n",
              "\n",
              "[230565 rows x 9 columns]"
            ]
          },
          "execution_count": 11,
          "metadata": {},
          "output_type": "execute_result"
        }
      ],
      "source": [
        "# use pandas rolling windows to split up the data\n",
        "data = GetDF()\n",
        "data.rolling(window=50).mean()\n",
        "data"
      ]
    },
    {
      "cell_type": "code",
      "execution_count": null,
      "metadata": {},
      "outputs": [],
      "source": []
    },
    {
      "cell_type": "code",
      "execution_count": null,
      "metadata": {},
      "outputs": [
        {
          "data": {
            "text/plain": [
              "(torch.Size([32, 90, 128]), torch.Size([32, 90, 128]))"
            ]
          },
          "execution_count": 12,
          "metadata": {},
          "output_type": "execute_result"
        }
      ],
      "source": [
        "enc_outputs = torch.rand(n_step, batch_size, n_hidden)\n",
        "dec_outputs = torch.rand(n_step, batch_size, n_hidden)\n",
        "enc_outputs = enc_outputs.transpose(0, 1)\n",
        "dec_outputs = dec_outputs.transpose(0, 1)\n",
        "enc_outputs.shape, dec_outputs.shape"
      ]
    },
    {
      "cell_type": "code",
      "execution_count": null,
      "metadata": {},
      "outputs": [
        {
          "data": {
            "text/plain": [
              "torch.Size([32, 90, 128])"
            ]
          },
          "execution_count": 13,
          "metadata": {},
          "output_type": "execute_result"
        }
      ],
      "source": [
        "enc_outputs = torch.nn.functional.linear(enc_outputs, torch.rand(n_hidden, n_hidden))\n",
        "enc_outputs.shape"
      ]
    },
    {
      "cell_type": "code",
      "execution_count": null,
      "metadata": {},
      "outputs": [
        {
          "data": {
            "text/plain": [
              "(torch.Size([32, 90, 128]), torch.Size([32, 128, 90]))"
            ]
          },
          "execution_count": 14,
          "metadata": {},
          "output_type": "execute_result"
        }
      ],
      "source": [
        "enc_outputs = enc_outputs.transpose(1,2)\n",
        "dec_outputs.shape, enc_outputs.shape"
      ]
    },
    {
      "cell_type": "code",
      "execution_count": null,
      "metadata": {},
      "outputs": [
        {
          "data": {
            "text/plain": [
              "torch.Size([32, 90, 128])"
            ]
          },
          "execution_count": 15,
          "metadata": {},
          "output_type": "execute_result"
        }
      ],
      "source": [
        "attention_weights = torch.nn.functional.softmax(torch.bmm(dec_outputs, enc_outputs), dim=-1)\n",
        "attention_weights.shape, enc_outputs.shape\n",
        "enc_outputs = enc_outputs.transpose(1,2)\n",
        "torch.bmm(attention_weights, enc_outputs).shape"
      ]
    },
    {
      "cell_type": "code",
      "execution_count": null,
      "metadata": {},
      "outputs": [
        {
          "data": {
            "text/plain": [
              "torch.Size([36931, 190, 1, 1])"
            ]
          },
          "execution_count": 16,
          "metadata": {},
          "output_type": "execute_result"
        }
      ],
      "source": [
        "input_batch.unsqueeze(-1).shape"
      ]
    },
    {
      "cell_type": "code",
      "execution_count": null,
      "metadata": {},
      "outputs": [
        {
          "data": {
            "text/plain": [
              "tensor([[[True],\n",
              "         [True],\n",
              "         [True],\n",
              "         ...,\n",
              "         [True],\n",
              "         [True],\n",
              "         [True]],\n",
              "\n",
              "        [[True],\n",
              "         [True],\n",
              "         [True],\n",
              "         ...,\n",
              "         [True],\n",
              "         [True],\n",
              "         [True]],\n",
              "\n",
              "        [[True],\n",
              "         [True],\n",
              "         [True],\n",
              "         ...,\n",
              "         [True],\n",
              "         [True],\n",
              "         [True]],\n",
              "\n",
              "        ...,\n",
              "\n",
              "        [[True],\n",
              "         [True],\n",
              "         [True],\n",
              "         ...,\n",
              "         [True],\n",
              "         [True],\n",
              "         [True]],\n",
              "\n",
              "        [[True],\n",
              "         [True],\n",
              "         [True],\n",
              "         ...,\n",
              "         [True],\n",
              "         [True],\n",
              "         [True]],\n",
              "\n",
              "        [[True],\n",
              "         [True],\n",
              "         [True],\n",
              "         ...,\n",
              "         [True],\n",
              "         [True],\n",
              "         [True]]])"
            ]
          },
          "execution_count": 17,
          "metadata": {},
          "output_type": "execute_result"
        }
      ],
      "source": [
        "output_batch == target_batch"
      ]
    },
    {
      "cell_type": "code",
      "execution_count": null,
      "metadata": {},
      "outputs": [
        {
          "name": "stdout",
          "output_type": "stream",
          "text": [
            "torch.Size([32, 60, 1])\n"
          ]
        }
      ],
      "source": [
        "m = nn.Linear(20, 1)\n",
        "input = torch.randn(32 ,60, 20)\n",
        "output = m(input)\n",
        "print(output.size())\n",
        "        # print(\"dec_outputs: \", dec_outputs.shape)\n",
        "        # print(\"context: \", context.shape)\n",
        "        # dec_outputs:  torch.Size([32, 50, 128])\n",
        "        # context:  torch.Size([32, 50, 128])\n",
        "        # dec_output : batch_size, n_step, n_hidden\n",
        "        # context: batch_size, n_step, n_hidden\n",
        "        # combine: batch_size, n_step, 2 * n_hidden\n",
        "        # output shape [32,50,1]\n",
        "        # Wanted output shape [32,10,1]\n",
        "#the input shape should be [32,50,128] the output shape should be [32,10,1]\n"
      ]
    },
    {
      "cell_type": "code",
      "execution_count": 9,
      "metadata": {},
      "outputs": [
        {
          "name": "stdout",
          "output_type": "stream",
          "text": [
            "365\n",
            "105000.0\n"
          ]
        },
        {
          "ename": "TypeError",
          "evalue": "unsupported operand type(s) for |: 'float' and 'float'",
          "output_type": "error",
          "traceback": [
            "\u001b[1;31m---------------------------------------------------------------------------\u001b[0m",
            "\u001b[1;31mTypeError\u001b[0m                                 Traceback (most recent call last)",
            "\u001b[1;32mc:\\Users\\Jeppe\\Documents\\GitHub\\BiksStonks\\Forcasting_Models\\LSTM\\Seq2Seq(Attention).ipynb Cell 25'\u001b[0m in \u001b[0;36m<cell line: 33>\u001b[1;34m()\u001b[0m\n\u001b[0;32m     <a href='vscode-notebook-cell:/c%3A/Users/Jeppe/Documents/GitHub/BiksStonks/Forcasting_Models/LSTM/Seq2Seq%28Attention%29.ipynb#ch0000024?line=30'>31</a>\u001b[0m \u001b[39mprint\u001b[39m(days_between(from_date, to_date))\n\u001b[0;32m     <a href='vscode-notebook-cell:/c%3A/Users/Jeppe/Documents/GitHub/BiksStonks/Forcasting_Models/LSTM/Seq2Seq%28Attention%29.ipynb#ch0000024?line=31'>32</a>\u001b[0m \u001b[39mprint\u001b[39m(calc_expected_datapoint(days_between(from_date, to_date), \u001b[39m60\u001b[39m))\n\u001b[1;32m---> <a href='vscode-notebook-cell:/c%3A/Users/Jeppe/Documents/GitHub/BiksStonks/Forcasting_Models/LSTM/Seq2Seq%28Attention%29.ipynb#ch0000024?line=32'>33</a>\u001b[0m \u001b[39mprint\u001b[39m(is_there_enough_points(from_date, to_date, \u001b[39m1000\u001b[39;49m, \u001b[39m0.1\u001b[39;49m, \u001b[39m60\u001b[39;49m))\n",
            "\u001b[1;32mc:\\Users\\Jeppe\\Documents\\GitHub\\BiksStonks\\Forcasting_Models\\LSTM\\Seq2Seq(Attention).ipynb Cell 25'\u001b[0m in \u001b[0;36mis_there_enough_points\u001b[1;34m(from_date, to_date, num, tolerance, interval)\u001b[0m\n\u001b[0;32m     <a href='vscode-notebook-cell:/c%3A/Users/Jeppe/Documents/GitHub/BiksStonks/Forcasting_Models/LSTM/Seq2Seq%28Attention%29.ipynb#ch0000024?line=24'>25</a>\u001b[0m days \u001b[39m=\u001b[39m days_between(from_date,to_date)\n\u001b[0;32m     <a href='vscode-notebook-cell:/c%3A/Users/Jeppe/Documents/GitHub/BiksStonks/Forcasting_Models/LSTM/Seq2Seq%28Attention%29.ipynb#ch0000024?line=25'>26</a>\u001b[0m expected_datapoints \u001b[39m=\u001b[39m calc_expected_datapoint(days,interval)\n\u001b[1;32m---> <a href='vscode-notebook-cell:/c%3A/Users/Jeppe/Documents/GitHub/BiksStonks/Forcasting_Models/LSTM/Seq2Seq%28Attention%29.ipynb#ch0000024?line=26'>27</a>\u001b[0m \u001b[39mif\u001b[39;00m(expected_datapoints \u001b[39m>\u001b[39m num\u001b[39m*\u001b[39;49m(\u001b[39m1\u001b[39;49m\u001b[39m+\u001b[39;49mtolerance) \u001b[39m|\u001b[39;49m expected_datapoints \u001b[39m<\u001b[39m num\u001b[39m*\u001b[39m(\u001b[39m1\u001b[39m\u001b[39m-\u001b[39mtolerance)):\n\u001b[0;32m     <a href='vscode-notebook-cell:/c%3A/Users/Jeppe/Documents/GitHub/BiksStonks/Forcasting_Models/LSTM/Seq2Seq%28Attention%29.ipynb#ch0000024?line=27'>28</a>\u001b[0m     \u001b[39mreturn\u001b[39;00m \u001b[39mTrue\u001b[39;00m\n\u001b[0;32m     <a href='vscode-notebook-cell:/c%3A/Users/Jeppe/Documents/GitHub/BiksStonks/Forcasting_Models/LSTM/Seq2Seq%28Attention%29.ipynb#ch0000024?line=28'>29</a>\u001b[0m \u001b[39melse\u001b[39;00m:\n",
            "\u001b[1;31mTypeError\u001b[0m: unsupported operand type(s) for |: 'float' and 'float'"
          ]
        }
      ],
      "source": [
        "from datetime import datetime\n",
        "from_date = \"2020-12-31 00:00:00\"\n",
        "to_date = \"2021-12-31 23:59:59\"\n",
        "\n",
        "FDate = datetime.strptime(from_date, \"%Y-%m-%d %H:%M:%S\")\n",
        "TDate = datetime.strptime(to_date, \"%Y-%m-%d %H:%M:%S\")\n",
        "\n",
        "# day between two datetimes\n",
        "def days_between(d1, d2):\n",
        "    d1 = datetime.strptime(d1, \"%Y-%m-%d %H:%M:%S\")\n",
        "    d2 = datetime.strptime(d2, \"%Y-%m-%d %H:%M:%S\")\n",
        "    return abs((d2 - d1).days)\n",
        "\n",
        "def calc_expected_datapoint(days, interval):\n",
        "    working_days = 250\n",
        "    Total_days = 365\n",
        "    market_open = 9\n",
        "    market_close = 16\n",
        "    HolidayMultiplier = working_days / Total_days\n",
        "    hour_in_day = market_close-market_open\n",
        "    expected_datapoints = (days*HolidayMultiplier) * hour_in_day * interval\n",
        "    return expected_datapoints\n",
        "\n",
        "def is_there_enough_points(from_date,to_date,num,tolerance,interval):\n",
        "    days = days_between(from_date,to_date)\n",
        "    expected_datapoints = calc_expected_datapoint(days,interval)\n",
        "    if(expected_datapoints > num*(1+tolerance) or expected_datapoints < num*(1-tolerance)):\n",
        "        return True\n",
        "    else:\n",
        "        return False\n",
        "print(days_between(from_date, to_date))\n",
        "print(calc_expected_datapoint(days_between(from_date, to_date), 60))\n",
        "print(is_there_enough_points(from_date, to_date, 1000, 0.1, 60))"
      ]
    }
  ],
  "metadata": {
    "anaconda-cloud": {},
    "interpreter": {
      "hash": "d5f817f64297d6161d9a4f0c22466f8c335e5fbf069e9016e16f0d0b5102288b"
    },
    "kernelspec": {
      "display_name": "Python (myenv)",
      "language": "python",
      "name": "python3"
    },
    "language_info": {
      "codemirror_mode": {
        "name": "ipython",
        "version": 3
      },
      "file_extension": ".py",
      "mimetype": "text/x-python",
      "name": "python",
      "nbconvert_exporter": "python",
      "pygments_lexer": "ipython3",
      "version": "3.10.3"
    }
  },
  "nbformat": 4,
  "nbformat_minor": 4
}
