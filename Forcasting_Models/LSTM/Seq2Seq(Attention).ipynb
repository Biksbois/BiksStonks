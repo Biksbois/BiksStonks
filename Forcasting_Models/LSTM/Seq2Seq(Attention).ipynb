{
  "cells": [
    {
      "cell_type": "code",
      "execution_count": 89,
      "metadata": {},
      "outputs": [],
      "source": [
        "import numpy as np\n",
        "import torch\n",
        "import torch.nn as nn\n",
        "import torch.nn.functional as F\n",
        "import matplotlib.pyplot as plt\n",
        "import psycopg2 as pg\n",
        "import pandas as pd\n",
        "import sys\n",
        "import os\n",
        "sys.path.append(os.path.abspath(\"BiksStonks/Forcasting_Models\"))\n",
        "import utils.preprocess as preprocess\n",
        "import utils.DatasetAccess as DatAccess"
      ]
    },
    {
      "cell_type": "code",
      "execution_count": 90,
      "metadata": {},
      "outputs": [
        {
          "name": "stdout",
          "output_type": "stream",
          "text": [
            "Connection made succ\n"
          ]
        },
        {
          "name": "stderr",
          "output_type": "stream",
          "text": [
            "C:\\Users\\Jeppe\\Stonk\\lib\\site-packages\\pandas\\io\\sql.py:761: UserWarning: pandas only support SQLAlchemy connectable(engine/connection) ordatabase string URI or sqlite3 DBAPI2 connectionother DBAPI2 objects are not tested, please consider using SQLAlchemy\n",
            "  warnings.warn(\n",
            "C:\\Users\\Jeppe\\Stonk\\lib\\site-packages\\pandas\\io\\sql.py:761: UserWarning: pandas only support SQLAlchemy connectable(engine/connection) ordatabase string URI or sqlite3 DBAPI2 connectionother DBAPI2 objects are not tested, please consider using SQLAlchemy\n",
            "  warnings.warn(\n",
            "C:\\Users\\Jeppe\\Stonk\\lib\\site-packages\\pandas\\io\\sql.py:761: UserWarning: pandas only support SQLAlchemy connectable(engine/connection) ordatabase string URI or sqlite3 DBAPI2 connectionother DBAPI2 objects are not tested, please consider using SQLAlchemy\n",
            "  warnings.warn(\n",
            "C:\\Users\\Jeppe\\Stonk\\lib\\site-packages\\pandas\\io\\sql.py:761: UserWarning: pandas only support SQLAlchemy connectable(engine/connection) ordatabase string URI or sqlite3 DBAPI2 connectionother DBAPI2 objects are not tested, please consider using SQLAlchemy\n",
            "  warnings.warn(\n",
            "C:\\Users\\Jeppe\\Stonk\\lib\\site-packages\\pandas\\io\\sql.py:761: UserWarning: pandas only support SQLAlchemy connectable(engine/connection) ordatabase string URI or sqlite3 DBAPI2 connectionother DBAPI2 objects are not tested, please consider using SQLAlchemy\n",
            "  warnings.warn(\n",
            "C:\\Users\\Jeppe\\Stonk\\lib\\site-packages\\pandas\\io\\sql.py:761: UserWarning: pandas only support SQLAlchemy connectable(engine/connection) ordatabase string URI or sqlite3 DBAPI2 connectionother DBAPI2 objects are not tested, please consider using SQLAlchemy\n",
            "  warnings.warn(\n",
            "C:\\Users\\Jeppe\\Stonk\\lib\\site-packages\\pandas\\io\\sql.py:761: UserWarning: pandas only support SQLAlchemy connectable(engine/connection) ordatabase string URI or sqlite3 DBAPI2 connectionother DBAPI2 objects are not tested, please consider using SQLAlchemy\n",
            "  warnings.warn(\n",
            "C:\\Users\\Jeppe\\Stonk\\lib\\site-packages\\pandas\\io\\sql.py:761: UserWarning: pandas only support SQLAlchemy connectable(engine/connection) ordatabase string URI or sqlite3 DBAPI2 connectionother DBAPI2 objects are not tested, please consider using SQLAlchemy\n",
            "  warnings.warn(\n",
            "C:\\Users\\Jeppe\\Stonk\\lib\\site-packages\\pandas\\io\\sql.py:761: UserWarning: pandas only support SQLAlchemy connectable(engine/connection) ordatabase string URI or sqlite3 DBAPI2 connectionother DBAPI2 objects are not tested, please consider using SQLAlchemy\n",
            "  warnings.warn(\n",
            "C:\\Users\\Jeppe\\Stonk\\lib\\site-packages\\pandas\\io\\sql.py:761: UserWarning: pandas only support SQLAlchemy connectable(engine/connection) ordatabase string URI or sqlite3 DBAPI2 connectionother DBAPI2 objects are not tested, please consider using SQLAlchemy\n",
            "  warnings.warn(\n"
          ]
        }
      ],
      "source": [
        "# code by Tae Hwan Jung @graykode\n",
        "# Reference : https://github.com/hunkim/PyTorchZeroToAll/blob/master/14_2_seq2seq_att.py\n",
        "\n",
        "\n",
        "# S: Symbol that shows starting of decoding input\n",
        "# E: Symbol that shows starting of decoding output\n",
        "# P: Symbol that will fill in blank sequence if current batch data size is short than time steps\n",
        "class DatabaseConnection:\n",
        "    def __init__(self):\n",
        "        self.conn = self.connect()\n",
        "    def connect(self):\n",
        "        try:\n",
        "            self.conn = pg.connect(\n",
        "                \"dbname='stonksdb' user='postgres' host='localhost' password='admin'\")\n",
        "            print(\"Connection made succ\")\n",
        "            return self.conn\n",
        "        except:\n",
        "            print(\"I am unable to connect to the database\")\n",
        "            return None\n",
        "    def close(self):\n",
        "        self.conn.close()\n",
        "    \n",
        "    def GetConnector(self):\n",
        "        return self.conn\n",
        "    ### send query to database\n",
        "    def query(self, query):\n",
        "        cur = self.conn.cursor()\n",
        "        cur.execute(query)\n",
        "        return cur.fetchall()\n",
        "\n",
        "class DatasetAccess:\n",
        "    def __init__(self):\n",
        "        self.conn = DatabaseConnection()\n",
        "    def getNcompanies(self, N):\n",
        "        AllCompanies = self.conn.query(\"SELECT * FROM dataset limit \"+ str(N)+\"\")\n",
        "        return AllCompanies\n",
        "    def getStockFromSymbol(self, StockSymbol, column = '*'):\n",
        "        company = self.conn.query(\"SELECT * FROM dataset WHERE symbol = '\" + StockSymbol + \"'\")\n",
        "        self.getStockFromCompany(company, column)\n",
        "        return company\n",
        "    def getStockFromCompany(self, companies, column = '*'):\n",
        "        result = []\n",
        "        for company in companies:\n",
        "            result.append(self.conn.query(\"SELECT \"+self.convertListToString(column)+\" FROM stock WHERE identifier = '\" + str(company[0]) + \"'\"))\n",
        "        return result\n",
        "    def convertListToString(self, column):\n",
        "        if type(column) != list:\n",
        "            return column\n",
        "        result = ''\n",
        "        for item in column:\n",
        "            result += item + ', '\n",
        "        return result[:-2]\n",
        "    def getStockDFFromCompany(self, companies, column = '*'):\n",
        "        result = []\n",
        "        print(companies)\n",
        "        for company in companies:\n",
        "            result.append(pd.read_sql(\"SELECT \"+self.convertListToString(column)+\" FROM stock WHERE identifier = '\" + str(company[0]) + \"' order by time asc\", self.conn.GetConnector()))\n",
        "        return result\n",
        "    def GetAllStocksAsDF(self):\n",
        "        PandaStock = pd.read_sql('SELECT * FROM stock', self.conn.GetConnector())\n",
        "        print(PandaStock)\n",
        "    \n",
        "def GetDF():\n",
        "    dbaccess = DatasetAccess()\n",
        "    vestas = pd.read_sql(\"select * from stock where identifier = 15611 \", dbaccess.conn.GetConnector())\n",
        "    return vestas\n",
        "\n",
        "def GetSingleStockDF():\n",
        "    dbAccess = DatasetAccess()\n",
        "    comp = dbAccess.getNcompanies(2)\n",
        "    return dbAccess.getStockDFFromCompany(comp, column=\"close\")\n",
        "\n",
        "def GetStocks(n):\n",
        "    dbAccess = DatasetAccess()\n",
        "    comp = dbAccess.getNcompanies(n)\n",
        "    return dbAccess.getStockDFFromCompany(comp, column=\"close\")\n",
        "\n",
        "def GetStocksHourly(n):\n",
        "    dbAccess = DatasetAccess()\n",
        "    comps = dbAccess.getNcompanies(n)\n",
        "    result = []\n",
        "    for comp in comps:\n",
        "        result.append(DatAccess.get_data_for_datasetid(str(comp[0]),dbAccess.conn.GetConnector(),\"h\")[\"close\"])\n",
        "    return result\n",
        "test = GetStocksHourly(10)"
      ]
    },
    {
      "cell_type": "code",
      "execution_count": 91,
      "metadata": {},
      "outputs": [
        {
          "data": {
            "text/plain": [
              "[0        4832.0\n",
              " 1        4866.0\n",
              " 2        4956.0\n",
              " 3        4924.0\n",
              " 4        4934.0\n",
              "          ...   \n",
              " 4004    21640.0\n",
              " 4005    21760.0\n",
              " 4006    21760.0\n",
              " 4007    21500.0\n",
              " 4008    21560.0\n",
              " Name: close, Length: 4009, dtype: float64,\n",
              " 0        5200.0\n",
              " 1        5264.0\n",
              " 2        5344.0\n",
              " 3        5296.0\n",
              " 4        5304.0\n",
              "          ...   \n",
              " 4005    22340.0\n",
              " 4006    22460.0\n",
              " 4007    22520.0\n",
              " 4008    22170.0\n",
              " 4009    22330.0\n",
              " Name: close, Length: 4010, dtype: float64,\n",
              " 0       168.80\n",
              " 1       167.85\n",
              " 2       168.65\n",
              " 3       167.50\n",
              " 4       167.95\n",
              "          ...  \n",
              " 4003     96.84\n",
              " 4004     97.62\n",
              " 4005     97.36\n",
              " 4006     95.72\n",
              " 4007     96.30\n",
              " Name: close, Length: 4008, dtype: float64,\n",
              " 0       110.00\n",
              " 1       112.25\n",
              " 2       110.65\n",
              " 3       109.45\n",
              " 4       109.90\n",
              "          ...  \n",
              " 4003    167.00\n",
              " 4004    167.40\n",
              " 4005    169.55\n",
              " 4006    168.30\n",
              " 4007    166.80\n",
              " Name: close, Length: 4008, dtype: float64,\n",
              " 0        72.46\n",
              " 1        73.36\n",
              " 2        72.88\n",
              " 3        74.38\n",
              " 4        74.20\n",
              "          ...  \n",
              " 4004    114.15\n",
              " 4005    115.25\n",
              " 4006    114.95\n",
              " 4007    114.60\n",
              " 4008    114.35\n",
              " Name: close, Length: 4009, dtype: float64,\n",
              " 0        512.4\n",
              " 1        510.4\n",
              " 2        513.0\n",
              " 3        513.0\n",
              " 4        518.6\n",
              "          ...  \n",
              " 4004    1321.0\n",
              " 4005    1313.5\n",
              " 4006    1312.0\n",
              " 4007    1301.0\n",
              " 4008    1304.5\n",
              " Name: close, Length: 4009, dtype: float64,\n",
              " 0       357.40\n",
              " 1       356.85\n",
              " 2       359.80\n",
              " 3       358.95\n",
              " 4       358.25\n",
              "          ...  \n",
              " 4004    739.20\n",
              " 4005    741.40\n",
              " 4006    744.90\n",
              " 4007    747.00\n",
              " 4008    741.40\n",
              " Name: close, Length: 4009, dtype: float64,\n",
              " 0       1.5657\n",
              " 1       1.5842\n",
              " 2       1.5895\n",
              " 3       1.5855\n",
              " 4       1.6159\n",
              "          ...  \n",
              " 4004    0.6590\n",
              " 4005    0.6720\n",
              " 4006    0.6690\n",
              " 4007    0.6620\n",
              " 4008    0.6672\n",
              " Name: close, Length: 4009, dtype: float64,\n",
              " 0       108.04\n",
              " 1       108.48\n",
              " 2       106.24\n",
              " 3       107.80\n",
              " 4       107.28\n",
              "          ...  \n",
              " 4004    204.10\n",
              " 4005    211.40\n",
              " 4006    211.40\n",
              " 4007    210.90\n",
              " 4008    210.20\n",
              " Name: close, Length: 4009, dtype: float64,\n",
              " 0       982.4\n",
              " 1       981.4\n",
              " 2       977.8\n",
              " 3       974.2\n",
              " 4       975.4\n",
              "         ...  \n",
              " 2836    779.4\n",
              " 2837    775.2\n",
              " 2838    777.0\n",
              " 2839    780.8\n",
              " 2840    793.4\n",
              " Name: close, Length: 2841, dtype: float64]"
            ]
          },
          "execution_count": 91,
          "metadata": {},
          "output_type": "execute_result"
        }
      ],
      "source": [
        "test"
      ]
    },
    {
      "cell_type": "code",
      "execution_count": 109,
      "metadata": {},
      "outputs": [],
      "source": [
        "def make_batch():\n",
        "    replica_input = train\n",
        "    replica_input = [np.array(replica_input)]\n",
        "    replica_Input = [n for n in replica_input[0]]\n",
        "    print(\"____________-\")\n",
        "    replica_output = target\n",
        "    replica_output = [np.array(replica_output)]\n",
        "    replica_Output = [n for n in replica_output[0]]\n",
        "    print(\"____________-\")\n",
        "    replica_target = target\n",
        "    replica_target = [np.array(replica_target)]\n",
        "    replica_Target = [n for n in replica_target[0]]\n",
        "    \n",
        "    #input_batch = [np.eye(n_class)[[word_dict[n] for n in sentences[0].split()]]] # takes the number and one hot encodes it\n",
        "    #print(input_batch)\n",
        "    #print(replica_Output)\n",
        "    #output_batch = [np.eye(n_class)[[word_dict[n] for n in sentences[1].split()]]] # takes the number and one hot encodes it\n",
        "    #target_batch = [[word_dict[n] for n in sentences[2].split()]] # takes the number\n",
        "    # print(input_batch)\n",
        "    # print([np.array([replica_input])])\n",
        "    # make tensor\n",
        "    # return torch.FloatTensor(input_batch), torch.FloatTensor(output_batch), torch.LongTensor(target_batch)\n",
        "    return torch.FloatTensor(replica_Input), torch.FloatTensor(replica_Output), torch.FloatTensor(replica_Target)"
      ]
    },
    {
      "cell_type": "code",
      "execution_count": 93,
      "metadata": {},
      "outputs": [],
      "source": [
        "class Attention(nn.Module):\n",
        "    def __init__(self):\n",
        "        super(Attention, self).__init__()\n",
        "        self.enc_cell = nn.RNN(input_size=n_class, hidden_size=n_hidden, dropout=0.5)\n",
        "        self.dec_cell = nn.RNN(input_size=n_class, hidden_size=n_hidden, dropout=0.5)\n",
        "\n",
        "        # Linear for attention\n",
        "        self.attn = nn.Linear(n_hidden, n_hidden)\n",
        "        self.out = nn.Linear(n_hidden * 2, n_class)\n",
        "    def forward(self, enc_inputs, hidden, dec_inputs):\n",
        "        enc_inputs = enc_inputs.transpose(0, 1)  # enc_inputs: [n_step(=n_step, time step), batch_size, n_class]\n",
        "        dec_inputs = dec_inputs.transpose(0, 1)  # dec_inputs: [n_step(=n_step, time step), batch_size, n_class]\n",
        "        enc_outputs, enc_hidden = self.enc_cell(enc_inputs, hidden)\n",
        "\n",
        "        trained_attn = []\n",
        "        hidden = enc_hidden\n",
        "        n_step = len(dec_inputs)\n",
        "        model = torch.empty([n_step, 1, n_class])\n",
        "        dec_outputs, hidden = self.dec_cell(dec_inputs, hidden)\n",
        "\n",
        "        enc_outputs = enc_outputs.transpose(0, 1)\n",
        "        dec_outputs = dec_outputs.transpose(0, 1)\n",
        "        enc_outputs = self.attn(enc_outputs)\n",
        "\n",
        "        attention_weights = torch.nn.functional.softmax(torch.bmm(dec_outputs, enc_outputs.transpose(1,2)), dim=-1)\n",
        "        context = torch.bmm(attention_weights, enc_outputs)\n",
        "        # print(\"dec_outputs: \", dec_outputs.shape)\n",
        "        # print(\"context: \", context.shape)\n",
        "        # dec_outputs:  torch.Size([32, 50, 128])\n",
        "        # context:  torch.Size([32, 50, 128])\n",
        "\n",
        "\n",
        "        # dec_output : batch_size, n_step, n_hidden\n",
        "        # context: batch_size, n_step, n_hidden\n",
        "        # combine: batch_size, n_step, 2 * n_hidden\n",
        "        combine = torch.cat((dec_outputs, context), 2) #combine:  torch.Size([32, 50, 256])\n",
        "        #output shape [32,50,1]\n",
        "        #Wanted output shape [32,10,1]\n",
        "        return self.out(combine), trained_attn\n",
        "        # make model shape [n_step, n_class]\n",
        "        #return model.transpose(0, 1).squeeze(0), trained_attn\n",
        "\n",
        "    def get_att_weight(self, dec_output, enc_outputs):  # get attention weight one 'dec_output' with 'enc_outputs'\n",
        "        n_step = len(enc_outputs)\n",
        "        attn_scores = torch.zeros(n_step)  # attn_scores : [n_step]\n",
        "\n",
        "        for i in range(n_step):\n",
        "            attn_scores[i] = self.get_att_score(dec_output, enc_outputs[i])\n",
        "\n",
        "        # Normalize scores to weights in range 0 to 1\n",
        "        return F.softmax(attn_scores).view(1, 1, -1)\n",
        "\n",
        "    def get_att_score(self, dec_output, enc_output):  # enc_outputs [batch_size, num_directions(=1) * n_hidden]\n",
        "        score = self.attn(enc_output)  # score : [batch_size, n_hidden]\n",
        "    \n",
        "        return score #torch.dot(dec_output.view(-1), score.view(-1))  # inner product make scalar value"
      ]
    },
    {
      "cell_type": "code",
      "execution_count": 94,
      "metadata": {},
      "outputs": [
        {
          "name": "stdout",
          "output_type": "stream",
          "text": [
            "Connection made succ\n"
          ]
        },
        {
          "name": "stderr",
          "output_type": "stream",
          "text": [
            "C:\\Users\\Jeppe\\Stonk\\lib\\site-packages\\pandas\\io\\sql.py:761: UserWarning: pandas only support SQLAlchemy connectable(engine/connection) ordatabase string URI or sqlite3 DBAPI2 connectionother DBAPI2 objects are not tested, please consider using SQLAlchemy\n",
            "  warnings.warn(\n",
            "C:\\Users\\Jeppe\\Stonk\\lib\\site-packages\\pandas\\io\\sql.py:761: UserWarning: pandas only support SQLAlchemy connectable(engine/connection) ordatabase string URI or sqlite3 DBAPI2 connectionother DBAPI2 objects are not tested, please consider using SQLAlchemy\n",
            "  warnings.warn(\n",
            "C:\\Users\\Jeppe\\Stonk\\lib\\site-packages\\pandas\\io\\sql.py:761: UserWarning: pandas only support SQLAlchemy connectable(engine/connection) ordatabase string URI or sqlite3 DBAPI2 connectionother DBAPI2 objects are not tested, please consider using SQLAlchemy\n",
            "  warnings.warn(\n",
            "C:\\Users\\Jeppe\\Stonk\\lib\\site-packages\\pandas\\io\\sql.py:761: UserWarning: pandas only support SQLAlchemy connectable(engine/connection) ordatabase string URI or sqlite3 DBAPI2 connectionother DBAPI2 objects are not tested, please consider using SQLAlchemy\n",
            "  warnings.warn(\n",
            "C:\\Users\\Jeppe\\Stonk\\lib\\site-packages\\pandas\\io\\sql.py:761: UserWarning: pandas only support SQLAlchemy connectable(engine/connection) ordatabase string URI or sqlite3 DBAPI2 connectionother DBAPI2 objects are not tested, please consider using SQLAlchemy\n",
            "  warnings.warn(\n",
            "C:\\Users\\Jeppe\\Stonk\\lib\\site-packages\\pandas\\io\\sql.py:761: UserWarning: pandas only support SQLAlchemy connectable(engine/connection) ordatabase string URI or sqlite3 DBAPI2 connectionother DBAPI2 objects are not tested, please consider using SQLAlchemy\n",
            "  warnings.warn(\n",
            "C:\\Users\\Jeppe\\Stonk\\lib\\site-packages\\pandas\\io\\sql.py:761: UserWarning: pandas only support SQLAlchemy connectable(engine/connection) ordatabase string URI or sqlite3 DBAPI2 connectionother DBAPI2 objects are not tested, please consider using SQLAlchemy\n",
            "  warnings.warn(\n",
            "C:\\Users\\Jeppe\\Stonk\\lib\\site-packages\\pandas\\io\\sql.py:761: UserWarning: pandas only support SQLAlchemy connectable(engine/connection) ordatabase string URI or sqlite3 DBAPI2 connectionother DBAPI2 objects are not tested, please consider using SQLAlchemy\n",
            "  warnings.warn(\n",
            "C:\\Users\\Jeppe\\Stonk\\lib\\site-packages\\pandas\\io\\sql.py:761: UserWarning: pandas only support SQLAlchemy connectable(engine/connection) ordatabase string URI or sqlite3 DBAPI2 connectionother DBAPI2 objects are not tested, please consider using SQLAlchemy\n",
            "  warnings.warn(\n",
            "C:\\Users\\Jeppe\\Stonk\\lib\\site-packages\\pandas\\io\\sql.py:761: UserWarning: pandas only support SQLAlchemy connectable(engine/connection) ordatabase string URI or sqlite3 DBAPI2 connectionother DBAPI2 objects are not tested, please consider using SQLAlchemy\n",
            "  warnings.warn(\n"
          ]
        }
      ],
      "source": [
        "from itertools import islice\n",
        "\n",
        "def window1(seq, n=2):\n",
        "    it = iter(seq)\n",
        "    result = tuple(islice(it, n))\n",
        "    if len(result) == n:\n",
        "        yield result\n",
        "    for elem in it:\n",
        "        result = result[1:] + (elem,)\n",
        "        yield result\n",
        "\n",
        "def getBigData():\n",
        "    stocks = []\n",
        "    for stock in GetStocksHourly(10):\n",
        "        stocks.append(np.array(stock[:5000]).flatten())\n",
        "    \n",
        "    WindowedStocks = []\n",
        "    for stock in stocks:\n",
        "        WindowedStocks.append(window1(stock, PointSize))\n",
        "\n",
        "    result = []\n",
        "    for window in WindowedStocks:\n",
        "        for i in window:\n",
        "            result.append(i)\n",
        "\n",
        "    return result\n",
        "\n",
        "def getData():\n",
        "    a = np.array(GetSingleStockDF()[1][:10000]).flatten()\n",
        "    b = np.array(GetSingleStockDF()[0][:10000]).flatten()\n",
        "\n",
        "    bop = [a,b]\n",
        "    result = []\n",
        "    for i in bop:\n",
        "        result.append(window1(i,PointSize))\n",
        "    actual = []\n",
        "    for it in result:\n",
        "        for window in it:\n",
        "            actual.append(window)\n",
        "    return actual\n",
        "bd = getBigData()\n"
      ]
    },
    {
      "cell_type": "code",
      "execution_count": 111,
      "metadata": {},
      "outputs": [
        {
          "name": "stdout",
          "output_type": "stream",
          "text": [
            "Connection made succ\n"
          ]
        },
        {
          "name": "stderr",
          "output_type": "stream",
          "text": [
            "C:\\Users\\Jeppe\\Stonk\\lib\\site-packages\\pandas\\io\\sql.py:761: UserWarning: pandas only support SQLAlchemy connectable(engine/connection) ordatabase string URI or sqlite3 DBAPI2 connectionother DBAPI2 objects are not tested, please consider using SQLAlchemy\n",
            "  warnings.warn(\n",
            "C:\\Users\\Jeppe\\Stonk\\lib\\site-packages\\pandas\\io\\sql.py:761: UserWarning: pandas only support SQLAlchemy connectable(engine/connection) ordatabase string URI or sqlite3 DBAPI2 connectionother DBAPI2 objects are not tested, please consider using SQLAlchemy\n",
            "  warnings.warn(\n",
            "C:\\Users\\Jeppe\\Stonk\\lib\\site-packages\\pandas\\io\\sql.py:761: UserWarning: pandas only support SQLAlchemy connectable(engine/connection) ordatabase string URI or sqlite3 DBAPI2 connectionother DBAPI2 objects are not tested, please consider using SQLAlchemy\n",
            "  warnings.warn(\n",
            "C:\\Users\\Jeppe\\Stonk\\lib\\site-packages\\pandas\\io\\sql.py:761: UserWarning: pandas only support SQLAlchemy connectable(engine/connection) ordatabase string URI or sqlite3 DBAPI2 connectionother DBAPI2 objects are not tested, please consider using SQLAlchemy\n",
            "  warnings.warn(\n",
            "C:\\Users\\Jeppe\\Stonk\\lib\\site-packages\\pandas\\io\\sql.py:761: UserWarning: pandas only support SQLAlchemy connectable(engine/connection) ordatabase string URI or sqlite3 DBAPI2 connectionother DBAPI2 objects are not tested, please consider using SQLAlchemy\n",
            "  warnings.warn(\n",
            "C:\\Users\\Jeppe\\Stonk\\lib\\site-packages\\pandas\\io\\sql.py:761: UserWarning: pandas only support SQLAlchemy connectable(engine/connection) ordatabase string URI or sqlite3 DBAPI2 connectionother DBAPI2 objects are not tested, please consider using SQLAlchemy\n",
            "  warnings.warn(\n",
            "C:\\Users\\Jeppe\\Stonk\\lib\\site-packages\\pandas\\io\\sql.py:761: UserWarning: pandas only support SQLAlchemy connectable(engine/connection) ordatabase string URI or sqlite3 DBAPI2 connectionother DBAPI2 objects are not tested, please consider using SQLAlchemy\n",
            "  warnings.warn(\n",
            "C:\\Users\\Jeppe\\Stonk\\lib\\site-packages\\pandas\\io\\sql.py:761: UserWarning: pandas only support SQLAlchemy connectable(engine/connection) ordatabase string URI or sqlite3 DBAPI2 connectionother DBAPI2 objects are not tested, please consider using SQLAlchemy\n",
            "  warnings.warn(\n",
            "C:\\Users\\Jeppe\\Stonk\\lib\\site-packages\\pandas\\io\\sql.py:761: UserWarning: pandas only support SQLAlchemy connectable(engine/connection) ordatabase string URI or sqlite3 DBAPI2 connectionother DBAPI2 objects are not tested, please consider using SQLAlchemy\n",
            "  warnings.warn(\n",
            "C:\\Users\\Jeppe\\Stonk\\lib\\site-packages\\pandas\\io\\sql.py:761: UserWarning: pandas only support SQLAlchemy connectable(engine/connection) ordatabase string URI or sqlite3 DBAPI2 connectionother DBAPI2 objects are not tested, please consider using SQLAlchemy\n",
            "  warnings.warn(\n",
            "C:\\Users\\Jeppe\\Stonk\\lib\\site-packages\\torch\\nn\\modules\\rnn.py:62: UserWarning: dropout option adds dropout after all but last recurrent layer, so non-zero dropout expects num_layers greater than 1, but got dropout=0.5 and num_layers=1\n",
            "  warnings.warn(\"dropout option adds dropout after all but last \"\n"
          ]
        },
        {
          "name": "stdout",
          "output_type": "stream",
          "text": [
            "____________-\n",
            "____________-\n",
            "Epoch: 0005 MSE = 0.777664\n",
            "Epoch: 0010 MSE = 0.138652\n",
            "Epoch: 0015 MSE = 0.032306\n",
            "Epoch: 0020 MSE = 0.017625\n",
            "Epoch: 0025 MSE = 0.020656\n",
            "Epoch: 0030 MSE = 0.002458\n",
            "Epoch: 0035 MSE = 0.003112\n",
            "Epoch: 0040 MSE = 0.008128\n",
            "Epoch: 0045 MSE = 0.001549\n",
            "Epoch: 0050 MSE = 0.000651\n",
            "Epoch: 0055 MSE = 0.003714\n",
            "Epoch: 0060 MSE = 0.002755\n",
            "Epoch: 0065 MSE = 0.000969\n",
            "Epoch: 0070 MSE = 0.000401\n",
            "Epoch: 0075 MSE = 0.003150\n"
          ]
        }
      ],
      "source": [
        "if __name__ == '__main__':\n",
        "    n_step = 50 # number of cells(= number of Step)\n",
        "    n_hidden = 128 # number of hidden units in one cell\n",
        "    n_class = 1\n",
        "    PointSize = 100\n",
        "    closingData = np.array(getBigData())\n",
        "    closingData = (closingData - closingData.mean()) / closingData.std()\n",
        "    train = [d[:90] for d in closingData]\n",
        "    target = [d[90:] for d in closingData]\n",
        "    dataset_iter = iter(zip(train, target))\n",
        "    batch_size = 32\n",
        "    num_layers = 1\n",
        "\n",
        "    #use pytorch to create the batches\n",
        "    dtloader = torch.utils.data.DataLoader(torch.utils.data.TensorDataset(torch.from_numpy(np.array(train)).float(), torch.from_numpy(np.array(target)).float()),\n",
        "                                           batch_size=batch_size, shuffle=True, drop_last=True)\n",
        "    #dtloader = torch.dataloader((train,target), batch_size=batch_size, shuffle=True)\n",
        "\n",
        "    hidden = torch.zeros(num_layers, batch_size, n_hidden)\n",
        "\n",
        "    model = Attention()\n",
        "    criterion = nn.MSELoss()\n",
        "    optimizer = torch.optim.Adam(model.parameters(), lr=0.001)\n",
        "\n",
        "\n",
        "    input_batch, output_batch, target_batch = make_batch()\n",
        "    output_batch = target_batch\n",
        "    input_batch = input_batch.unsqueeze(-1)\n",
        "    output_batch = output_batch.unsqueeze(-1)\n",
        "    target_batch = target_batch.unsqueeze(-1)    \n",
        "    # Train\n",
        "    model.train()\n",
        "    for epoch in range(200):\n",
        "        for x, y in dtloader:\n",
        "            optimizer.zero_grad()\n",
        "            x = x.unsqueeze(-1)\n",
        "            y = y.unsqueeze(-1)\n",
        "            output, _ = model(x, hidden, y)\n",
        "            #output shape [32,50,1]\n",
        "            #Wanted output shape [32,10,1]\n",
        "            loss = criterion(output, y.squeeze(0))\n",
        "\n",
        "        if (epoch + 1) % 5 == 0:\n",
        "            print('Epoch:', '%04d' % (epoch + 1), 'MSE =', '{:.6f}'.format(loss))\n",
        "\n",
        "        loss.backward()\n",
        "        optimizer.step()\n",
        "    #2m 30 sec for 2000 points\n",
        "    #\n"
      ]
    },
    {
      "cell_type": "code",
      "execution_count": 96,
      "metadata": {},
      "outputs": [
        {
          "data": {
            "text/plain": [
              "(torch.Size([37931, 50, 1]),\n",
              " torch.Size([37931, 50, 1]),\n",
              " torch.Size([37931, 50, 1]))"
            ]
          },
          "execution_count": 96,
          "metadata": {},
          "output_type": "execute_result"
        }
      ],
      "source": [
        "input_batch.shape, output_batch.shape, target_batch.shape"
      ]
    },
    {
      "cell_type": "code",
      "execution_count": 108,
      "metadata": {},
      "outputs": [
        {
          "data": {
            "image/png": "[encoded data removed]",
            "text/plain": [
              "<Figure size 576x432 with 1 Axes>"
            ]
          },
          "metadata": {
            "needs_background": "light"
          },
          "output_type": "display_data"
        }
      ],
      "source": [
        "idx = 260\n",
        "\n",
        "# plot graph\n",
        "y_ground = np.concatenate((input_batch[idx].reshape(-1), target_batch[idx].reshape(-1)), 0)\n",
        "model.eval()\n",
        "hidden = torch.zeros(num_layers, 1, n_hidden)\n",
        "y_pred = model(input_batch[idx].unsqueeze(0), hidden, input_batch[idx].unsqueeze(0))[0].detach().numpy().reshape(-1) \n",
        "y_pred = np.concatenate((input_batch[idx].reshape(-1), y_pred), 0)\n",
        "\n",
        "# plot graph\n",
        "fig, ax = plt.subplots(1, 1, figsize=(8, 6))\n",
        "ax.plot(y_pred, label='Prediction', c=\"orange\")\n",
        "ax.plot(y_ground, label='Ground Truth')\n",
        "# plt add v line at 50 \n",
        "ax.axvline(50, color='green', linestyle='--')\n",
        "ax.legend()\n",
        "plt.show()"
      ]
    },
    {
      "cell_type": "code",
      "execution_count": null,
      "metadata": {},
      "outputs": [],
      "source": []
    },
    {
      "cell_type": "code",
      "execution_count": 98,
      "metadata": {},
      "outputs": [
        {
          "name": "stdout",
          "output_type": "stream",
          "text": [
            "Connection made succ\n",
            "[(6043, 'Stock', 'DKK', 'A.P. Møller - Mærsk A A/S', 'CSE', '895', 'DK', '6043', 'Instrument', 'MAERSKa:xcse', 'UNKNOWN'), (6041, 'Stock', 'DKK', 'A.P. Møller - Mærsk B A/S', 'CSE', '895', 'DK', '6041', 'Instrument', 'MAERSKb:xcse', 'UNKNOWN')]\n"
          ]
        },
        {
          "name": "stderr",
          "output_type": "stream",
          "text": [
            "C:\\Users\\Jeppe\\Stonk\\lib\\site-packages\\pandas\\io\\sql.py:761: UserWarning: pandas only support SQLAlchemy connectable(engine/connection) ordatabase string URI or sqlite3 DBAPI2 connectionother DBAPI2 objects are not tested, please consider using SQLAlchemy\n",
            "  warnings.warn(\n",
            "C:\\Users\\Jeppe\\Stonk\\lib\\site-packages\\pandas\\io\\sql.py:761: UserWarning: pandas only support SQLAlchemy connectable(engine/connection) ordatabase string URI or sqlite3 DBAPI2 connectionother DBAPI2 objects are not tested, please consider using SQLAlchemy\n",
            "  warnings.warn(\n"
          ]
        },
        {
          "data": {
            "image/png": "[encoded data removed]",
            "text/plain": [
              "<Figure size 576x432 with 1 Axes>"
            ]
          },
          "metadata": {
            "needs_background": "light"
          },
          "output_type": "display_data"
        }
      ],
      "source": [
        "closingData = GetSingleStockDF()[1][:1000].values\n",
        "# re scale data\n",
        "y_ground = (y_ground * closingData.std()) + closingData.mean()\n",
        "y_pred = (y_pred * closingData.std()) + closingData.mean()\n",
        "# plot graph\n",
        "fig, ax = plt.subplots(1, 1, figsize=(8, 6))\n",
        "ax.plot(y_ground, label='Ground Truth')\n",
        "ax.plot(y_pred, label='Prediction')\n",
        "# plt add v line at 50\n",
        "ax.axvline(50, color='green', linestyle='--')\n",
        "ax.legend()\n",
        "plt.show()"
      ]
    },
    {
      "cell_type": "code",
      "execution_count": 99,
      "metadata": {},
      "outputs": [
        {
          "data": {
            "text/plain": [
              "(5571.566, 47794.48764400001)"
            ]
          },
          "execution_count": 99,
          "metadata": {},
          "output_type": "execute_result"
        }
      ],
      "source": [
        "closingData.mean(), closingData.var()\n"
      ]
    },
    {
      "cell_type": "code",
      "execution_count": 100,
      "metadata": {},
      "outputs": [
        {
          "name": "stdout",
          "output_type": "stream",
          "text": [
            "Connection made succ\n"
          ]
        },
        {
          "name": "stderr",
          "output_type": "stream",
          "text": [
            "C:\\Users\\Jeppe\\Stonk\\lib\\site-packages\\pandas\\io\\sql.py:761: UserWarning: pandas only support SQLAlchemy connectable(engine/connection) ordatabase string URI or sqlite3 DBAPI2 connectionother DBAPI2 objects are not tested, please consider using SQLAlchemy\n",
            "  warnings.warn(\n",
            "C:\\Users\\Jeppe\\AppData\\Local\\Temp\\ipykernel_12960\\327577449.py:3: FutureWarning: Dropping of nuisance columns in rolling operations is deprecated; in a future version this will raise TypeError. Select only valid columns before calling the operation. Dropped columns were Index(['time'], dtype='object')\n",
            "  data.rolling(window=50).mean()\n"
          ]
        },
        {
          "data": {
            "text/html": [
              "<div>\n",
              "<style scoped>\n",
              "    .dataframe tbody tr th:only-of-type {\n",
              "        vertical-align: middle;\n",
              "    }\n",
              "\n",
              "    .dataframe tbody tr th {\n",
              "        vertical-align: top;\n",
              "    }\n",
              "\n",
              "    .dataframe thead th {\n",
              "        text-align: right;\n",
              "    }\n",
              "</style>\n",
              "<table border=\"1\" class=\"dataframe\">\n",
              "  <thead>\n",
              "    <tr style=\"text-align: right;\">\n",
              "      <th></th>\n",
              "      <th>id</th>\n",
              "      <th>identifier</th>\n",
              "      <th>close</th>\n",
              "      <th>high</th>\n",
              "      <th>interest</th>\n",
              "      <th>low</th>\n",
              "      <th>open</th>\n",
              "      <th>time</th>\n",
              "      <th>volume</th>\n",
              "    </tr>\n",
              "  </thead>\n",
              "  <tbody>\n",
              "    <tr>\n",
              "      <th>0</th>\n",
              "      <td>425587</td>\n",
              "      <td>15611</td>\n",
              "      <td>140.64</td>\n",
              "      <td>140.84</td>\n",
              "      <td>0.0</td>\n",
              "      <td>140.64</td>\n",
              "      <td>140.84</td>\n",
              "      <td>2020-06-10 13:26:00</td>\n",
              "      <td>4444.999934</td>\n",
              "    </tr>\n",
              "    <tr>\n",
              "      <th>1</th>\n",
              "      <td>425588</td>\n",
              "      <td>15611</td>\n",
              "      <td>140.60</td>\n",
              "      <td>140.64</td>\n",
              "      <td>0.0</td>\n",
              "      <td>140.52</td>\n",
              "      <td>140.64</td>\n",
              "      <td>2020-06-10 13:27:00</td>\n",
              "      <td>12884.999808</td>\n",
              "    </tr>\n",
              "    <tr>\n",
              "      <th>2</th>\n",
              "      <td>425589</td>\n",
              "      <td>15611</td>\n",
              "      <td>140.68</td>\n",
              "      <td>140.68</td>\n",
              "      <td>0.0</td>\n",
              "      <td>140.60</td>\n",
              "      <td>140.60</td>\n",
              "      <td>2020-06-10 13:28:00</td>\n",
              "      <td>2354.999965</td>\n",
              "    </tr>\n",
              "    <tr>\n",
              "      <th>3</th>\n",
              "      <td>425590</td>\n",
              "      <td>15611</td>\n",
              "      <td>140.60</td>\n",
              "      <td>140.68</td>\n",
              "      <td>0.0</td>\n",
              "      <td>140.60</td>\n",
              "      <td>140.68</td>\n",
              "      <td>2020-06-10 13:29:00</td>\n",
              "      <td>2034.999970</td>\n",
              "    </tr>\n",
              "    <tr>\n",
              "      <th>4</th>\n",
              "      <td>425591</td>\n",
              "      <td>15611</td>\n",
              "      <td>140.56</td>\n",
              "      <td>140.56</td>\n",
              "      <td>0.0</td>\n",
              "      <td>140.44</td>\n",
              "      <td>140.56</td>\n",
              "      <td>2020-06-10 13:30:00</td>\n",
              "      <td>8044.999880</td>\n",
              "    </tr>\n",
              "    <tr>\n",
              "      <th>...</th>\n",
              "      <td>...</td>\n",
              "      <td>...</td>\n",
              "      <td>...</td>\n",
              "      <td>...</td>\n",
              "      <td>...</td>\n",
              "      <td>...</td>\n",
              "      <td>...</td>\n",
              "      <td>...</td>\n",
              "      <td>...</td>\n",
              "    </tr>\n",
              "    <tr>\n",
              "      <th>230560</th>\n",
              "      <td>424891</td>\n",
              "      <td>15611</td>\n",
              "      <td>133.32</td>\n",
              "      <td>133.60</td>\n",
              "      <td>0.0</td>\n",
              "      <td>133.32</td>\n",
              "      <td>133.60</td>\n",
              "      <td>2020-06-12 12:01:00</td>\n",
              "      <td>14844.999779</td>\n",
              "    </tr>\n",
              "    <tr>\n",
              "      <th>230561</th>\n",
              "      <td>424892</td>\n",
              "      <td>15611</td>\n",
              "      <td>133.32</td>\n",
              "      <td>133.32</td>\n",
              "      <td>0.0</td>\n",
              "      <td>133.32</td>\n",
              "      <td>133.32</td>\n",
              "      <td>2020-06-12 12:02:00</td>\n",
              "      <td>1739.999974</td>\n",
              "    </tr>\n",
              "    <tr>\n",
              "      <th>230562</th>\n",
              "      <td>424893</td>\n",
              "      <td>15611</td>\n",
              "      <td>133.32</td>\n",
              "      <td>133.32</td>\n",
              "      <td>0.0</td>\n",
              "      <td>133.32</td>\n",
              "      <td>133.32</td>\n",
              "      <td>2020-06-12 12:03:00</td>\n",
              "      <td>7259.999892</td>\n",
              "    </tr>\n",
              "    <tr>\n",
              "      <th>230563</th>\n",
              "      <td>424894</td>\n",
              "      <td>15611</td>\n",
              "      <td>133.48</td>\n",
              "      <td>133.48</td>\n",
              "      <td>0.0</td>\n",
              "      <td>133.36</td>\n",
              "      <td>133.36</td>\n",
              "      <td>2020-06-12 12:04:00</td>\n",
              "      <td>3554.999947</td>\n",
              "    </tr>\n",
              "    <tr>\n",
              "      <th>230564</th>\n",
              "      <td>424895</td>\n",
              "      <td>15611</td>\n",
              "      <td>133.44</td>\n",
              "      <td>133.48</td>\n",
              "      <td>0.0</td>\n",
              "      <td>133.44</td>\n",
              "      <td>133.44</td>\n",
              "      <td>2020-06-12 12:05:00</td>\n",
              "      <td>4244.999937</td>\n",
              "    </tr>\n",
              "  </tbody>\n",
              "</table>\n",
              "<p>230565 rows × 9 columns</p>\n",
              "</div>"
            ],
            "text/plain": [
              "            id  identifier   close    high  interest     low    open  \\\n",
              "0       425587       15611  140.64  140.84       0.0  140.64  140.84   \n",
              "1       425588       15611  140.60  140.64       0.0  140.52  140.64   \n",
              "2       425589       15611  140.68  140.68       0.0  140.60  140.60   \n",
              "3       425590       15611  140.60  140.68       0.0  140.60  140.68   \n",
              "4       425591       15611  140.56  140.56       0.0  140.44  140.56   \n",
              "...        ...         ...     ...     ...       ...     ...     ...   \n",
              "230560  424891       15611  133.32  133.60       0.0  133.32  133.60   \n",
              "230561  424892       15611  133.32  133.32       0.0  133.32  133.32   \n",
              "230562  424893       15611  133.32  133.32       0.0  133.32  133.32   \n",
              "230563  424894       15611  133.48  133.48       0.0  133.36  133.36   \n",
              "230564  424895       15611  133.44  133.48       0.0  133.44  133.44   \n",
              "\n",
              "                      time        volume  \n",
              "0      2020-06-10 13:26:00   4444.999934  \n",
              "1      2020-06-10 13:27:00  12884.999808  \n",
              "2      2020-06-10 13:28:00   2354.999965  \n",
              "3      2020-06-10 13:29:00   2034.999970  \n",
              "4      2020-06-10 13:30:00   8044.999880  \n",
              "...                    ...           ...  \n",
              "230560 2020-06-12 12:01:00  14844.999779  \n",
              "230561 2020-06-12 12:02:00   1739.999974  \n",
              "230562 2020-06-12 12:03:00   7259.999892  \n",
              "230563 2020-06-12 12:04:00   3554.999947  \n",
              "230564 2020-06-12 12:05:00   4244.999937  \n",
              "\n",
              "[230565 rows x 9 columns]"
            ]
          },
          "execution_count": 100,
          "metadata": {},
          "output_type": "execute_result"
        }
      ],
      "source": [
        "# use pandas rolling windows to split up the data\n",
        "data = GetDF()\n",
        "data.rolling(window=50).mean()\n",
        "data"
      ]
    },
    {
      "cell_type": "code",
      "execution_count": null,
      "metadata": {},
      "outputs": [],
      "source": []
    },
    {
      "cell_type": "code",
      "execution_count": 101,
      "metadata": {},
      "outputs": [
        {
          "data": {
            "text/plain": [
              "(torch.Size([32, 50, 128]), torch.Size([32, 50, 128]))"
            ]
          },
          "execution_count": 101,
          "metadata": {},
          "output_type": "execute_result"
        }
      ],
      "source": [
        "enc_outputs = torch.rand(n_step, batch_size, n_hidden)\n",
        "dec_outputs = torch.rand(n_step, batch_size, n_hidden)\n",
        "enc_outputs = enc_outputs.transpose(0, 1)\n",
        "dec_outputs = dec_outputs.transpose(0, 1)\n",
        "enc_outputs.shape, dec_outputs.shape"
      ]
    },
    {
      "cell_type": "code",
      "execution_count": 102,
      "metadata": {},
      "outputs": [
        {
          "data": {
            "text/plain": [
              "torch.Size([32, 50, 128])"
            ]
          },
          "execution_count": 102,
          "metadata": {},
          "output_type": "execute_result"
        }
      ],
      "source": [
        "enc_outputs = torch.nn.functional.linear(enc_outputs, torch.rand(n_hidden, n_hidden))\n",
        "enc_outputs.shape"
      ]
    },
    {
      "cell_type": "code",
      "execution_count": 103,
      "metadata": {},
      "outputs": [
        {
          "data": {
            "text/plain": [
              "(torch.Size([32, 50, 128]), torch.Size([32, 128, 50]))"
            ]
          },
          "execution_count": 103,
          "metadata": {},
          "output_type": "execute_result"
        }
      ],
      "source": [
        "enc_outputs = enc_outputs.transpose(1,2)\n",
        "dec_outputs.shape, enc_outputs.shape"
      ]
    },
    {
      "cell_type": "code",
      "execution_count": 104,
      "metadata": {},
      "outputs": [
        {
          "data": {
            "text/plain": [
              "torch.Size([32, 50, 128])"
            ]
          },
          "execution_count": 104,
          "metadata": {},
          "output_type": "execute_result"
        }
      ],
      "source": [
        "attention_weights = torch.nn.functional.softmax(torch.bmm(dec_outputs, enc_outputs), dim=-1)\n",
        "attention_weights.shape, enc_outputs.shape\n",
        "enc_outputs = enc_outputs.transpose(1,2)\n",
        "torch.bmm(attention_weights, enc_outputs).shape"
      ]
    },
    {
      "cell_type": "code",
      "execution_count": 105,
      "metadata": {},
      "outputs": [
        {
          "data": {
            "text/plain": [
              "torch.Size([37931, 50, 1, 1])"
            ]
          },
          "execution_count": 105,
          "metadata": {},
          "output_type": "execute_result"
        }
      ],
      "source": [
        "input_batch.unsqueeze(-1).shape"
      ]
    },
    {
      "cell_type": "code",
      "execution_count": 106,
      "metadata": {},
      "outputs": [
        {
          "data": {
            "text/plain": [
              "tensor([[[True],\n",
              "         [True],\n",
              "         [True],\n",
              "         ...,\n",
              "         [True],\n",
              "         [True],\n",
              "         [True]],\n",
              "\n",
              "        [[True],\n",
              "         [True],\n",
              "         [True],\n",
              "         ...,\n",
              "         [True],\n",
              "         [True],\n",
              "         [True]],\n",
              "\n",
              "        [[True],\n",
              "         [True],\n",
              "         [True],\n",
              "         ...,\n",
              "         [True],\n",
              "         [True],\n",
              "         [True]],\n",
              "\n",
              "        ...,\n",
              "\n",
              "        [[True],\n",
              "         [True],\n",
              "         [True],\n",
              "         ...,\n",
              "         [True],\n",
              "         [True],\n",
              "         [True]],\n",
              "\n",
              "        [[True],\n",
              "         [True],\n",
              "         [True],\n",
              "         ...,\n",
              "         [True],\n",
              "         [True],\n",
              "         [True]],\n",
              "\n",
              "        [[True],\n",
              "         [True],\n",
              "         [True],\n",
              "         ...,\n",
              "         [True],\n",
              "         [True],\n",
              "         [True]]])"
            ]
          },
          "execution_count": 106,
          "metadata": {},
          "output_type": "execute_result"
        }
      ],
      "source": [
        "output_batch == target_batch"
      ]
    },
    {
      "cell_type": "code",
      "execution_count": 107,
      "metadata": {},
      "outputs": [
        {
          "name": "stdout",
          "output_type": "stream",
          "text": [
            "torch.Size([32, 60, 1])\n"
          ]
        }
      ],
      "source": [
        "m = nn.Linear(20, 1)\n",
        "input = torch.randn(32 ,60, 20)\n",
        "output = m(input)\n",
        "print(output.size())\n",
        "        # print(\"dec_outputs: \", dec_outputs.shape)\n",
        "        # print(\"context: \", context.shape)\n",
        "        # dec_outputs:  torch.Size([32, 50, 128])\n",
        "        # context:  torch.Size([32, 50, 128])\n",
        "        # dec_output : batch_size, n_step, n_hidden\n",
        "        # context: batch_size, n_step, n_hidden\n",
        "        # combine: batch_size, n_step, 2 * n_hidden\n",
        "        # output shape [32,50,1]\n",
        "        # Wanted output shape [32,10,1]\n",
        "#the input shape should be [32,50,128] the output shape should be [32,10,1]\n"
      ]
    }
  ],
  "metadata": {
    "anaconda-cloud": {},
    "interpreter": {
      "hash": "d5f817f64297d6161d9a4f0c22466f8c335e5fbf069e9016e16f0d0b5102288b"
    },
    "kernelspec": {
      "display_name": "Python (myenv)",
      "language": "python",
      "name": "python3"
    },
    "language_info": {
      "codemirror_mode": {
        "name": "ipython",
        "version": 3
      },
      "file_extension": ".py",
      "mimetype": "text/x-python",
      "name": "python",
      "nbconvert_exporter": "python",
      "pygments_lexer": "ipython3",
      "version": "3.10.3"
    }
  },
  "nbformat": 4,
  "nbformat_minor": 4
}
