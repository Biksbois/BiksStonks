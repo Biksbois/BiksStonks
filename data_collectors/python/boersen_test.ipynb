{
 "cells": [
  {
   "cell_type": "code",
   "execution_count": 2,
   "metadata": {},
   "outputs": [
    {
     "name": "stderr",
     "output_type": "stream",
     "text": [
      "[nltk_data] Downloading package vader_lexicon to\n",
      "[nltk_data]     C:\\Users\\madsh\\AppData\\Roaming\\nltk_data...\n",
      "[nltk_data]   Package vader_lexicon is already up-to-date!\n"
     ]
    }
   ],
   "source": [
    "from utils.sentiment_analysis import SentimentAnalysis\n",
    "from utils.translator import Translator\n",
    "from utils.scraper import call_url_get_bs4\n",
    "from bs4 import BeautifulSoup\n",
    "from requests.structures import CaseInsensitiveDict\n",
    "import requests\n",
    "import time\n",
    "from datetime import datetime, timedelta"
   ]
  },
  {
   "cell_type": "code",
   "execution_count": 3,
   "metadata": {},
   "outputs": [],
   "source": [
    "cookies = {\n",
    "    \n",
    "}\n",
    "\n",
    "headers = {\n",
    "    \"User-Agent\":\"Mozilla/5.0 (Windows NT 10.0; Win64; x64) AppleWebKit/537.36 (KHTML, like Gecko) Chrome/80.0.3987.122 Safari/537.36\", \n",
    "}"
   ]
  },
  {
   "cell_type": "code",
   "execution_count": 4,
   "metadata": {},
   "outputs": [
    {
     "name": "stderr",
     "output_type": "stream",
     "text": [
      "c:\\Users\\madsh\\OneDrive\\Code\\Python\\BiksStonks\\data_collectors\\python\\env\\lib\\site-packages\\urllib3\\connectionpool.py:1043: InsecureRequestWarning: Unverified HTTPS request is being made to host 'api.borsen.dk'. Adding certificate verification is strongly advised. See: https://urllib3.readthedocs.io/en/1.26.x/advanced-usage.html#ssl-warnings\n",
      "  warnings.warn(\n"
     ]
    }
   ],
   "source": [
    "soup = call_url_get_bs4(f\"https://api.borsen.dk/nyheder/side/1\", cookies=cookies, headers=headers)\n",
    "\n"
   ]
  },
  {
   "cell_type": "code",
   "execution_count": 10,
   "metadata": {},
   "outputs": [
    {
     "name": "stdout",
     "output_type": "stream",
     "text": [
      "https://borsen.dk/nyheder/finans/bankinvest-piller-boreselskab-ud-af-baeredygtig-fond?utm_source=seneste-nyt&utm_medium=row_1&utm_campaign=list_1\n",
      "https://borsen.dk/nyheder/finans/styrelse-opfordrer-banker-til-pristjek?utm_source=seneste-nyt&utm_medium=row_1&utm_campaign=list_2\n",
      "https://borsen.dk/nyheder/udland/dansk-general-putin-sidste-losning-er-at-smadre-ukraine-fordi-hans-haer-med-amatorer-faar-taesk?utm_source=seneste-nyt&utm_medium=row_1&utm_campaign=list_3\n",
      "https://borsen.dk/nyheder/markedsberetninger/aktier-i-europa-hm-og-s4-capital-traekker-ned-i-rodt-europaeisk-marked?utm_source=seneste-nyt&utm_medium=row_1&utm_campaign=list_4\n",
      "https://borsen.dk/nyheder/pleasure/menneskeklog-film-om-sorg-savn-og-kaerlighed?utm_source=seneste-nyt&utm_medium=row_1&utm_campaign=list_5\n",
      "https://borsen.dk/nyheder/baeredygtig/ny-chef-i-nemligcom-skal-saenke-indkobskurvens-fodaftryk?utm_source=seneste-nyt&utm_medium=row_1&utm_campaign=list_6\n",
      "https://borsen.dk/nyheder/politik/forslag-til-dansk-nato-bidrag-kampbataljon-kan-bruges-i-forsvarskamp?utm_source=seneste-nyt&utm_medium=row_1&utm_campaign=list_7\n",
      "https://borsen.dk/nyheder/virksomheder/flying-tiger-kraever-formue-fra-dsv-i-tvist-om-dyrere-fragt?utm_source=seneste-nyt&utm_medium=row_1&utm_campaign=list_8\n",
      "https://borsen.dk/nyheder/pleasure/mellem-klassisk-og-freestyle?utm_source=seneste-nyt&utm_medium=row_1&utm_campaign=list_9\n",
      "https://borsen.dk/nyheder/udland/medier-eu-har-ransaget-gazproms-kontorer-i-berlin?utm_source=seneste-nyt&utm_medium=row_1&utm_campaign=list_10\n",
      "https://borsen.dk/nyheder/politik/wammen-traeder-paa-den-speeder-han-ville-lette-foden-fra?utm_source=seneste-nyt&utm_medium=row_1&utm_campaign=list_11\n",
      "https://borsen.dk/nyheder/virksomheder/selskaber-faar-svaert-ved-at-saelge-aktiver-i-rusland?utm_source=seneste-nyt&utm_medium=row_1&utm_campaign=list_12\n",
      "https://borsen.dk/nyheder/markedsberetninger/aktiestatus-novozymes-til-tops-paa-varslet-prisloft-i-neutralt-c25?utm_source=seneste-nyt&utm_medium=row_1&utm_campaign=list_13\n",
      "https://borsen.dk/ledelse/art/2915520?utm_source=seneste-nyt&utm_medium=row_1&utm_campaign=list_14\n",
      "https://borsen.dk/nyheder/pleasure/ny-superheltefilm-om-vampyrer-gaar-op-i-hat-og-briller?utm_source=seneste-nyt&utm_medium=row_1&utm_campaign=list_15\n",
      "https://borsen.dk/nyheder/opinion/gode-intentioner-helliger-ikke-skadende-midler?utm_source=seneste-nyt&utm_medium=row_1&utm_campaign=list_16\n",
      "https://borsen.dk/nyheder/virksomheder/faengslet-genan-stifter-gaar-konkurs?utm_source=seneste-nyt&utm_medium=row_1&utm_campaign=list_17\n",
      "https://borsen.dk/nyheder/opinion/kunderne-lever-i-2022-men-gor-virksomhederne-nu-ogsaa-det?utm_source=seneste-nyt&utm_medium=row_1&utm_campaign=list_18\n",
      "https://borsen.dk/nyheder/udland/olieprisen-falder-praesident-biden-paa-vej-mod-historisk-aabning-af-usas-olielagre?utm_source=seneste-nyt&utm_medium=row_1&utm_campaign=list_19\n",
      "https://borsen.dk/nyheder/opinion/forbrugere-og-virksomheder-famler-i-blinde-giv-dem-et-klimamaerke?utm_source=seneste-nyt&utm_medium=row_1&utm_campaign=list_20\n",
      "https://borsen.dk/nyheder/virksomheder/daniel-agger-saelger-kloakfirma-til-servicekaempe?utm_source=seneste-nyt&utm_medium=row_1&utm_campaign=list_21\n",
      "https://borsen.dk/nyheder/virksomheder/landbrug-fodevarer-finder-ny-topchef-efter-direktorexit?utm_source=seneste-nyt&utm_medium=row_1&utm_campaign=list_22\n",
      "https://borsen.dk/nyheder/virksomheder/hvad-hvis-kina-invaderer-tawian-danske-topchefer-tvinges-ud-i-politiske-dilemmaer?utm_source=seneste-nyt&utm_medium=row_1&utm_campaign=list_23\n",
      "https://borsen.dk/nyheder/virksomheder/ukraine-krig-hvirvler-selskaber-ind-i-problemer-andre-steder?utm_source=seneste-nyt&utm_medium=row_1&utm_campaign=list_24\n",
      "https://borsen.dk/nyheder/ejendomme/ejendomme-hiver-pfas-afkast-op-i-krigstid?utm_source=seneste-nyt&utm_medium=row_1&utm_campaign=list_25\n",
      "https://borsen.dk/nyheder/virksomheder/novozymes-vil-oge-priserne-og-der-kan-komme-flere-justeringer?utm_source=seneste-nyt&utm_medium=row_1&utm_campaign=list_26\n",
      "https://borsen.dk/nyheder/virksomheder/nu-folger-stor-industrikoncern-trop-forlader-rusland-permanent?utm_source=seneste-nyt&utm_medium=row_1&utm_campaign=list_27\n",
      "https://borsen.dk/nyheder/markedsberetninger/fem-aktier-tager-fokus-torsdag-nyt-orsted-kursmaal-nedjustering-straffes-og-endnu-et-selskab-forlader-rusland?utm_source=seneste-nyt&utm_medium=row_1&utm_campaign=list_28\n",
      "https://borsen.dk/nyheder/opinion/krigens-okonomisk-konsekvens-kollapser-ruslands-okonomi?utm_source=seneste-nyt&utm_medium=row_1&utm_campaign=list_29\n",
      "https://borsen.dk/nyheder/okonomi/ledighed-rammer-laveste-niveau-siden-2008?utm_source=seneste-nyt&utm_medium=row_1&utm_campaign=list_30\n",
      "https://borsen.dk/nyheder/markedsberetninger/article2931653.ece?utm_source=seneste-nyt&utm_medium=row_1&utm_campaign=list_31\n",
      "https://borsen.dk/nyheder/virksomheder/aarsleff-forlader-rusland-og-ser-nedskrivning-paa-20-40-mio-kr?utm_source=seneste-nyt&utm_medium=row_1&utm_campaign=list_32\n",
      "https://borsen.dk/nyheder/virksomheder/detailkaempe-spaar-svaert-2022-det-er-et-haardt-og-presset-marked?utm_source=seneste-nyt&utm_medium=row_1&utm_campaign=list_33\n",
      "https://borsen.dk/nyheder/virksomheder/dagligvaregigant-opnaar-forste-overskud-i-ni-aar-oger-gaelden-med-over-halv-milliard?utm_source=seneste-nyt&utm_medium=row_1&utm_campaign=list_34\n",
      "https://borsen.dk/nyheder/virksomheder/ikonisk-vinhandel-i-kobenhavn-lander-bedste-regnskab-nogensinde?utm_source=seneste-nyt&utm_medium=row_1&utm_campaign=list_35\n",
      "https://borsen.dk/nyheder/pleasure/gron-koncert-er-tilbage-og-her-er-de-forste-to-navne-paa-plakaten?utm_source=seneste-nyt&utm_medium=row_1&utm_campaign=list_36\n",
      "https://borsen.dk/nyheder/okonomi/tysk-rente-i-plus-for-forste-gang-siden-2014-epoken-med-negative-renter-synger-paa-sidste-vers?utm_source=seneste-nyt&utm_medium=row_1&utm_campaign=list_37\n",
      "https://borsen.dk/nyheder/finans/butikskaeder-ser-frem-til-dankort-i-apple-pay?utm_source=seneste-nyt&utm_medium=row_1&utm_campaign=list_38\n",
      "https://borsen.dk/nyheder/finans/hver-femte-betaling-i-storbyerne-er-med-apple-pay?utm_source=seneste-nyt&utm_medium=row_1&utm_campaign=list_39\n",
      "https://borsen.dk/nyheder/markedsberetninger/asien-containerrederier-trodser-fald-i-tokyo?utm_source=seneste-nyt&utm_medium=row_1&utm_campaign=list_40\n",
      "https://borsen.dk/nyheder/udland/dag-36-i-ruslands-invasion-af-ukraine-her-er-hvad-du-skal-vide?utm_source=seneste-nyt&utm_medium=row_1&utm_campaign=list_41\n",
      "https://borsen.dk/nyheder/generelt/morgenbriefing-konflikt-om-gas-spidser-til-rockwool-bliver-i-rusland-tysk-inflation-hojeste-i-40-aar?utm_source=seneste-nyt&utm_medium=row_1&utm_campaign=list_42\n",
      "https://borsen.dk/nyheder/investor/milliardforvalter-ser-aktiemodvind-fra-kraftigt-lonpres?utm_source=seneste-nyt&utm_medium=row_1&utm_campaign=list_43\n",
      "https://borsen.dk/nyheder/generelt/regeringen-vil-give-medfaedre-samme-rettigheder-som-andre-foraeldre?utm_source=seneste-nyt&utm_medium=row_1&utm_campaign=list_44\n",
      "https://borsen.dk/nyheder/generelt/georgisk-republik-vil-stemme-om-at-blive-en-del-af-rusland?utm_source=seneste-nyt&utm_medium=row_1&utm_campaign=list_45\n",
      "https://borsen.dk/nyheder/generelt/biden-overvejer-at-oge-udbud-af-olie-for-at-daempe-prishop?utm_source=seneste-nyt&utm_medium=row_1&utm_campaign=list_46\n",
      "https://borsen.dk/nyheder/generelt/tunesiens-praesident-oploser-landets-parlament?utm_source=seneste-nyt&utm_medium=row_1&utm_campaign=list_47\n",
      "https://borsen.dk/nyheder/generelt/efterretninger-russiske-soldater-saboterer-eget-udstyr?utm_source=seneste-nyt&utm_medium=row_1&utm_campaign=list_48\n",
      "https://borsen.dk/nyheder/generelt/usa-russiske-styrker-traekker-sig-tilbage-fra-tjernobyl?utm_source=seneste-nyt&utm_medium=row_1&utm_campaign=list_49\n",
      "https://borsen.dk/nyheder/markedsberetninger/aktieluk-i-usa-bear-rallyet-endelig-stoppet-amazon-under-pres?utm_source=seneste-nyt&utm_medium=row_1&utm_campaign=list_50\n",
      "https://borsen.dk/nyheder/udland/sveriges-statsminister-aabner-for-nato-medlemskab?utm_source=seneste-nyt&utm_medium=row_1&utm_campaign=list_51\n",
      "https://borsen.dk/nyheder/politik/nu-kommer-de-mest-saarbare-flygtninge-uden-netvaerk?utm_source=seneste-nyt&utm_medium=row_1&utm_campaign=list_52\n",
      "https://borsen.dk/nyheder/baeredygtig/haard-kritik-eus-braksats-er-politisk-finte?utm_source=seneste-nyt&utm_medium=row_1&utm_campaign=list_53\n",
      "https://borsen.dk/nyheder/investor/kinesisk-teknologikaempe-risikerer-tvungen-afnotering-i-usa?utm_source=seneste-nyt&utm_medium=row_1&utm_campaign=list_54\n",
      "https://borsen.dk/nyheder/udland/en-lille-stemme-i-baghovedet?utm_source=seneste-nyt&utm_medium=row_1&utm_campaign=list_55\n",
      "https://borsen.dk/nyheder/virksomheder/di-der-har-vaeret-taet-dialog-med-virksomheder-om-gasnodplanen-i-danmark?utm_source=seneste-nyt&utm_medium=row_1&utm_campaign=list_56\n",
      "https://borsen.dk/nyheder/udland/hojspaendt-konflikt-om-rubler-for-russisk-gas-spidser-til?utm_source=seneste-nyt&utm_medium=row_1&utm_campaign=list_57\n",
      "https://borsen.dk/nyheder/investor/jeg-fejrer-mine-fejl-for-mig-er-fejl-lig-med-erfaring?utm_source=seneste-nyt&utm_medium=row_1&utm_campaign=list_58\n",
      "https://borsen.dk/nyheder/virksomheder/ivaerksaetterduo-indtager-nye-markeder-i-europa?utm_source=seneste-nyt&utm_medium=row_1&utm_campaign=list_59\n",
      "https://borsen.dk/nyheder/politik/sjaeldent-indblik-i-kattepote-omgang-med-kina?utm_source=seneste-nyt&utm_medium=row_1&utm_campaign=list_60\n",
      "https://borsen.dk/nyheder/finans/pensionsselskab-sender-dobbelt-saa-mange-kunder-paa-privathospital?utm_source=seneste-nyt&utm_medium=row_1&utm_campaign=list_61\n",
      "https://borsen.dk/nyheder/markedsberetninger/aktiestatus-i-usa-aktier-bakker-efter-stort-bear-rally?utm_source=seneste-nyt&utm_medium=row_1&utm_campaign=list_62\n",
      "https://borsen.dk/nyheder/virksomheder/genmab-topchef-kraever-respekt-af-partner?utm_source=seneste-nyt&utm_medium=row_1&utm_campaign=list_63\n",
      "https://borsen.dk/nyheder/markedsberetninger/aktier-i-europa-energiaktier-gik-frem-britisk-forlagsaktie-faldt?utm_source=seneste-nyt&utm_medium=row_1&utm_campaign=list_64\n",
      "https://borsen.dk/nyheder/investor/kritiseret-investeringsfirma-faar-laengere-snor?utm_source=seneste-nyt&utm_medium=row_1&utm_campaign=list_65\n",
      "https://borsen.dk/nyheder/okonomi/tysk-inflation-stiger-til-hojeste-niveau-siden-murens-fald-i-1989?utm_source=seneste-nyt&utm_medium=row_1&utm_campaign=list_66\n",
      "https://borsen.dk/nyheder/markedsberetninger/article2926612.ece?utm_source=seneste-nyt&utm_medium=row_1&utm_campaign=list_67\n",
      "https://borsen.dk/nyheder/virksomheder/flsmidth-forlader-rusland?utm_source=seneste-nyt&utm_medium=row_1&utm_campaign=list_68\n",
      "https://borsen.dk/nyheder/udland/putins-talsmand-kvaeler-optimisme-kan-intet-sige-om-noget-lovende-eller-noget-gennembrud?utm_source=seneste-nyt&utm_medium=row_1&utm_campaign=list_69\n",
      "https://borsen.dk/nyheder/markedsberetninger/aktieaabning-i-usa-lulu-og-micron-stiger-i-rodt-marked?utm_source=seneste-nyt&utm_medium=row_1&utm_campaign=list_70\n",
      "https://borsen.dk/nyheder/virksomheder/strategiskifte-koster-biotekchef-jobbet?utm_source=seneste-nyt&utm_medium=row_1&utm_campaign=list_71\n",
      "https://borsen.dk/nyheder/virksomheder/vestas-vil-serieproducere-ny-gigantmolle-paa-lindo?utm_source=seneste-nyt&utm_medium=row_1&utm_campaign=list_72\n",
      "https://borsen.dk/nyheder/finans/konkurrenceraadet-griber-ind-over-for-bankers-valutatillaeg?utm_source=seneste-nyt&utm_medium=row_1&utm_campaign=list_73\n",
      "https://borsen.dk/nyheder/virksomheder/dansk-kvantestartup-solgt-for-stort-millionbelob-vi-staar-midt-i-en-revolution?utm_source=seneste-nyt&utm_medium=row_1&utm_campaign=list_74\n",
      "https://borsen.dk/nyheder/virksomheder/kobenhavn-er-internationalt-knudepunkt?utm_source=seneste-nyt&utm_medium=row_1&utm_campaign=list_75\n",
      "https://borsen.dk/nyheder/virksomheder/saadan-fungerer-en-kvantecomputer?utm_source=seneste-nyt&utm_medium=row_1&utm_campaign=list_76\n",
      "https://borsen.dk/nyheder/opinion/debat-globalconnect-tor-du-invitere-en-indbrudstyv-ind-i-din-virksomhed?utm_source=seneste-nyt&utm_medium=row_1&utm_campaign=list_77\n",
      "https://borsen.dk/nyheder/finans/nyslaaet-forkvinde-for-helt-ny-bankbestyrelse-vil-holde-flere-moder?utm_source=seneste-nyt&utm_medium=row_1&utm_campaign=list_78\n",
      "https://borsen.dk/nyheder/finans/traditionsrigt-finanshus-lukker-efter-sygdom?utm_source=seneste-nyt&utm_medium=row_1&utm_campaign=list_79\n",
      "https://borsen.dk/nyheder/okonomi/har-du-glemt-alt-om-evergrande-kinas-okonomiske-kvaler-er-langtfra-overstaaet?utm_source=seneste-nyt&utm_medium=row_1&utm_campaign=list_80\n",
      "https://borsen.dk/nyheder/markedsberetninger/usatendens-lulu-micron-og-adp-tager-fokus-ved-ventet-minusaabning?utm_source=seneste-nyt&utm_medium=row_1&utm_campaign=list_81\n",
      "https://borsen.dk/nyheder/virksomheder/jysk-forlader-rusland?utm_source=seneste-nyt&utm_medium=row_1&utm_campaign=list_82\n",
      "https://borsen.dk/nyheder/virksomheder/rockwool-boss-vi-vil-vaere-paa-den-forkerte-side-af-historien-hvis-vi-giver-5-mia-kr-til-en-oligark?utm_source=seneste-nyt&utm_medium=row_1&utm_campaign=list_83\n",
      "https://borsen.dk/nyheder/markedsberetninger/aktier-i-europa-energiaktier-gaar-frem-britisk-forlagsaktie-dykker?utm_source=seneste-nyt&utm_medium=row_1&utm_campaign=list_84\n",
      "https://borsen.dk/nyheder/politik/eu-topembedsmand-ny-departementschef-i-udenrigsministeriet?utm_source=seneste-nyt&utm_medium=row_1&utm_campaign=list_85\n",
      "https://borsen.dk/nyheder/proselvstaendig/nordjyske-barndomsvenner-lander-tocifret-millioninvestering-naar-vi-har-ramt-20-vil-man-jo-gerne-ramme-100-mio-dollar-i-omsaetning?utm_source=seneste-nyt&utm_medium=row_1&utm_campaign=list_86\n",
      "https://borsen.dk/nyheder/markedsberetninger/aktiestatus-gronne-aktier-traekker-fra-i-toppen-af-let-stigende-c25?utm_source=seneste-nyt&utm_medium=row_1&utm_campaign=list_87\n",
      "https://borsen.dk/nyheder/virksomheder/sas-faar-ny-finansdirektor?utm_source=seneste-nyt&utm_medium=row_1&utm_campaign=list_88\n",
      "https://borsen.dk/nyheder/udland/jeg-ser-putin-som-et-rationelt-velforberedt-analytisk-og-intelligent-individ?utm_source=seneste-nyt&utm_medium=row_1&utm_campaign=list_89\n",
      "https://borsen.dk/nyheder/udland/borgmester-melder-om-bombeangreb-trods-ruslands-lofter-logn-fra-ende-til-anden?utm_source=seneste-nyt&utm_medium=row_1&utm_campaign=list_90\n",
      "https://borsen.dk/nyheder/politik/dan-jorgensen-efter-tysk-advarsel-om-mulig-gaskrise-vi-har-en-nodplan-klar?utm_source=seneste-nyt&utm_medium=row_1&utm_campaign=list_91\n",
      "https://borsen.dk/nyheder/virksomheder/bilka-sender-for-forste-gang-robotter-ind-i-butikken?utm_source=seneste-nyt&utm_medium=row_1&utm_campaign=list_92\n",
      "https://borsen.dk/nyheder/opinion/historisk-hoje-forbrugspriser-svaekker-os?utm_source=seneste-nyt&utm_medium=row_1&utm_campaign=list_93\n",
      "https://borsen.dk/nyheder/virksomheder/pandora-forlader-smykkeklub-paa-grund-af-rusland?utm_source=seneste-nyt&utm_medium=row_1&utm_campaign=list_94\n",
      "https://borsen.dk/nyheder/virksomheder/circle-k-vil-investere-milliarder-i-ladestandere-og-gronne-braendsler?utm_source=seneste-nyt&utm_medium=row_1&utm_campaign=list_95\n",
      "https://borsen.dk/nyheder/virksomheder/taarnhoje-rater-profitfesten-hos-rederierne-forlaenges?utm_source=seneste-nyt&utm_medium=row_1&utm_campaign=list_96\n",
      "https://borsen.dk/nyheder/opinion/hvidvaskreglerne-har-konsekvenser-for-banker-og-kunder?utm_source=seneste-nyt&utm_medium=row_1&utm_campaign=list_97\n",
      "https://borsen.dk/nyheder/politik/politisk-aftale-skruer-varmecheck-op-til-6000-kr?utm_source=seneste-nyt&utm_medium=row_1&utm_campaign=list_98\n",
      "https://borsen.dk/nyheder/ejendomme/investering-i-byudvikling-kan-lose-de-vilde-samfundsproblemer?utm_source=seneste-nyt&utm_medium=row_1&utm_campaign=list_99\n",
      "https://borsen.dk/nyheder/virksomheder/seks-topraadgivere-scorer-10-millioner-hver?utm_source=seneste-nyt&utm_medium=row_1&utm_campaign=list_100\n"
     ]
    },
    {
     "ename": "AttributeError",
     "evalue": "'NoneType' object has no attribute 'get'",
     "output_type": "error",
     "traceback": [
      "\u001b[1;31m---------------------------------------------------------------------------\u001b[0m",
      "\u001b[1;31mAttributeError\u001b[0m                            Traceback (most recent call last)",
      "\u001b[1;32mc:\\Users\\madsh\\OneDrive\\Code\\Python\\BiksStonks\\data_collectors\\python\\boersen_test.ipynb Cell 4'\u001b[0m in \u001b[0;36m<cell line: 1>\u001b[1;34m()\u001b[0m\n\u001b[0;32m      <a href='vscode-notebook-cell:/c%3A/Users/madsh/OneDrive/Code/Python/BiksStonks/data_collectors/python/boersen_test.ipynb#ch0000003?line=0'>1</a>\u001b[0m \u001b[39mfor\u001b[39;00m link \u001b[39min\u001b[39;00m soup\u001b[39m.\u001b[39mfind_all(\u001b[39m'\u001b[39m\u001b[39mli\u001b[39m\u001b[39m'\u001b[39m):\n\u001b[1;32m----> <a href='vscode-notebook-cell:/c%3A/Users/madsh/OneDrive/Code/Python/BiksStonks/data_collectors/python/boersen_test.ipynb#ch0000003?line=1'>2</a>\u001b[0m     \u001b[39mprint\u001b[39m(link\u001b[39m.\u001b[39;49ma\u001b[39m.\u001b[39;49mget(\u001b[39m'\u001b[39m\u001b[39mhref\u001b[39m\u001b[39m'\u001b[39m))\n",
      "\u001b[1;31mAttributeError\u001b[0m: 'NoneType' object has no attribute 'get'"
     ]
    }
   ],
   "source": [
    "for link in soup.find_all('li'):\n",
    "    print(link.a.get('href'))"
   ]
  }
 ],
 "metadata": {
  "interpreter": {
   "hash": "baac64b4617d4bbb717f934e51867625dfdfd5df01c333d626f5c6cf0fe3759c"
  },
  "kernelspec": {
   "display_name": "Python 3.8.10 ('env': venv)",
   "language": "python",
   "name": "python3"
  },
  "language_info": {
   "codemirror_mode": {
    "name": "ipython",
    "version": 3
   },
   "file_extension": ".py",
   "mimetype": "text/x-python",
   "name": "python",
   "nbconvert_exporter": "python",
   "pygments_lexer": "ipython3",
   "version": "3.8.10"
  },
  "orig_nbformat": 4
 },
 "nbformat": 4,
 "nbformat_minor": 2
}
